{
 "cells": [
  {
   "cell_type": "code",
   "execution_count": 1,
   "id": "4325dbf4-a448-4694-922c-109fe62be616",
   "metadata": {},
   "outputs": [
    {
     "name": "stderr",
     "output_type": "stream",
     "text": [
      "── \u001b[1mAttaching packages\u001b[22m ─────────────────────────────────────── tidyverse 1.3.2 ──\n",
      "\u001b[32m✔\u001b[39m \u001b[34mggplot2\u001b[39m 3.3.6      \u001b[32m✔\u001b[39m \u001b[34mpurrr  \u001b[39m 0.3.4 \n",
      "\u001b[32m✔\u001b[39m \u001b[34mtibble \u001b[39m 3.1.8      \u001b[32m✔\u001b[39m \u001b[34mdplyr  \u001b[39m 1.0.10\n",
      "\u001b[32m✔\u001b[39m \u001b[34mtidyr  \u001b[39m 1.2.1      \u001b[32m✔\u001b[39m \u001b[34mstringr\u001b[39m 1.4.1 \n",
      "\u001b[32m✔\u001b[39m \u001b[34mreadr  \u001b[39m 2.1.2      \u001b[32m✔\u001b[39m \u001b[34mforcats\u001b[39m 0.5.2 \n",
      "── \u001b[1mConflicts\u001b[22m ────────────────────────────────────────── tidyverse_conflicts() ──\n",
      "\u001b[31m✖\u001b[39m \u001b[34mdplyr\u001b[39m::\u001b[32mfilter()\u001b[39m masks \u001b[34mstats\u001b[39m::filter()\n",
      "\u001b[31m✖\u001b[39m \u001b[34mdplyr\u001b[39m::\u001b[32mlag()\u001b[39m    masks \u001b[34mstats\u001b[39m::lag()\n",
      "\n",
      "Attaching package: ‘gridExtra’\n",
      "\n",
      "\n",
      "The following object is masked from ‘package:dplyr’:\n",
      "\n",
      "    combine\n",
      "\n",
      "\n"
     ]
    }
   ],
   "source": [
    "# Add libraries\n",
    "library(tidyverse)\n",
    "library(repr)\n",
    "library(datateachr)\n",
    "library(digest)\n",
    "library(infer)\n",
    "library(gridExtra)\n",
    "library(cowplot)\n",
    "library(dplyr)\n",
    "library(broom)"
   ]
  },
  {
   "cell_type": "code",
   "execution_count": 2,
   "id": "0672b8ac-664f-450f-beb3-636ab5937a63",
   "metadata": {},
   "outputs": [
    {
     "data": {
      "text/html": [
       "<table class=\"dataframe\">\n",
       "<caption>A data.frame: 6 × 16</caption>\n",
       "<thead>\n",
       "\t<tr><th></th><th scope=col>GENDER</th><th scope=col>AGE</th><th scope=col>SMOKING</th><th scope=col>YELLOW_FINGERS</th><th scope=col>ANXIETY</th><th scope=col>PEER_PRESSURE</th><th scope=col>CHRONIC.DISEASE</th><th scope=col>FATIGUE</th><th scope=col>ALLERGY</th><th scope=col>WHEEZING</th><th scope=col>ALCOHOL.CONSUMING</th><th scope=col>COUGHING</th><th scope=col>SHORTNESS.OF.BREATH</th><th scope=col>SWALLOWING.DIFFICULTY</th><th scope=col>CHEST.PAIN</th><th scope=col>LUNG_CANCER</th></tr>\n",
       "\t<tr><th></th><th scope=col>&lt;chr&gt;</th><th scope=col>&lt;int&gt;</th><th scope=col>&lt;int&gt;</th><th scope=col>&lt;int&gt;</th><th scope=col>&lt;int&gt;</th><th scope=col>&lt;int&gt;</th><th scope=col>&lt;int&gt;</th><th scope=col>&lt;int&gt;</th><th scope=col>&lt;int&gt;</th><th scope=col>&lt;int&gt;</th><th scope=col>&lt;int&gt;</th><th scope=col>&lt;int&gt;</th><th scope=col>&lt;int&gt;</th><th scope=col>&lt;int&gt;</th><th scope=col>&lt;int&gt;</th><th scope=col>&lt;chr&gt;</th></tr>\n",
       "</thead>\n",
       "<tbody>\n",
       "\t<tr><th scope=row>1</th><td>M</td><td>69</td><td>1</td><td>2</td><td>2</td><td>1</td><td>1</td><td>2</td><td>1</td><td>2</td><td>2</td><td>2</td><td>2</td><td>2</td><td>2</td><td>YES</td></tr>\n",
       "\t<tr><th scope=row>2</th><td>M</td><td>74</td><td>2</td><td>1</td><td>1</td><td>1</td><td>2</td><td>2</td><td>2</td><td>1</td><td>1</td><td>1</td><td>2</td><td>2</td><td>2</td><td>YES</td></tr>\n",
       "\t<tr><th scope=row>3</th><td>F</td><td>59</td><td>1</td><td>1</td><td>1</td><td>2</td><td>1</td><td>2</td><td>1</td><td>2</td><td>1</td><td>2</td><td>2</td><td>1</td><td>2</td><td>NO </td></tr>\n",
       "\t<tr><th scope=row>4</th><td>M</td><td>63</td><td>2</td><td>2</td><td>2</td><td>1</td><td>1</td><td>1</td><td>1</td><td>1</td><td>2</td><td>1</td><td>1</td><td>2</td><td>2</td><td>NO </td></tr>\n",
       "\t<tr><th scope=row>5</th><td>F</td><td>63</td><td>1</td><td>2</td><td>1</td><td>1</td><td>1</td><td>1</td><td>1</td><td>2</td><td>1</td><td>2</td><td>2</td><td>1</td><td>1</td><td>NO </td></tr>\n",
       "\t<tr><th scope=row>6</th><td>F</td><td>75</td><td>1</td><td>2</td><td>1</td><td>1</td><td>2</td><td>2</td><td>2</td><td>2</td><td>1</td><td>2</td><td>2</td><td>1</td><td>1</td><td>YES</td></tr>\n",
       "</tbody>\n",
       "</table>\n"
      ],
      "text/latex": [
       "A data.frame: 6 × 16\n",
       "\\begin{tabular}{r|llllllllllllllll}\n",
       "  & GENDER & AGE & SMOKING & YELLOW\\_FINGERS & ANXIETY & PEER\\_PRESSURE & CHRONIC.DISEASE & FATIGUE & ALLERGY & WHEEZING & ALCOHOL.CONSUMING & COUGHING & SHORTNESS.OF.BREATH & SWALLOWING.DIFFICULTY & CHEST.PAIN & LUNG\\_CANCER\\\\\n",
       "  & <chr> & <int> & <int> & <int> & <int> & <int> & <int> & <int> & <int> & <int> & <int> & <int> & <int> & <int> & <int> & <chr>\\\\\n",
       "\\hline\n",
       "\t1 & M & 69 & 1 & 2 & 2 & 1 & 1 & 2 & 1 & 2 & 2 & 2 & 2 & 2 & 2 & YES\\\\\n",
       "\t2 & M & 74 & 2 & 1 & 1 & 1 & 2 & 2 & 2 & 1 & 1 & 1 & 2 & 2 & 2 & YES\\\\\n",
       "\t3 & F & 59 & 1 & 1 & 1 & 2 & 1 & 2 & 1 & 2 & 1 & 2 & 2 & 1 & 2 & NO \\\\\n",
       "\t4 & M & 63 & 2 & 2 & 2 & 1 & 1 & 1 & 1 & 1 & 2 & 1 & 1 & 2 & 2 & NO \\\\\n",
       "\t5 & F & 63 & 1 & 2 & 1 & 1 & 1 & 1 & 1 & 2 & 1 & 2 & 2 & 1 & 1 & NO \\\\\n",
       "\t6 & F & 75 & 1 & 2 & 1 & 1 & 2 & 2 & 2 & 2 & 1 & 2 & 2 & 1 & 1 & YES\\\\\n",
       "\\end{tabular}\n"
      ],
      "text/markdown": [
       "\n",
       "A data.frame: 6 × 16\n",
       "\n",
       "| <!--/--> | GENDER &lt;chr&gt; | AGE &lt;int&gt; | SMOKING &lt;int&gt; | YELLOW_FINGERS &lt;int&gt; | ANXIETY &lt;int&gt; | PEER_PRESSURE &lt;int&gt; | CHRONIC.DISEASE &lt;int&gt; | FATIGUE &lt;int&gt; | ALLERGY &lt;int&gt; | WHEEZING &lt;int&gt; | ALCOHOL.CONSUMING &lt;int&gt; | COUGHING &lt;int&gt; | SHORTNESS.OF.BREATH &lt;int&gt; | SWALLOWING.DIFFICULTY &lt;int&gt; | CHEST.PAIN &lt;int&gt; | LUNG_CANCER &lt;chr&gt; |\n",
       "|---|---|---|---|---|---|---|---|---|---|---|---|---|---|---|---|---|\n",
       "| 1 | M | 69 | 1 | 2 | 2 | 1 | 1 | 2 | 1 | 2 | 2 | 2 | 2 | 2 | 2 | YES |\n",
       "| 2 | M | 74 | 2 | 1 | 1 | 1 | 2 | 2 | 2 | 1 | 1 | 1 | 2 | 2 | 2 | YES |\n",
       "| 3 | F | 59 | 1 | 1 | 1 | 2 | 1 | 2 | 1 | 2 | 1 | 2 | 2 | 1 | 2 | NO  |\n",
       "| 4 | M | 63 | 2 | 2 | 2 | 1 | 1 | 1 | 1 | 1 | 2 | 1 | 1 | 2 | 2 | NO  |\n",
       "| 5 | F | 63 | 1 | 2 | 1 | 1 | 1 | 1 | 1 | 2 | 1 | 2 | 2 | 1 | 1 | NO  |\n",
       "| 6 | F | 75 | 1 | 2 | 1 | 1 | 2 | 2 | 2 | 2 | 1 | 2 | 2 | 1 | 1 | YES |\n",
       "\n"
      ],
      "text/plain": [
       "  GENDER AGE SMOKING YELLOW_FINGERS ANXIETY PEER_PRESSURE CHRONIC.DISEASE\n",
       "1 M      69  1       2              2       1             1              \n",
       "2 M      74  2       1              1       1             2              \n",
       "3 F      59  1       1              1       2             1              \n",
       "4 M      63  2       2              2       1             1              \n",
       "5 F      63  1       2              1       1             1              \n",
       "6 F      75  1       2              1       1             2              \n",
       "  FATIGUE ALLERGY WHEEZING ALCOHOL.CONSUMING COUGHING SHORTNESS.OF.BREATH\n",
       "1 2       1       2        2                 2        2                  \n",
       "2 2       2       1        1                 1        2                  \n",
       "3 2       1       2        1                 2        2                  \n",
       "4 1       1       1        2                 1        1                  \n",
       "5 1       1       2        1                 2        2                  \n",
       "6 2       2       2        1                 2        2                  \n",
       "  SWALLOWING.DIFFICULTY CHEST.PAIN LUNG_CANCER\n",
       "1 2                     2          YES        \n",
       "2 2                     2          YES        \n",
       "3 1                     2          NO         \n",
       "4 2                     2          NO         \n",
       "5 1                     1          NO         \n",
       "6 1                     1          YES        "
      ]
     },
     "metadata": {},
     "output_type": "display_data"
    }
   ],
   "source": [
    "# Read data from .csv file\n",
    "survey <- read.csv('survey lung cancer.csv')\n",
    "head(survey)"
   ]
  },
  {
   "cell_type": "code",
   "execution_count": 3,
   "id": "6a5fc4ba-e738-410c-9634-ab4ee94dabb5",
   "metadata": {},
   "outputs": [
    {
     "data": {
      "text/html": [
       "<table class=\"dataframe\">\n",
       "<caption>A data.frame: 6 × 15</caption>\n",
       "<thead>\n",
       "\t<tr><th></th><th scope=col>gender</th><th scope=col>age</th><th scope=col>smoking</th><th scope=col>yellow_fingers</th><th scope=col>anxiety</th><th scope=col>chronic_disease</th><th scope=col>fatigue</th><th scope=col>allergy</th><th scope=col>wheezing</th><th scope=col>alcohol_consuming</th><th scope=col>coughing</th><th scope=col>shortness_of_breath</th><th scope=col>swallowing_difficulty</th><th scope=col>chest_pain</th><th scope=col>lung_cancer</th></tr>\n",
       "\t<tr><th></th><th scope=col>&lt;chr&gt;</th><th scope=col>&lt;int&gt;</th><th scope=col>&lt;lgl&gt;</th><th scope=col>&lt;lgl&gt;</th><th scope=col>&lt;lgl&gt;</th><th scope=col>&lt;lgl&gt;</th><th scope=col>&lt;lgl&gt;</th><th scope=col>&lt;lgl&gt;</th><th scope=col>&lt;lgl&gt;</th><th scope=col>&lt;lgl&gt;</th><th scope=col>&lt;lgl&gt;</th><th scope=col>&lt;lgl&gt;</th><th scope=col>&lt;lgl&gt;</th><th scope=col>&lt;lgl&gt;</th><th scope=col>&lt;lgl&gt;</th></tr>\n",
       "</thead>\n",
       "<tbody>\n",
       "\t<tr><th scope=row>1</th><td>M</td><td>69</td><td>FALSE</td><td> TRUE</td><td> TRUE</td><td>FALSE</td><td> TRUE</td><td>FALSE</td><td> TRUE</td><td> TRUE</td><td> TRUE</td><td> TRUE</td><td> TRUE</td><td> TRUE</td><td> TRUE</td></tr>\n",
       "\t<tr><th scope=row>2</th><td>M</td><td>74</td><td> TRUE</td><td>FALSE</td><td>FALSE</td><td> TRUE</td><td> TRUE</td><td> TRUE</td><td>FALSE</td><td>FALSE</td><td>FALSE</td><td> TRUE</td><td> TRUE</td><td> TRUE</td><td> TRUE</td></tr>\n",
       "\t<tr><th scope=row>3</th><td>F</td><td>59</td><td>FALSE</td><td>FALSE</td><td>FALSE</td><td>FALSE</td><td> TRUE</td><td>FALSE</td><td> TRUE</td><td>FALSE</td><td> TRUE</td><td> TRUE</td><td>FALSE</td><td> TRUE</td><td>FALSE</td></tr>\n",
       "\t<tr><th scope=row>4</th><td>M</td><td>63</td><td> TRUE</td><td> TRUE</td><td> TRUE</td><td>FALSE</td><td>FALSE</td><td>FALSE</td><td>FALSE</td><td> TRUE</td><td>FALSE</td><td>FALSE</td><td> TRUE</td><td> TRUE</td><td>FALSE</td></tr>\n",
       "\t<tr><th scope=row>5</th><td>F</td><td>63</td><td>FALSE</td><td> TRUE</td><td>FALSE</td><td>FALSE</td><td>FALSE</td><td>FALSE</td><td> TRUE</td><td>FALSE</td><td> TRUE</td><td> TRUE</td><td>FALSE</td><td>FALSE</td><td>FALSE</td></tr>\n",
       "\t<tr><th scope=row>6</th><td>F</td><td>75</td><td>FALSE</td><td> TRUE</td><td>FALSE</td><td> TRUE</td><td> TRUE</td><td> TRUE</td><td> TRUE</td><td>FALSE</td><td> TRUE</td><td> TRUE</td><td>FALSE</td><td>FALSE</td><td> TRUE</td></tr>\n",
       "</tbody>\n",
       "</table>\n"
      ],
      "text/latex": [
       "A data.frame: 6 × 15\n",
       "\\begin{tabular}{r|lllllllllllllll}\n",
       "  & gender & age & smoking & yellow\\_fingers & anxiety & chronic\\_disease & fatigue & allergy & wheezing & alcohol\\_consuming & coughing & shortness\\_of\\_breath & swallowing\\_difficulty & chest\\_pain & lung\\_cancer\\\\\n",
       "  & <chr> & <int> & <lgl> & <lgl> & <lgl> & <lgl> & <lgl> & <lgl> & <lgl> & <lgl> & <lgl> & <lgl> & <lgl> & <lgl> & <lgl>\\\\\n",
       "\\hline\n",
       "\t1 & M & 69 & FALSE &  TRUE &  TRUE & FALSE &  TRUE & FALSE &  TRUE &  TRUE &  TRUE &  TRUE &  TRUE &  TRUE &  TRUE\\\\\n",
       "\t2 & M & 74 &  TRUE & FALSE & FALSE &  TRUE &  TRUE &  TRUE & FALSE & FALSE & FALSE &  TRUE &  TRUE &  TRUE &  TRUE\\\\\n",
       "\t3 & F & 59 & FALSE & FALSE & FALSE & FALSE &  TRUE & FALSE &  TRUE & FALSE &  TRUE &  TRUE & FALSE &  TRUE & FALSE\\\\\n",
       "\t4 & M & 63 &  TRUE &  TRUE &  TRUE & FALSE & FALSE & FALSE & FALSE &  TRUE & FALSE & FALSE &  TRUE &  TRUE & FALSE\\\\\n",
       "\t5 & F & 63 & FALSE &  TRUE & FALSE & FALSE & FALSE & FALSE &  TRUE & FALSE &  TRUE &  TRUE & FALSE & FALSE & FALSE\\\\\n",
       "\t6 & F & 75 & FALSE &  TRUE & FALSE &  TRUE &  TRUE &  TRUE &  TRUE & FALSE &  TRUE &  TRUE & FALSE & FALSE &  TRUE\\\\\n",
       "\\end{tabular}\n"
      ],
      "text/markdown": [
       "\n",
       "A data.frame: 6 × 15\n",
       "\n",
       "| <!--/--> | gender &lt;chr&gt; | age &lt;int&gt; | smoking &lt;lgl&gt; | yellow_fingers &lt;lgl&gt; | anxiety &lt;lgl&gt; | chronic_disease &lt;lgl&gt; | fatigue &lt;lgl&gt; | allergy &lt;lgl&gt; | wheezing &lt;lgl&gt; | alcohol_consuming &lt;lgl&gt; | coughing &lt;lgl&gt; | shortness_of_breath &lt;lgl&gt; | swallowing_difficulty &lt;lgl&gt; | chest_pain &lt;lgl&gt; | lung_cancer &lt;lgl&gt; |\n",
       "|---|---|---|---|---|---|---|---|---|---|---|---|---|---|---|---|\n",
       "| 1 | M | 69 | FALSE |  TRUE |  TRUE | FALSE |  TRUE | FALSE |  TRUE |  TRUE |  TRUE |  TRUE |  TRUE |  TRUE |  TRUE |\n",
       "| 2 | M | 74 |  TRUE | FALSE | FALSE |  TRUE |  TRUE |  TRUE | FALSE | FALSE | FALSE |  TRUE |  TRUE |  TRUE |  TRUE |\n",
       "| 3 | F | 59 | FALSE | FALSE | FALSE | FALSE |  TRUE | FALSE |  TRUE | FALSE |  TRUE |  TRUE | FALSE |  TRUE | FALSE |\n",
       "| 4 | M | 63 |  TRUE |  TRUE |  TRUE | FALSE | FALSE | FALSE | FALSE |  TRUE | FALSE | FALSE |  TRUE |  TRUE | FALSE |\n",
       "| 5 | F | 63 | FALSE |  TRUE | FALSE | FALSE | FALSE | FALSE |  TRUE | FALSE |  TRUE |  TRUE | FALSE | FALSE | FALSE |\n",
       "| 6 | F | 75 | FALSE |  TRUE | FALSE |  TRUE |  TRUE |  TRUE |  TRUE | FALSE |  TRUE |  TRUE | FALSE | FALSE |  TRUE |\n",
       "\n"
      ],
      "text/plain": [
       "  gender age smoking yellow_fingers anxiety chronic_disease fatigue allergy\n",
       "1 M      69  FALSE    TRUE           TRUE   FALSE            TRUE   FALSE  \n",
       "2 M      74   TRUE   FALSE          FALSE    TRUE            TRUE    TRUE  \n",
       "3 F      59  FALSE   FALSE          FALSE   FALSE            TRUE   FALSE  \n",
       "4 M      63   TRUE    TRUE           TRUE   FALSE           FALSE   FALSE  \n",
       "5 F      63  FALSE    TRUE          FALSE   FALSE           FALSE   FALSE  \n",
       "6 F      75  FALSE    TRUE          FALSE    TRUE            TRUE    TRUE  \n",
       "  wheezing alcohol_consuming coughing shortness_of_breath swallowing_difficulty\n",
       "1  TRUE     TRUE              TRUE     TRUE                TRUE                \n",
       "2 FALSE    FALSE             FALSE     TRUE                TRUE                \n",
       "3  TRUE    FALSE              TRUE     TRUE               FALSE                \n",
       "4 FALSE     TRUE             FALSE    FALSE                TRUE                \n",
       "5  TRUE    FALSE              TRUE     TRUE               FALSE                \n",
       "6  TRUE    FALSE              TRUE     TRUE               FALSE                \n",
       "  chest_pain lung_cancer\n",
       "1  TRUE       TRUE      \n",
       "2  TRUE       TRUE      \n",
       "3  TRUE      FALSE      \n",
       "4  TRUE      FALSE      \n",
       "5 FALSE      FALSE      \n",
       "6 FALSE       TRUE      "
      ]
     },
     "metadata": {},
     "output_type": "display_data"
    }
   ],
   "source": [
    "# Change most of the variables to boolean variables instead of integer or string variables\n",
    "survey_2 <- survey %>%\n",
    "    summarize(gender = GENDER,\n",
    "              age = AGE,\n",
    "              smoking = SMOKING - 1 == 1,\n",
    "              yellow_fingers = YELLOW_FINGERS - 1 == 1,\n",
    "              anxiety = ANXIETY - 1 == 1,\n",
    "              chronic_disease = CHRONIC.DISEASE - 1 == 1,\n",
    "              fatigue = FATIGUE - 1 == 1,\n",
    "              allergy = ALLERGY - 1 == 1,\n",
    "              wheezing = WHEEZING - 1 == 1,\n",
    "              alcohol_consuming = ALCOHOL.CONSUMING - 1 == 1,\n",
    "              coughing = COUGHING - 1 == 1,\n",
    "              shortness_of_breath = SHORTNESS.OF.BREATH - 1 == 1,\n",
    "              swallowing_difficulty = SWALLOWING.DIFFICULTY - 1 == 1,\n",
    "              chest_pain = CHEST.PAIN - 1 == 1,\n",
    "              lung_cancer = LUNG_CANCER == \"YES\"\n",
    "             )\n",
    "head(survey_2)"
   ]
  },
  {
   "cell_type": "code",
   "execution_count": 4,
   "id": "8c0e1455-7c68-44ae-b9a9-539c726591f2",
   "metadata": {},
   "outputs": [
    {
     "data": {
      "text/html": [
       "<table class=\"dataframe\">\n",
       "<caption>A data.frame: 6 × 5</caption>\n",
       "<thead>\n",
       "\t<tr><th></th><th scope=col>gender</th><th scope=col>none</th><th scope=col>only_smoking</th><th scope=col>only_drinking</th><th scope=col>both</th></tr>\n",
       "\t<tr><th></th><th scope=col>&lt;chr&gt;</th><th scope=col>&lt;lgl&gt;</th><th scope=col>&lt;lgl&gt;</th><th scope=col>&lt;lgl&gt;</th><th scope=col>&lt;lgl&gt;</th></tr>\n",
       "</thead>\n",
       "<tbody>\n",
       "\t<tr><th scope=row>1</th><td>M</td><td>FALSE</td><td>FALSE</td><td> TRUE</td><td>FALSE</td></tr>\n",
       "\t<tr><th scope=row>2</th><td>M</td><td>FALSE</td><td> TRUE</td><td>FALSE</td><td>FALSE</td></tr>\n",
       "\t<tr><th scope=row>3</th><td>F</td><td> TRUE</td><td>FALSE</td><td>FALSE</td><td>FALSE</td></tr>\n",
       "\t<tr><th scope=row>4</th><td>M</td><td>FALSE</td><td>FALSE</td><td>FALSE</td><td> TRUE</td></tr>\n",
       "\t<tr><th scope=row>5</th><td>F</td><td>FALSE</td><td> TRUE</td><td>FALSE</td><td>FALSE</td></tr>\n",
       "\t<tr><th scope=row>6</th><td>M</td><td>FALSE</td><td>FALSE</td><td>FALSE</td><td> TRUE</td></tr>\n",
       "</tbody>\n",
       "</table>\n"
      ],
      "text/latex": [
       "A data.frame: 6 × 5\n",
       "\\begin{tabular}{r|lllll}\n",
       "  & gender & none & only\\_smoking & only\\_drinking & both\\\\\n",
       "  & <chr> & <lgl> & <lgl> & <lgl> & <lgl>\\\\\n",
       "\\hline\n",
       "\t1 & M & FALSE & FALSE &  TRUE & FALSE\\\\\n",
       "\t2 & M & FALSE &  TRUE & FALSE & FALSE\\\\\n",
       "\t3 & F &  TRUE & FALSE & FALSE & FALSE\\\\\n",
       "\t4 & M & FALSE & FALSE & FALSE &  TRUE\\\\\n",
       "\t5 & F & FALSE &  TRUE & FALSE & FALSE\\\\\n",
       "\t6 & M & FALSE & FALSE & FALSE &  TRUE\\\\\n",
       "\\end{tabular}\n"
      ],
      "text/markdown": [
       "\n",
       "A data.frame: 6 × 5\n",
       "\n",
       "| <!--/--> | gender &lt;chr&gt; | none &lt;lgl&gt; | only_smoking &lt;lgl&gt; | only_drinking &lt;lgl&gt; | both &lt;lgl&gt; |\n",
       "|---|---|---|---|---|---|\n",
       "| 1 | M | FALSE | FALSE |  TRUE | FALSE |\n",
       "| 2 | M | FALSE |  TRUE | FALSE | FALSE |\n",
       "| 3 | F |  TRUE | FALSE | FALSE | FALSE |\n",
       "| 4 | M | FALSE | FALSE | FALSE |  TRUE |\n",
       "| 5 | F | FALSE |  TRUE | FALSE | FALSE |\n",
       "| 6 | M | FALSE | FALSE | FALSE |  TRUE |\n",
       "\n"
      ],
      "text/plain": [
       "  gender none  only_smoking only_drinking both \n",
       "1 M      FALSE FALSE         TRUE         FALSE\n",
       "2 M      FALSE  TRUE        FALSE         FALSE\n",
       "3 F       TRUE FALSE        FALSE         FALSE\n",
       "4 M      FALSE FALSE        FALSE          TRUE\n",
       "5 F      FALSE  TRUE        FALSE         FALSE\n",
       "6 M      FALSE FALSE        FALSE          TRUE"
      ]
     },
     "metadata": {},
     "output_type": "display_data"
    }
   ],
   "source": [
    "# Clean and wrangle data; we are only interested in people who have lung cancer and whether or not they smoked and/or consumed alcohol\n",
    "# We mutate the data this way to properly separate all combinations of smoking and drinking\n",
    "# We want the difference in proportions for only smoking minus only drinking\n",
    "survey_clean_wrangled <- survey_2 %>%\n",
    "    filter(lung_cancer == TRUE) %>%\n",
    "    select(gender, smoking, alcohol_consuming) %>%\n",
    "    mutate(none = !smoking & !alcohol_consuming,\n",
    "           only_smoking = smoking & !alcohol_consuming,\n",
    "           only_drinking = !smoking & alcohol_consuming,\n",
    "           both = smoking & alcohol_consuming) %>%\n",
    "    select(-alcohol_consuming, -smoking)\n",
    "\n",
    "head(survey_clean_wrangled)"
   ]
  },
  {
   "cell_type": "code",
   "execution_count": 5,
   "id": "9cd0cf5a-d985-43e8-b9b9-147a604671b0",
   "metadata": {},
   "outputs": [
    {
     "data": {
      "text/html": [
       "<table class=\"dataframe\">\n",
       "<caption>A grouped_df: 6 × 5</caption>\n",
       "<thead>\n",
       "\t<tr><th scope=col>replicate</th><th scope=col>none</th><th scope=col>only_smoking</th><th scope=col>only_drinking</th><th scope=col>both</th></tr>\n",
       "\t<tr><th scope=col>&lt;int&gt;</th><th scope=col>&lt;lgl&gt;</th><th scope=col>&lt;lgl&gt;</th><th scope=col>&lt;lgl&gt;</th><th scope=col>&lt;lgl&gt;</th></tr>\n",
       "</thead>\n",
       "<tbody>\n",
       "\t<tr><td>1</td><td>FALSE</td><td>FALSE</td><td>FALSE</td><td> TRUE</td></tr>\n",
       "\t<tr><td>1</td><td>FALSE</td><td>FALSE</td><td> TRUE</td><td>FALSE</td></tr>\n",
       "\t<tr><td>1</td><td>FALSE</td><td> TRUE</td><td>FALSE</td><td>FALSE</td></tr>\n",
       "\t<tr><td>1</td><td> TRUE</td><td>FALSE</td><td>FALSE</td><td>FALSE</td></tr>\n",
       "\t<tr><td>1</td><td>FALSE</td><td>FALSE</td><td> TRUE</td><td>FALSE</td></tr>\n",
       "\t<tr><td>1</td><td>FALSE</td><td>FALSE</td><td> TRUE</td><td>FALSE</td></tr>\n",
       "</tbody>\n",
       "</table>\n"
      ],
      "text/latex": [
       "A grouped\\_df: 6 × 5\n",
       "\\begin{tabular}{lllll}\n",
       " replicate & none & only\\_smoking & only\\_drinking & both\\\\\n",
       " <int> & <lgl> & <lgl> & <lgl> & <lgl>\\\\\n",
       "\\hline\n",
       "\t 1 & FALSE & FALSE & FALSE &  TRUE\\\\\n",
       "\t 1 & FALSE & FALSE &  TRUE & FALSE\\\\\n",
       "\t 1 & FALSE &  TRUE & FALSE & FALSE\\\\\n",
       "\t 1 &  TRUE & FALSE & FALSE & FALSE\\\\\n",
       "\t 1 & FALSE & FALSE &  TRUE & FALSE\\\\\n",
       "\t 1 & FALSE & FALSE &  TRUE & FALSE\\\\\n",
       "\\end{tabular}\n"
      ],
      "text/markdown": [
       "\n",
       "A grouped_df: 6 × 5\n",
       "\n",
       "| replicate &lt;int&gt; | none &lt;lgl&gt; | only_smoking &lt;lgl&gt; | only_drinking &lt;lgl&gt; | both &lt;lgl&gt; |\n",
       "|---|---|---|---|---|\n",
       "| 1 | FALSE | FALSE | FALSE |  TRUE |\n",
       "| 1 | FALSE | FALSE |  TRUE | FALSE |\n",
       "| 1 | FALSE |  TRUE | FALSE | FALSE |\n",
       "| 1 |  TRUE | FALSE | FALSE | FALSE |\n",
       "| 1 | FALSE | FALSE |  TRUE | FALSE |\n",
       "| 1 | FALSE | FALSE |  TRUE | FALSE |\n",
       "\n"
      ],
      "text/plain": [
       "  replicate none  only_smoking only_drinking both \n",
       "1 1         FALSE FALSE        FALSE          TRUE\n",
       "2 1         FALSE FALSE         TRUE         FALSE\n",
       "3 1         FALSE  TRUE        FALSE         FALSE\n",
       "4 1          TRUE FALSE        FALSE         FALSE\n",
       "5 1         FALSE FALSE         TRUE         FALSE\n",
       "6 1         FALSE FALSE         TRUE         FALSE"
      ]
     },
     "metadata": {},
     "output_type": "display_data"
    },
    {
     "data": {
      "text/html": [
       "<table class=\"dataframe\">\n",
       "<caption>A grouped_df: 6 × 5</caption>\n",
       "<thead>\n",
       "\t<tr><th scope=col>replicate</th><th scope=col>none</th><th scope=col>only_smoking</th><th scope=col>only_drinking</th><th scope=col>both</th></tr>\n",
       "\t<tr><th scope=col>&lt;int&gt;</th><th scope=col>&lt;lgl&gt;</th><th scope=col>&lt;lgl&gt;</th><th scope=col>&lt;lgl&gt;</th><th scope=col>&lt;lgl&gt;</th></tr>\n",
       "</thead>\n",
       "<tbody>\n",
       "\t<tr><td>1</td><td>FALSE</td><td>FALSE</td><td> TRUE</td><td>FALSE</td></tr>\n",
       "\t<tr><td>1</td><td>FALSE</td><td>FALSE</td><td>FALSE</td><td> TRUE</td></tr>\n",
       "\t<tr><td>1</td><td> TRUE</td><td>FALSE</td><td>FALSE</td><td>FALSE</td></tr>\n",
       "\t<tr><td>1</td><td>FALSE</td><td> TRUE</td><td>FALSE</td><td>FALSE</td></tr>\n",
       "\t<tr><td>1</td><td>FALSE</td><td>FALSE</td><td> TRUE</td><td>FALSE</td></tr>\n",
       "\t<tr><td>1</td><td>FALSE</td><td>FALSE</td><td>FALSE</td><td> TRUE</td></tr>\n",
       "</tbody>\n",
       "</table>\n"
      ],
      "text/latex": [
       "A grouped\\_df: 6 × 5\n",
       "\\begin{tabular}{lllll}\n",
       " replicate & none & only\\_smoking & only\\_drinking & both\\\\\n",
       " <int> & <lgl> & <lgl> & <lgl> & <lgl>\\\\\n",
       "\\hline\n",
       "\t 1 & FALSE & FALSE &  TRUE & FALSE\\\\\n",
       "\t 1 & FALSE & FALSE & FALSE &  TRUE\\\\\n",
       "\t 1 &  TRUE & FALSE & FALSE & FALSE\\\\\n",
       "\t 1 & FALSE &  TRUE & FALSE & FALSE\\\\\n",
       "\t 1 & FALSE & FALSE &  TRUE & FALSE\\\\\n",
       "\t 1 & FALSE & FALSE & FALSE &  TRUE\\\\\n",
       "\\end{tabular}\n"
      ],
      "text/markdown": [
       "\n",
       "A grouped_df: 6 × 5\n",
       "\n",
       "| replicate &lt;int&gt; | none &lt;lgl&gt; | only_smoking &lt;lgl&gt; | only_drinking &lt;lgl&gt; | both &lt;lgl&gt; |\n",
       "|---|---|---|---|---|\n",
       "| 1 | FALSE | FALSE |  TRUE | FALSE |\n",
       "| 1 | FALSE | FALSE | FALSE |  TRUE |\n",
       "| 1 |  TRUE | FALSE | FALSE | FALSE |\n",
       "| 1 | FALSE |  TRUE | FALSE | FALSE |\n",
       "| 1 | FALSE | FALSE |  TRUE | FALSE |\n",
       "| 1 | FALSE | FALSE | FALSE |  TRUE |\n",
       "\n"
      ],
      "text/plain": [
       "  replicate none  only_smoking only_drinking both \n",
       "1 1         FALSE FALSE         TRUE         FALSE\n",
       "2 1         FALSE FALSE        FALSE          TRUE\n",
       "3 1          TRUE FALSE        FALSE         FALSE\n",
       "4 1         FALSE  TRUE        FALSE         FALSE\n",
       "5 1         FALSE FALSE         TRUE         FALSE\n",
       "6 1         FALSE FALSE        FALSE          TRUE"
      ]
     },
     "metadata": {},
     "output_type": "display_data"
    }
   ],
   "source": [
    "# Separate the genders\n",
    "# Create bootstrap distributions using the clean and wrangled data\n",
    "set.seed(1)\n",
    "survey_female <- survey_clean_wrangled %>%\n",
    "    filter(gender == \"F\") %>%\n",
    "    select(-gender)\n",
    "\n",
    "bootstrap_survey_female <- survey_female %>%\n",
    "    rep_sample_n(size = nrow(survey_female), reps = 1000, replace = TRUE)\n",
    "\n",
    "\n",
    "set.seed(1)\n",
    "survey_male <- survey_clean_wrangled %>%\n",
    "    filter(gender == \"M\") %>%\n",
    "    select(-gender)\n",
    "\n",
    "bootstrap_survey_male <- survey_male %>%\n",
    "    rep_sample_n(size = nrow(survey_male), reps = 1000, replace = TRUE)\n",
    "\n",
    "\n",
    "head(bootstrap_survey_female)\n",
    "head(bootstrap_survey_male)"
   ]
  },
  {
   "cell_type": "code",
   "execution_count": 6,
   "id": "d748d6a9-1526-4925-b073-1dbf1a842ee3",
   "metadata": {},
   "outputs": [
    {
     "data": {
      "text/html": [
       "<table class=\"dataframe\">\n",
       "<caption>A tibble: 6 × 5</caption>\n",
       "<thead>\n",
       "\t<tr><th scope=col>replicate</th><th scope=col>num_only_smoking</th><th scope=col>num_only_drinking</th><th scope=col>prop_only_smoking</th><th scope=col>prop_only_drinking</th></tr>\n",
       "\t<tr><th scope=col>&lt;int&gt;</th><th scope=col>&lt;int&gt;</th><th scope=col>&lt;int&gt;</th><th scope=col>&lt;dbl&gt;</th><th scope=col>&lt;dbl&gt;</th></tr>\n",
       "</thead>\n",
       "<tbody>\n",
       "\t<tr><td>1</td><td>44</td><td>22</td><td>0.352</td><td>0.176</td></tr>\n",
       "\t<tr><td>2</td><td>53</td><td>24</td><td>0.424</td><td>0.192</td></tr>\n",
       "\t<tr><td>3</td><td>61</td><td>24</td><td>0.488</td><td>0.192</td></tr>\n",
       "\t<tr><td>4</td><td>49</td><td>29</td><td>0.392</td><td>0.232</td></tr>\n",
       "\t<tr><td>5</td><td>54</td><td>27</td><td>0.432</td><td>0.216</td></tr>\n",
       "\t<tr><td>6</td><td>60</td><td>19</td><td>0.480</td><td>0.152</td></tr>\n",
       "</tbody>\n",
       "</table>\n"
      ],
      "text/latex": [
       "A tibble: 6 × 5\n",
       "\\begin{tabular}{lllll}\n",
       " replicate & num\\_only\\_smoking & num\\_only\\_drinking & prop\\_only\\_smoking & prop\\_only\\_drinking\\\\\n",
       " <int> & <int> & <int> & <dbl> & <dbl>\\\\\n",
       "\\hline\n",
       "\t 1 & 44 & 22 & 0.352 & 0.176\\\\\n",
       "\t 2 & 53 & 24 & 0.424 & 0.192\\\\\n",
       "\t 3 & 61 & 24 & 0.488 & 0.192\\\\\n",
       "\t 4 & 49 & 29 & 0.392 & 0.232\\\\\n",
       "\t 5 & 54 & 27 & 0.432 & 0.216\\\\\n",
       "\t 6 & 60 & 19 & 0.480 & 0.152\\\\\n",
       "\\end{tabular}\n"
      ],
      "text/markdown": [
       "\n",
       "A tibble: 6 × 5\n",
       "\n",
       "| replicate &lt;int&gt; | num_only_smoking &lt;int&gt; | num_only_drinking &lt;int&gt; | prop_only_smoking &lt;dbl&gt; | prop_only_drinking &lt;dbl&gt; |\n",
       "|---|---|---|---|---|\n",
       "| 1 | 44 | 22 | 0.352 | 0.176 |\n",
       "| 2 | 53 | 24 | 0.424 | 0.192 |\n",
       "| 3 | 61 | 24 | 0.488 | 0.192 |\n",
       "| 4 | 49 | 29 | 0.392 | 0.232 |\n",
       "| 5 | 54 | 27 | 0.432 | 0.216 |\n",
       "| 6 | 60 | 19 | 0.480 | 0.152 |\n",
       "\n"
      ],
      "text/plain": [
       "  replicate num_only_smoking num_only_drinking prop_only_smoking\n",
       "1 1         44               22                0.352            \n",
       "2 2         53               24                0.424            \n",
       "3 3         61               24                0.488            \n",
       "4 4         49               29                0.392            \n",
       "5 5         54               27                0.432            \n",
       "6 6         60               19                0.480            \n",
       "  prop_only_drinking\n",
       "1 0.176             \n",
       "2 0.192             \n",
       "3 0.192             \n",
       "4 0.232             \n",
       "5 0.216             \n",
       "6 0.152             "
      ]
     },
     "metadata": {},
     "output_type": "display_data"
    },
    {
     "data": {
      "text/html": [
       "<table class=\"dataframe\">\n",
       "<caption>A tibble: 6 × 5</caption>\n",
       "<thead>\n",
       "\t<tr><th scope=col>replicate</th><th scope=col>num_only_smoking</th><th scope=col>num_only_drinking</th><th scope=col>prop_only_smoking</th><th scope=col>prop_only_drinking</th></tr>\n",
       "\t<tr><th scope=col>&lt;int&gt;</th><th scope=col>&lt;int&gt;</th><th scope=col>&lt;int&gt;</th><th scope=col>&lt;dbl&gt;</th><th scope=col>&lt;dbl&gt;</th></tr>\n",
       "</thead>\n",
       "<tbody>\n",
       "\t<tr><td>1</td><td>16</td><td>50</td><td>0.11034483</td><td>0.3448276</td></tr>\n",
       "\t<tr><td>2</td><td>14</td><td>53</td><td>0.09655172</td><td>0.3655172</td></tr>\n",
       "\t<tr><td>3</td><td>16</td><td>46</td><td>0.11034483</td><td>0.3172414</td></tr>\n",
       "\t<tr><td>4</td><td>12</td><td>49</td><td>0.08275862</td><td>0.3379310</td></tr>\n",
       "\t<tr><td>5</td><td>12</td><td>41</td><td>0.08275862</td><td>0.2827586</td></tr>\n",
       "\t<tr><td>6</td><td>20</td><td>48</td><td>0.13793103</td><td>0.3310345</td></tr>\n",
       "</tbody>\n",
       "</table>\n"
      ],
      "text/latex": [
       "A tibble: 6 × 5\n",
       "\\begin{tabular}{lllll}\n",
       " replicate & num\\_only\\_smoking & num\\_only\\_drinking & prop\\_only\\_smoking & prop\\_only\\_drinking\\\\\n",
       " <int> & <int> & <int> & <dbl> & <dbl>\\\\\n",
       "\\hline\n",
       "\t 1 & 16 & 50 & 0.11034483 & 0.3448276\\\\\n",
       "\t 2 & 14 & 53 & 0.09655172 & 0.3655172\\\\\n",
       "\t 3 & 16 & 46 & 0.11034483 & 0.3172414\\\\\n",
       "\t 4 & 12 & 49 & 0.08275862 & 0.3379310\\\\\n",
       "\t 5 & 12 & 41 & 0.08275862 & 0.2827586\\\\\n",
       "\t 6 & 20 & 48 & 0.13793103 & 0.3310345\\\\\n",
       "\\end{tabular}\n"
      ],
      "text/markdown": [
       "\n",
       "A tibble: 6 × 5\n",
       "\n",
       "| replicate &lt;int&gt; | num_only_smoking &lt;int&gt; | num_only_drinking &lt;int&gt; | prop_only_smoking &lt;dbl&gt; | prop_only_drinking &lt;dbl&gt; |\n",
       "|---|---|---|---|---|\n",
       "| 1 | 16 | 50 | 0.11034483 | 0.3448276 |\n",
       "| 2 | 14 | 53 | 0.09655172 | 0.3655172 |\n",
       "| 3 | 16 | 46 | 0.11034483 | 0.3172414 |\n",
       "| 4 | 12 | 49 | 0.08275862 | 0.3379310 |\n",
       "| 5 | 12 | 41 | 0.08275862 | 0.2827586 |\n",
       "| 6 | 20 | 48 | 0.13793103 | 0.3310345 |\n",
       "\n"
      ],
      "text/plain": [
       "  replicate num_only_smoking num_only_drinking prop_only_smoking\n",
       "1 1         16               50                0.11034483       \n",
       "2 2         14               53                0.09655172       \n",
       "3 3         16               46                0.11034483       \n",
       "4 4         12               49                0.08275862       \n",
       "5 5         12               41                0.08275862       \n",
       "6 6         20               48                0.13793103       \n",
       "  prop_only_drinking\n",
       "1 0.3448276         \n",
       "2 0.3655172         \n",
       "3 0.3172414         \n",
       "4 0.3379310         \n",
       "5 0.2827586         \n",
       "6 0.3310345         "
      ]
     },
     "metadata": {},
     "output_type": "display_data"
    }
   ],
   "source": [
    "# Calculate the number of and proportion of only smokers and only drinkers for each replicate\n",
    "bootstrap_survey_female_summary <- bootstrap_survey_female %>%\n",
    "    group_by(replicate) %>%\n",
    "    summarize(num_only_smoking = sum(only_smoking),\n",
    "              num_only_drinking = sum(only_drinking),\n",
    "              prop_only_smoking = mean(only_smoking),\n",
    "              prop_only_drinking = mean(only_drinking))\n",
    "\n",
    "bootstrap_survey_male_summary <- bootstrap_survey_male %>%\n",
    "    group_by(replicate) %>%\n",
    "    summarize(num_only_smoking = sum(only_smoking),\n",
    "              num_only_drinking = sum(only_drinking),\n",
    "              prop_only_smoking = mean(only_smoking),\n",
    "              prop_only_drinking = mean(only_drinking))\n",
    "\n",
    "head(bootstrap_survey_female_summary)\n",
    "head(bootstrap_survey_male_summary)"
   ]
  },
  {
   "cell_type": "code",
   "execution_count": 8,
   "id": "f23decb2-75a5-4e03-8412-f45c66e17bb2",
   "metadata": {},
   "outputs": [
    {
     "data": {
      "text/html": [
       "<table class=\"dataframe\">\n",
       "<caption>A tibble: 6 × 9</caption>\n",
       "<thead>\n",
       "\t<tr><th scope=col>replicate</th><th scope=col>num_only_smoking</th><th scope=col>num_only_drinking</th><th scope=col>prop_only_smoking</th><th scope=col>prop_only_drinking</th><th scope=col>p_hat</th><th scope=col>z_score</th><th scope=col>p_value</th><th scope=col>reject_null</th></tr>\n",
       "\t<tr><th scope=col>&lt;int&gt;</th><th scope=col>&lt;int&gt;</th><th scope=col>&lt;int&gt;</th><th scope=col>&lt;dbl&gt;</th><th scope=col>&lt;dbl&gt;</th><th scope=col>&lt;dbl&gt;</th><th scope=col>&lt;dbl&gt;</th><th scope=col>&lt;dbl&gt;</th><th scope=col>&lt;lgl&gt;</th></tr>\n",
       "</thead>\n",
       "<tbody>\n",
       "\t<tr><td>1</td><td>44</td><td>22</td><td>0.352</td><td>0.176</td><td>0.2933333</td><td>1.480438</td><td>0.06937813</td><td>FALSE</td></tr>\n",
       "\t<tr><td>2</td><td>53</td><td>24</td><td>0.424</td><td>0.192</td><td>0.3516883</td><td>1.974764</td><td>0.02414745</td><td> TRUE</td></tr>\n",
       "\t<tr><td>3</td><td>61</td><td>24</td><td>0.488</td><td>0.192</td><td>0.4044235</td><td>2.503029</td><td>0.00615678</td><td> TRUE</td></tr>\n",
       "\t<tr><td>4</td><td>49</td><td>29</td><td>0.392</td><td>0.232</td><td>0.3325128</td><td>1.449586</td><td>0.07358697</td><td>FALSE</td></tr>\n",
       "\t<tr><td>5</td><td>54</td><td>27</td><td>0.432</td><td>0.216</td><td>0.3600000</td><td>1.909188</td><td>0.02811890</td><td> TRUE</td></tr>\n",
       "\t<tr><td>6</td><td>60</td><td>19</td><td>0.480</td><td>0.152</td><td>0.4011139</td><td>2.542183</td><td>0.00550813</td><td> TRUE</td></tr>\n",
       "</tbody>\n",
       "</table>\n"
      ],
      "text/latex": [
       "A tibble: 6 × 9\n",
       "\\begin{tabular}{lllllllll}\n",
       " replicate & num\\_only\\_smoking & num\\_only\\_drinking & prop\\_only\\_smoking & prop\\_only\\_drinking & p\\_hat & z\\_score & p\\_value & reject\\_null\\\\\n",
       " <int> & <int> & <int> & <dbl> & <dbl> & <dbl> & <dbl> & <dbl> & <lgl>\\\\\n",
       "\\hline\n",
       "\t 1 & 44 & 22 & 0.352 & 0.176 & 0.2933333 & 1.480438 & 0.06937813 & FALSE\\\\\n",
       "\t 2 & 53 & 24 & 0.424 & 0.192 & 0.3516883 & 1.974764 & 0.02414745 &  TRUE\\\\\n",
       "\t 3 & 61 & 24 & 0.488 & 0.192 & 0.4044235 & 2.503029 & 0.00615678 &  TRUE\\\\\n",
       "\t 4 & 49 & 29 & 0.392 & 0.232 & 0.3325128 & 1.449586 & 0.07358697 & FALSE\\\\\n",
       "\t 5 & 54 & 27 & 0.432 & 0.216 & 0.3600000 & 1.909188 & 0.02811890 &  TRUE\\\\\n",
       "\t 6 & 60 & 19 & 0.480 & 0.152 & 0.4011139 & 2.542183 & 0.00550813 &  TRUE\\\\\n",
       "\\end{tabular}\n"
      ],
      "text/markdown": [
       "\n",
       "A tibble: 6 × 9\n",
       "\n",
       "| replicate &lt;int&gt; | num_only_smoking &lt;int&gt; | num_only_drinking &lt;int&gt; | prop_only_smoking &lt;dbl&gt; | prop_only_drinking &lt;dbl&gt; | p_hat &lt;dbl&gt; | z_score &lt;dbl&gt; | p_value &lt;dbl&gt; | reject_null &lt;lgl&gt; |\n",
       "|---|---|---|---|---|---|---|---|---|\n",
       "| 1 | 44 | 22 | 0.352 | 0.176 | 0.2933333 | 1.480438 | 0.06937813 | FALSE |\n",
       "| 2 | 53 | 24 | 0.424 | 0.192 | 0.3516883 | 1.974764 | 0.02414745 |  TRUE |\n",
       "| 3 | 61 | 24 | 0.488 | 0.192 | 0.4044235 | 2.503029 | 0.00615678 |  TRUE |\n",
       "| 4 | 49 | 29 | 0.392 | 0.232 | 0.3325128 | 1.449586 | 0.07358697 | FALSE |\n",
       "| 5 | 54 | 27 | 0.432 | 0.216 | 0.3600000 | 1.909188 | 0.02811890 |  TRUE |\n",
       "| 6 | 60 | 19 | 0.480 | 0.152 | 0.4011139 | 2.542183 | 0.00550813 |  TRUE |\n",
       "\n"
      ],
      "text/plain": [
       "  replicate num_only_smoking num_only_drinking prop_only_smoking\n",
       "1 1         44               22                0.352            \n",
       "2 2         53               24                0.424            \n",
       "3 3         61               24                0.488            \n",
       "4 4         49               29                0.392            \n",
       "5 5         54               27                0.432            \n",
       "6 6         60               19                0.480            \n",
       "  prop_only_drinking p_hat     z_score  p_value    reject_null\n",
       "1 0.176              0.2933333 1.480438 0.06937813 FALSE      \n",
       "2 0.192              0.3516883 1.974764 0.02414745  TRUE      \n",
       "3 0.192              0.4044235 2.503029 0.00615678  TRUE      \n",
       "4 0.232              0.3325128 1.449586 0.07358697 FALSE      \n",
       "5 0.216              0.3600000 1.909188 0.02811890  TRUE      \n",
       "6 0.152              0.4011139 2.542183 0.00550813  TRUE      "
      ]
     },
     "metadata": {},
     "output_type": "display_data"
    },
    {
     "data": {
      "text/html": [
       "<table class=\"dataframe\">\n",
       "<caption>A tibble: 6 × 9</caption>\n",
       "<thead>\n",
       "\t<tr><th scope=col>replicate</th><th scope=col>num_only_smoking</th><th scope=col>num_only_drinking</th><th scope=col>prop_only_smoking</th><th scope=col>prop_only_drinking</th><th scope=col>p_hat</th><th scope=col>z_score</th><th scope=col>p_value</th><th scope=col>reject_null</th></tr>\n",
       "\t<tr><th scope=col>&lt;int&gt;</th><th scope=col>&lt;int&gt;</th><th scope=col>&lt;int&gt;</th><th scope=col>&lt;dbl&gt;</th><th scope=col>&lt;dbl&gt;</th><th scope=col>&lt;dbl&gt;</th><th scope=col>&lt;dbl&gt;</th><th scope=col>&lt;dbl&gt;</th><th scope=col>&lt;lgl&gt;</th></tr>\n",
       "</thead>\n",
       "<tbody>\n",
       "\t<tr><td>1</td><td>16</td><td>50</td><td>0.11034483</td><td>0.3448276</td><td>0.2879833</td><td>-1.802832</td><td>0.9642927</td><td>FALSE</td></tr>\n",
       "\t<tr><td>2</td><td>14</td><td>53</td><td>0.09655172</td><td>0.3655172</td><td>0.3093155</td><td>-1.936513</td><td>0.9735976</td><td>FALSE</td></tr>\n",
       "\t<tr><td>3</td><td>16</td><td>46</td><td>0.11034483</td><td>0.3172414</td><td>0.2638487</td><td>-1.617466</td><td>0.9471112</td><td>FALSE</td></tr>\n",
       "\t<tr><td>4</td><td>12</td><td>49</td><td>0.08275862</td><td>0.3379310</td><td>0.2877332</td><td>-1.750012</td><td>0.9599419</td><td>FALSE</td></tr>\n",
       "\t<tr><td>5</td><td>12</td><td>41</td><td>0.08275862</td><td>0.2827586</td><td>0.2374756</td><td>-1.431984</td><td>0.9239258</td><td>FALSE</td></tr>\n",
       "\t<tr><td>6</td><td>20</td><td>48</td><td>0.13793103</td><td>0.3310345</td><td>0.2742394</td><td>-1.626333</td><td>0.9480606</td><td>FALSE</td></tr>\n",
       "</tbody>\n",
       "</table>\n"
      ],
      "text/latex": [
       "A tibble: 6 × 9\n",
       "\\begin{tabular}{lllllllll}\n",
       " replicate & num\\_only\\_smoking & num\\_only\\_drinking & prop\\_only\\_smoking & prop\\_only\\_drinking & p\\_hat & z\\_score & p\\_value & reject\\_null\\\\\n",
       " <int> & <int> & <int> & <dbl> & <dbl> & <dbl> & <dbl> & <dbl> & <lgl>\\\\\n",
       "\\hline\n",
       "\t 1 & 16 & 50 & 0.11034483 & 0.3448276 & 0.2879833 & -1.802832 & 0.9642927 & FALSE\\\\\n",
       "\t 2 & 14 & 53 & 0.09655172 & 0.3655172 & 0.3093155 & -1.936513 & 0.9735976 & FALSE\\\\\n",
       "\t 3 & 16 & 46 & 0.11034483 & 0.3172414 & 0.2638487 & -1.617466 & 0.9471112 & FALSE\\\\\n",
       "\t 4 & 12 & 49 & 0.08275862 & 0.3379310 & 0.2877332 & -1.750012 & 0.9599419 & FALSE\\\\\n",
       "\t 5 & 12 & 41 & 0.08275862 & 0.2827586 & 0.2374756 & -1.431984 & 0.9239258 & FALSE\\\\\n",
       "\t 6 & 20 & 48 & 0.13793103 & 0.3310345 & 0.2742394 & -1.626333 & 0.9480606 & FALSE\\\\\n",
       "\\end{tabular}\n"
      ],
      "text/markdown": [
       "\n",
       "A tibble: 6 × 9\n",
       "\n",
       "| replicate &lt;int&gt; | num_only_smoking &lt;int&gt; | num_only_drinking &lt;int&gt; | prop_only_smoking &lt;dbl&gt; | prop_only_drinking &lt;dbl&gt; | p_hat &lt;dbl&gt; | z_score &lt;dbl&gt; | p_value &lt;dbl&gt; | reject_null &lt;lgl&gt; |\n",
       "|---|---|---|---|---|---|---|---|---|\n",
       "| 1 | 16 | 50 | 0.11034483 | 0.3448276 | 0.2879833 | -1.802832 | 0.9642927 | FALSE |\n",
       "| 2 | 14 | 53 | 0.09655172 | 0.3655172 | 0.3093155 | -1.936513 | 0.9735976 | FALSE |\n",
       "| 3 | 16 | 46 | 0.11034483 | 0.3172414 | 0.2638487 | -1.617466 | 0.9471112 | FALSE |\n",
       "| 4 | 12 | 49 | 0.08275862 | 0.3379310 | 0.2877332 | -1.750012 | 0.9599419 | FALSE |\n",
       "| 5 | 12 | 41 | 0.08275862 | 0.2827586 | 0.2374756 | -1.431984 | 0.9239258 | FALSE |\n",
       "| 6 | 20 | 48 | 0.13793103 | 0.3310345 | 0.2742394 | -1.626333 | 0.9480606 | FALSE |\n",
       "\n"
      ],
      "text/plain": [
       "  replicate num_only_smoking num_only_drinking prop_only_smoking\n",
       "1 1         16               50                0.11034483       \n",
       "2 2         14               53                0.09655172       \n",
       "3 3         16               46                0.11034483       \n",
       "4 4         12               49                0.08275862       \n",
       "5 5         12               41                0.08275862       \n",
       "6 6         20               48                0.13793103       \n",
       "  prop_only_drinking p_hat     z_score   p_value   reject_null\n",
       "1 0.3448276          0.2879833 -1.802832 0.9642927 FALSE      \n",
       "2 0.3655172          0.3093155 -1.936513 0.9735976 FALSE      \n",
       "3 0.3172414          0.2638487 -1.617466 0.9471112 FALSE      \n",
       "4 0.3379310          0.2877332 -1.750012 0.9599419 FALSE      \n",
       "5 0.2827586          0.2374756 -1.431984 0.9239258 FALSE      \n",
       "6 0.3310345          0.2742394 -1.626333 0.9480606 FALSE      "
      ]
     },
     "metadata": {},
     "output_type": "display_data"
    }
   ],
   "source": [
    "# Set type I error to 5%, can be changed\n",
    "alpha = 0.05\n",
    "\n",
    "# Calculate p-hat and z-score using worksheet 8 section 3.4, then calculate p-value and check if p-value < alpha\n",
    "bootstrap_survey_female_calcs <- bootstrap_survey_female_summary %>%\n",
    "    mutate(p_hat = (num_only_smoking * prop_only_smoking + num_only_drinking * prop_only_drinking) / (num_only_smoking + num_only_drinking),\n",
    "           z_score = (prop_only_smoking - prop_only_drinking) / sqrt(p_hat * (1 - p_hat) * (1 / num_only_smoking + 1 / num_only_drinking)),\n",
    "           p_value = pnorm(z_score, lower.tail = FALSE),\n",
    "           reject_null = p_value < alpha)\n",
    "\n",
    "bootstrap_survey_male_calcs <- bootstrap_survey_male_summary %>%\n",
    "    mutate(p_hat = (num_only_smoking * prop_only_smoking + num_only_drinking * prop_only_drinking) / (num_only_smoking + num_only_drinking),\n",
    "           z_score = (prop_only_smoking - prop_only_drinking) / sqrt(p_hat * (1 - p_hat) * (1 / num_only_smoking + 1 / num_only_drinking)),\n",
    "           p_value = pnorm(z_score, lower.tail = FALSE),\n",
    "           reject_null = p_value < alpha)\n",
    "\n",
    "head(bootstrap_survey_female_calcs)\n",
    "head(bootstrap_survey_male_calcs)"
   ]
  }
 ],
 "metadata": {
  "kernelspec": {
   "display_name": "R",
   "language": "R",
   "name": "ir"
  },
  "language_info": {
   "codemirror_mode": "r",
   "file_extension": ".r",
   "mimetype": "text/x-r-source",
   "name": "R",
   "pygments_lexer": "r",
   "version": "4.1.3"
  }
 },
 "nbformat": 4,
 "nbformat_minor": 5
}
