{
 "cells": [
  {
   "cell_type": "code",
   "execution_count": 1,
   "id": "4325dbf4-a448-4694-922c-109fe62be616",
   "metadata": {},
   "outputs": [
    {
     "name": "stderr",
     "output_type": "stream",
     "text": [
      "── \u001b[1mAttaching packages\u001b[22m ─────────────────────────────────────── tidyverse 1.3.2 ──\n",
      "\u001b[32m✔\u001b[39m \u001b[34mggplot2\u001b[39m 3.3.6      \u001b[32m✔\u001b[39m \u001b[34mpurrr  \u001b[39m 0.3.4 \n",
      "\u001b[32m✔\u001b[39m \u001b[34mtibble \u001b[39m 3.1.8      \u001b[32m✔\u001b[39m \u001b[34mdplyr  \u001b[39m 1.0.10\n",
      "\u001b[32m✔\u001b[39m \u001b[34mtidyr  \u001b[39m 1.2.1      \u001b[32m✔\u001b[39m \u001b[34mstringr\u001b[39m 1.4.1 \n",
      "\u001b[32m✔\u001b[39m \u001b[34mreadr  \u001b[39m 2.1.2      \u001b[32m✔\u001b[39m \u001b[34mforcats\u001b[39m 0.5.2 \n",
      "── \u001b[1mConflicts\u001b[22m ────────────────────────────────────────── tidyverse_conflicts() ──\n",
      "\u001b[31m✖\u001b[39m \u001b[34mdplyr\u001b[39m::\u001b[32mfilter()\u001b[39m masks \u001b[34mstats\u001b[39m::filter()\n",
      "\u001b[31m✖\u001b[39m \u001b[34mdplyr\u001b[39m::\u001b[32mlag()\u001b[39m    masks \u001b[34mstats\u001b[39m::lag()\n",
      "\n",
      "Attaching package: ‘gridExtra’\n",
      "\n",
      "\n",
      "The following object is masked from ‘package:dplyr’:\n",
      "\n",
      "    combine\n",
      "\n",
      "\n"
     ]
    }
   ],
   "source": [
    "# Add libraries\n",
    "library(tidyverse)\n",
    "library(repr)\n",
    "library(digest)\n",
    "library(gridExtra)\n",
    "library(dplyr)\n",
    "library(broom)"
   ]
  },
  {
   "cell_type": "code",
   "execution_count": 2,
   "id": "0672b8ac-664f-450f-beb3-636ab5937a63",
   "metadata": {},
   "outputs": [
    {
     "data": {
      "text/html": [
       "<table class=\"dataframe\">\n",
       "<caption>A data.frame: 6 × 16</caption>\n",
       "<thead>\n",
       "\t<tr><th></th><th scope=col>GENDER</th><th scope=col>AGE</th><th scope=col>SMOKING</th><th scope=col>YELLOW_FINGERS</th><th scope=col>ANXIETY</th><th scope=col>PEER_PRESSURE</th><th scope=col>CHRONIC.DISEASE</th><th scope=col>FATIGUE</th><th scope=col>ALLERGY</th><th scope=col>WHEEZING</th><th scope=col>ALCOHOL.CONSUMING</th><th scope=col>COUGHING</th><th scope=col>SHORTNESS.OF.BREATH</th><th scope=col>SWALLOWING.DIFFICULTY</th><th scope=col>CHEST.PAIN</th><th scope=col>LUNG_CANCER</th></tr>\n",
       "\t<tr><th></th><th scope=col>&lt;chr&gt;</th><th scope=col>&lt;int&gt;</th><th scope=col>&lt;int&gt;</th><th scope=col>&lt;int&gt;</th><th scope=col>&lt;int&gt;</th><th scope=col>&lt;int&gt;</th><th scope=col>&lt;int&gt;</th><th scope=col>&lt;int&gt;</th><th scope=col>&lt;int&gt;</th><th scope=col>&lt;int&gt;</th><th scope=col>&lt;int&gt;</th><th scope=col>&lt;int&gt;</th><th scope=col>&lt;int&gt;</th><th scope=col>&lt;int&gt;</th><th scope=col>&lt;int&gt;</th><th scope=col>&lt;chr&gt;</th></tr>\n",
       "</thead>\n",
       "<tbody>\n",
       "\t<tr><th scope=row>1</th><td>M</td><td>69</td><td>1</td><td>2</td><td>2</td><td>1</td><td>1</td><td>2</td><td>1</td><td>2</td><td>2</td><td>2</td><td>2</td><td>2</td><td>2</td><td>YES</td></tr>\n",
       "\t<tr><th scope=row>2</th><td>M</td><td>74</td><td>2</td><td>1</td><td>1</td><td>1</td><td>2</td><td>2</td><td>2</td><td>1</td><td>1</td><td>1</td><td>2</td><td>2</td><td>2</td><td>YES</td></tr>\n",
       "\t<tr><th scope=row>3</th><td>F</td><td>59</td><td>1</td><td>1</td><td>1</td><td>2</td><td>1</td><td>2</td><td>1</td><td>2</td><td>1</td><td>2</td><td>2</td><td>1</td><td>2</td><td>NO </td></tr>\n",
       "\t<tr><th scope=row>4</th><td>M</td><td>63</td><td>2</td><td>2</td><td>2</td><td>1</td><td>1</td><td>1</td><td>1</td><td>1</td><td>2</td><td>1</td><td>1</td><td>2</td><td>2</td><td>NO </td></tr>\n",
       "\t<tr><th scope=row>5</th><td>F</td><td>63</td><td>1</td><td>2</td><td>1</td><td>1</td><td>1</td><td>1</td><td>1</td><td>2</td><td>1</td><td>2</td><td>2</td><td>1</td><td>1</td><td>NO </td></tr>\n",
       "\t<tr><th scope=row>6</th><td>F</td><td>75</td><td>1</td><td>2</td><td>1</td><td>1</td><td>2</td><td>2</td><td>2</td><td>2</td><td>1</td><td>2</td><td>2</td><td>1</td><td>1</td><td>YES</td></tr>\n",
       "</tbody>\n",
       "</table>\n"
      ],
      "text/latex": [
       "A data.frame: 6 × 16\n",
       "\\begin{tabular}{r|llllllllllllllll}\n",
       "  & GENDER & AGE & SMOKING & YELLOW\\_FINGERS & ANXIETY & PEER\\_PRESSURE & CHRONIC.DISEASE & FATIGUE & ALLERGY & WHEEZING & ALCOHOL.CONSUMING & COUGHING & SHORTNESS.OF.BREATH & SWALLOWING.DIFFICULTY & CHEST.PAIN & LUNG\\_CANCER\\\\\n",
       "  & <chr> & <int> & <int> & <int> & <int> & <int> & <int> & <int> & <int> & <int> & <int> & <int> & <int> & <int> & <int> & <chr>\\\\\n",
       "\\hline\n",
       "\t1 & M & 69 & 1 & 2 & 2 & 1 & 1 & 2 & 1 & 2 & 2 & 2 & 2 & 2 & 2 & YES\\\\\n",
       "\t2 & M & 74 & 2 & 1 & 1 & 1 & 2 & 2 & 2 & 1 & 1 & 1 & 2 & 2 & 2 & YES\\\\\n",
       "\t3 & F & 59 & 1 & 1 & 1 & 2 & 1 & 2 & 1 & 2 & 1 & 2 & 2 & 1 & 2 & NO \\\\\n",
       "\t4 & M & 63 & 2 & 2 & 2 & 1 & 1 & 1 & 1 & 1 & 2 & 1 & 1 & 2 & 2 & NO \\\\\n",
       "\t5 & F & 63 & 1 & 2 & 1 & 1 & 1 & 1 & 1 & 2 & 1 & 2 & 2 & 1 & 1 & NO \\\\\n",
       "\t6 & F & 75 & 1 & 2 & 1 & 1 & 2 & 2 & 2 & 2 & 1 & 2 & 2 & 1 & 1 & YES\\\\\n",
       "\\end{tabular}\n"
      ],
      "text/markdown": [
       "\n",
       "A data.frame: 6 × 16\n",
       "\n",
       "| <!--/--> | GENDER &lt;chr&gt; | AGE &lt;int&gt; | SMOKING &lt;int&gt; | YELLOW_FINGERS &lt;int&gt; | ANXIETY &lt;int&gt; | PEER_PRESSURE &lt;int&gt; | CHRONIC.DISEASE &lt;int&gt; | FATIGUE &lt;int&gt; | ALLERGY &lt;int&gt; | WHEEZING &lt;int&gt; | ALCOHOL.CONSUMING &lt;int&gt; | COUGHING &lt;int&gt; | SHORTNESS.OF.BREATH &lt;int&gt; | SWALLOWING.DIFFICULTY &lt;int&gt; | CHEST.PAIN &lt;int&gt; | LUNG_CANCER &lt;chr&gt; |\n",
       "|---|---|---|---|---|---|---|---|---|---|---|---|---|---|---|---|---|\n",
       "| 1 | M | 69 | 1 | 2 | 2 | 1 | 1 | 2 | 1 | 2 | 2 | 2 | 2 | 2 | 2 | YES |\n",
       "| 2 | M | 74 | 2 | 1 | 1 | 1 | 2 | 2 | 2 | 1 | 1 | 1 | 2 | 2 | 2 | YES |\n",
       "| 3 | F | 59 | 1 | 1 | 1 | 2 | 1 | 2 | 1 | 2 | 1 | 2 | 2 | 1 | 2 | NO  |\n",
       "| 4 | M | 63 | 2 | 2 | 2 | 1 | 1 | 1 | 1 | 1 | 2 | 1 | 1 | 2 | 2 | NO  |\n",
       "| 5 | F | 63 | 1 | 2 | 1 | 1 | 1 | 1 | 1 | 2 | 1 | 2 | 2 | 1 | 1 | NO  |\n",
       "| 6 | F | 75 | 1 | 2 | 1 | 1 | 2 | 2 | 2 | 2 | 1 | 2 | 2 | 1 | 1 | YES |\n",
       "\n"
      ],
      "text/plain": [
       "  GENDER AGE SMOKING YELLOW_FINGERS ANXIETY PEER_PRESSURE CHRONIC.DISEASE\n",
       "1 M      69  1       2              2       1             1              \n",
       "2 M      74  2       1              1       1             2              \n",
       "3 F      59  1       1              1       2             1              \n",
       "4 M      63  2       2              2       1             1              \n",
       "5 F      63  1       2              1       1             1              \n",
       "6 F      75  1       2              1       1             2              \n",
       "  FATIGUE ALLERGY WHEEZING ALCOHOL.CONSUMING COUGHING SHORTNESS.OF.BREATH\n",
       "1 2       1       2        2                 2        2                  \n",
       "2 2       2       1        1                 1        2                  \n",
       "3 2       1       2        1                 2        2                  \n",
       "4 1       1       1        2                 1        1                  \n",
       "5 1       1       2        1                 2        2                  \n",
       "6 2       2       2        1                 2        2                  \n",
       "  SWALLOWING.DIFFICULTY CHEST.PAIN LUNG_CANCER\n",
       "1 2                     2          YES        \n",
       "2 2                     2          YES        \n",
       "3 1                     2          NO         \n",
       "4 2                     2          NO         \n",
       "5 1                     1          NO         \n",
       "6 1                     1          YES        "
      ]
     },
     "metadata": {},
     "output_type": "display_data"
    }
   ],
   "source": [
    "# Read data from .csv file\n",
    "survey <- read.csv(\"https://raw.githubusercontent.com/Herman-Liao/stat-201-group-project/main/survey%20lung%20cancer.csv\")\n",
    "head(survey)"
   ]
  },
  {
   "cell_type": "code",
   "execution_count": 3,
   "id": "6a5fc4ba-e738-410c-9634-ab4ee94dabb5",
   "metadata": {},
   "outputs": [
    {
     "data": {
      "text/html": [
       "<table class=\"dataframe\">\n",
       "<caption>A data.frame: 6 × 15</caption>\n",
       "<thead>\n",
       "\t<tr><th></th><th scope=col>gender</th><th scope=col>age</th><th scope=col>smoking</th><th scope=col>yellow_fingers</th><th scope=col>anxiety</th><th scope=col>chronic_disease</th><th scope=col>fatigue</th><th scope=col>allergy</th><th scope=col>wheezing</th><th scope=col>alcohol_consuming</th><th scope=col>coughing</th><th scope=col>shortness_of_breath</th><th scope=col>swallowing_difficulty</th><th scope=col>chest_pain</th><th scope=col>lung_cancer</th></tr>\n",
       "\t<tr><th></th><th scope=col>&lt;chr&gt;</th><th scope=col>&lt;int&gt;</th><th scope=col>&lt;lgl&gt;</th><th scope=col>&lt;lgl&gt;</th><th scope=col>&lt;lgl&gt;</th><th scope=col>&lt;lgl&gt;</th><th scope=col>&lt;lgl&gt;</th><th scope=col>&lt;lgl&gt;</th><th scope=col>&lt;lgl&gt;</th><th scope=col>&lt;lgl&gt;</th><th scope=col>&lt;lgl&gt;</th><th scope=col>&lt;lgl&gt;</th><th scope=col>&lt;lgl&gt;</th><th scope=col>&lt;lgl&gt;</th><th scope=col>&lt;lgl&gt;</th></tr>\n",
       "</thead>\n",
       "<tbody>\n",
       "\t<tr><th scope=row>1</th><td>M</td><td>69</td><td>FALSE</td><td> TRUE</td><td> TRUE</td><td>FALSE</td><td> TRUE</td><td>FALSE</td><td> TRUE</td><td> TRUE</td><td> TRUE</td><td> TRUE</td><td> TRUE</td><td> TRUE</td><td> TRUE</td></tr>\n",
       "\t<tr><th scope=row>2</th><td>M</td><td>74</td><td> TRUE</td><td>FALSE</td><td>FALSE</td><td> TRUE</td><td> TRUE</td><td> TRUE</td><td>FALSE</td><td>FALSE</td><td>FALSE</td><td> TRUE</td><td> TRUE</td><td> TRUE</td><td> TRUE</td></tr>\n",
       "\t<tr><th scope=row>3</th><td>F</td><td>59</td><td>FALSE</td><td>FALSE</td><td>FALSE</td><td>FALSE</td><td> TRUE</td><td>FALSE</td><td> TRUE</td><td>FALSE</td><td> TRUE</td><td> TRUE</td><td>FALSE</td><td> TRUE</td><td>FALSE</td></tr>\n",
       "\t<tr><th scope=row>4</th><td>M</td><td>63</td><td> TRUE</td><td> TRUE</td><td> TRUE</td><td>FALSE</td><td>FALSE</td><td>FALSE</td><td>FALSE</td><td> TRUE</td><td>FALSE</td><td>FALSE</td><td> TRUE</td><td> TRUE</td><td>FALSE</td></tr>\n",
       "\t<tr><th scope=row>5</th><td>F</td><td>63</td><td>FALSE</td><td> TRUE</td><td>FALSE</td><td>FALSE</td><td>FALSE</td><td>FALSE</td><td> TRUE</td><td>FALSE</td><td> TRUE</td><td> TRUE</td><td>FALSE</td><td>FALSE</td><td>FALSE</td></tr>\n",
       "\t<tr><th scope=row>6</th><td>F</td><td>75</td><td>FALSE</td><td> TRUE</td><td>FALSE</td><td> TRUE</td><td> TRUE</td><td> TRUE</td><td> TRUE</td><td>FALSE</td><td> TRUE</td><td> TRUE</td><td>FALSE</td><td>FALSE</td><td> TRUE</td></tr>\n",
       "</tbody>\n",
       "</table>\n"
      ],
      "text/latex": [
       "A data.frame: 6 × 15\n",
       "\\begin{tabular}{r|lllllllllllllll}\n",
       "  & gender & age & smoking & yellow\\_fingers & anxiety & chronic\\_disease & fatigue & allergy & wheezing & alcohol\\_consuming & coughing & shortness\\_of\\_breath & swallowing\\_difficulty & chest\\_pain & lung\\_cancer\\\\\n",
       "  & <chr> & <int> & <lgl> & <lgl> & <lgl> & <lgl> & <lgl> & <lgl> & <lgl> & <lgl> & <lgl> & <lgl> & <lgl> & <lgl> & <lgl>\\\\\n",
       "\\hline\n",
       "\t1 & M & 69 & FALSE &  TRUE &  TRUE & FALSE &  TRUE & FALSE &  TRUE &  TRUE &  TRUE &  TRUE &  TRUE &  TRUE &  TRUE\\\\\n",
       "\t2 & M & 74 &  TRUE & FALSE & FALSE &  TRUE &  TRUE &  TRUE & FALSE & FALSE & FALSE &  TRUE &  TRUE &  TRUE &  TRUE\\\\\n",
       "\t3 & F & 59 & FALSE & FALSE & FALSE & FALSE &  TRUE & FALSE &  TRUE & FALSE &  TRUE &  TRUE & FALSE &  TRUE & FALSE\\\\\n",
       "\t4 & M & 63 &  TRUE &  TRUE &  TRUE & FALSE & FALSE & FALSE & FALSE &  TRUE & FALSE & FALSE &  TRUE &  TRUE & FALSE\\\\\n",
       "\t5 & F & 63 & FALSE &  TRUE & FALSE & FALSE & FALSE & FALSE &  TRUE & FALSE &  TRUE &  TRUE & FALSE & FALSE & FALSE\\\\\n",
       "\t6 & F & 75 & FALSE &  TRUE & FALSE &  TRUE &  TRUE &  TRUE &  TRUE & FALSE &  TRUE &  TRUE & FALSE & FALSE &  TRUE\\\\\n",
       "\\end{tabular}\n"
      ],
      "text/markdown": [
       "\n",
       "A data.frame: 6 × 15\n",
       "\n",
       "| <!--/--> | gender &lt;chr&gt; | age &lt;int&gt; | smoking &lt;lgl&gt; | yellow_fingers &lt;lgl&gt; | anxiety &lt;lgl&gt; | chronic_disease &lt;lgl&gt; | fatigue &lt;lgl&gt; | allergy &lt;lgl&gt; | wheezing &lt;lgl&gt; | alcohol_consuming &lt;lgl&gt; | coughing &lt;lgl&gt; | shortness_of_breath &lt;lgl&gt; | swallowing_difficulty &lt;lgl&gt; | chest_pain &lt;lgl&gt; | lung_cancer &lt;lgl&gt; |\n",
       "|---|---|---|---|---|---|---|---|---|---|---|---|---|---|---|---|\n",
       "| 1 | M | 69 | FALSE |  TRUE |  TRUE | FALSE |  TRUE | FALSE |  TRUE |  TRUE |  TRUE |  TRUE |  TRUE |  TRUE |  TRUE |\n",
       "| 2 | M | 74 |  TRUE | FALSE | FALSE |  TRUE |  TRUE |  TRUE | FALSE | FALSE | FALSE |  TRUE |  TRUE |  TRUE |  TRUE |\n",
       "| 3 | F | 59 | FALSE | FALSE | FALSE | FALSE |  TRUE | FALSE |  TRUE | FALSE |  TRUE |  TRUE | FALSE |  TRUE | FALSE |\n",
       "| 4 | M | 63 |  TRUE |  TRUE |  TRUE | FALSE | FALSE | FALSE | FALSE |  TRUE | FALSE | FALSE |  TRUE |  TRUE | FALSE |\n",
       "| 5 | F | 63 | FALSE |  TRUE | FALSE | FALSE | FALSE | FALSE |  TRUE | FALSE |  TRUE |  TRUE | FALSE | FALSE | FALSE |\n",
       "| 6 | F | 75 | FALSE |  TRUE | FALSE |  TRUE |  TRUE |  TRUE |  TRUE | FALSE |  TRUE |  TRUE | FALSE | FALSE |  TRUE |\n",
       "\n"
      ],
      "text/plain": [
       "  gender age smoking yellow_fingers anxiety chronic_disease fatigue allergy\n",
       "1 M      69  FALSE    TRUE           TRUE   FALSE            TRUE   FALSE  \n",
       "2 M      74   TRUE   FALSE          FALSE    TRUE            TRUE    TRUE  \n",
       "3 F      59  FALSE   FALSE          FALSE   FALSE            TRUE   FALSE  \n",
       "4 M      63   TRUE    TRUE           TRUE   FALSE           FALSE   FALSE  \n",
       "5 F      63  FALSE    TRUE          FALSE   FALSE           FALSE   FALSE  \n",
       "6 F      75  FALSE    TRUE          FALSE    TRUE            TRUE    TRUE  \n",
       "  wheezing alcohol_consuming coughing shortness_of_breath swallowing_difficulty\n",
       "1  TRUE     TRUE              TRUE     TRUE                TRUE                \n",
       "2 FALSE    FALSE             FALSE     TRUE                TRUE                \n",
       "3  TRUE    FALSE              TRUE     TRUE               FALSE                \n",
       "4 FALSE     TRUE             FALSE    FALSE                TRUE                \n",
       "5  TRUE    FALSE              TRUE     TRUE               FALSE                \n",
       "6  TRUE    FALSE              TRUE     TRUE               FALSE                \n",
       "  chest_pain lung_cancer\n",
       "1  TRUE       TRUE      \n",
       "2  TRUE       TRUE      \n",
       "3  TRUE      FALSE      \n",
       "4  TRUE      FALSE      \n",
       "5 FALSE      FALSE      \n",
       "6 FALSE       TRUE      "
      ]
     },
     "metadata": {},
     "output_type": "display_data"
    }
   ],
   "source": [
    "# Change most of the variables to boolean variables instead of integer or string variables\n",
    "survey_2 <- survey %>%\n",
    "    summarize(gender = GENDER,\n",
    "              age = AGE,\n",
    "              smoking = SMOKING - 1 == 1,\n",
    "              yellow_fingers = YELLOW_FINGERS - 1 == 1,\n",
    "              anxiety = ANXIETY - 1 == 1,\n",
    "              chronic_disease = CHRONIC.DISEASE - 1 == 1,\n",
    "              fatigue = FATIGUE - 1 == 1,\n",
    "              allergy = ALLERGY - 1 == 1,\n",
    "              wheezing = WHEEZING - 1 == 1,\n",
    "              alcohol_consuming = ALCOHOL.CONSUMING - 1 == 1,\n",
    "              coughing = COUGHING - 1 == 1,\n",
    "              shortness_of_breath = SHORTNESS.OF.BREATH - 1 == 1,\n",
    "              swallowing_difficulty = SWALLOWING.DIFFICULTY - 1 == 1,\n",
    "              chest_pain = CHEST.PAIN - 1 == 1,\n",
    "              lung_cancer = LUNG_CANCER == \"YES\")\n",
    "\n",
    "head(survey_2)"
   ]
  },
  {
   "cell_type": "code",
   "execution_count": 4,
   "id": "8c0e1455-7c68-44ae-b9a9-539c726591f2",
   "metadata": {},
   "outputs": [
    {
     "data": {
      "text/html": [
       "<table class=\"dataframe\">\n",
       "<caption>A data.frame: 6 × 2</caption>\n",
       "<thead>\n",
       "\t<tr><th></th><th scope=col>gender</th><th scope=col>only_smoke_only_drink</th></tr>\n",
       "\t<tr><th></th><th scope=col>&lt;chr&gt;</th><th scope=col>&lt;chr&gt;</th></tr>\n",
       "</thead>\n",
       "<tbody>\n",
       "\t<tr><th scope=row>1</th><td>M</td><td>only drink</td></tr>\n",
       "\t<tr><th scope=row>2</th><td>M</td><td>only smoke</td></tr>\n",
       "\t<tr><th scope=row>3</th><td>F</td><td>only smoke</td></tr>\n",
       "\t<tr><th scope=row>4</th><td>F</td><td>only smoke</td></tr>\n",
       "\t<tr><th scope=row>5</th><td>M</td><td>only drink</td></tr>\n",
       "\t<tr><th scope=row>6</th><td>F</td><td>only smoke</td></tr>\n",
       "</tbody>\n",
       "</table>\n"
      ],
      "text/latex": [
       "A data.frame: 6 × 2\n",
       "\\begin{tabular}{r|ll}\n",
       "  & gender & only\\_smoke\\_only\\_drink\\\\\n",
       "  & <chr> & <chr>\\\\\n",
       "\\hline\n",
       "\t1 & M & only drink\\\\\n",
       "\t2 & M & only smoke\\\\\n",
       "\t3 & F & only smoke\\\\\n",
       "\t4 & F & only smoke\\\\\n",
       "\t5 & M & only drink\\\\\n",
       "\t6 & F & only smoke\\\\\n",
       "\\end{tabular}\n"
      ],
      "text/markdown": [
       "\n",
       "A data.frame: 6 × 2\n",
       "\n",
       "| <!--/--> | gender &lt;chr&gt; | only_smoke_only_drink &lt;chr&gt; |\n",
       "|---|---|---|\n",
       "| 1 | M | only drink |\n",
       "| 2 | M | only smoke |\n",
       "| 3 | F | only smoke |\n",
       "| 4 | F | only smoke |\n",
       "| 5 | M | only drink |\n",
       "| 6 | F | only smoke |\n",
       "\n"
      ],
      "text/plain": [
       "  gender only_smoke_only_drink\n",
       "1 M      only drink           \n",
       "2 M      only smoke           \n",
       "3 F      only smoke           \n",
       "4 F      only smoke           \n",
       "5 M      only drink           \n",
       "6 F      only smoke           "
      ]
     },
     "metadata": {},
     "output_type": "display_data"
    }
   ],
   "source": [
    "# Clean and wrangle data; we are only interested in people who have lung cancer and whether or not they smoked and/or consumed alcohol\n",
    "# We mutate the data this way to properly separate all combinations of smoking and drinking\n",
    "# We want the difference in proportions for only smoking minus only drinking\n",
    "survey_clean_wrangled <- survey_2 %>%\n",
    "    filter(lung_cancer == TRUE) %>%\n",
    "    select(gender, smoking, alcohol_consuming) %>%\n",
    "    mutate(only_smoking = smoking & !alcohol_consuming,\n",
    "           only_drinking = !smoking & alcohol_consuming) %>%\n",
    "    select(-alcohol_consuming, -smoking) %>%\n",
    "    filter(!(only_smoking == FALSE & only_drinking == FALSE))\n",
    "\n",
    "# To convert only_smoking and only_drinking to one variable, make one character variable that says \"only smoking\" when only_smoking is true, and \"only drinking\" otherwise\n",
    "# This works because we only use observations where each patient either only drinks or only smokes, and not neither nor both\n",
    "survey_clean_wrangled <- survey_clean_wrangled %>%\n",
    "    mutate(only_smoke_only_drink = ifelse(only_smoking, \"only smoke\", \"only drink\")) %>%\n",
    "    select(gender, only_smoke_only_drink)\n",
    "\n",
    "head(survey_clean_wrangled)"
   ]
  },
  {
   "cell_type": "code",
   "execution_count": 5,
   "id": "9cd0cf5a-d985-43e8-b9b9-147a604671b0",
   "metadata": {},
   "outputs": [
    {
     "data": {
      "text/html": [
       "<table class=\"dataframe\">\n",
       "<caption>A tibble: 2 × 4</caption>\n",
       "<thead>\n",
       "\t<tr><th scope=col>gender</th><th scope=col>num_only_drinking</th><th scope=col>num_only_smoking</th><th scope=col>prop_only_smoking</th></tr>\n",
       "\t<tr><th scope=col>&lt;chr&gt;</th><th scope=col>&lt;int&gt;</th><th scope=col>&lt;int&gt;</th><th scope=col>&lt;dbl&gt;</th></tr>\n",
       "</thead>\n",
       "<tbody>\n",
       "\t<tr><td>F</td><td>27</td><td>50</td><td>0.6493506</td></tr>\n",
       "\t<tr><td>M</td><td>48</td><td>15</td><td>0.2380952</td></tr>\n",
       "</tbody>\n",
       "</table>\n"
      ],
      "text/latex": [
       "A tibble: 2 × 4\n",
       "\\begin{tabular}{llll}\n",
       " gender & num\\_only\\_drinking & num\\_only\\_smoking & prop\\_only\\_smoking\\\\\n",
       " <chr> & <int> & <int> & <dbl>\\\\\n",
       "\\hline\n",
       "\t F & 27 & 50 & 0.6493506\\\\\n",
       "\t M & 48 & 15 & 0.2380952\\\\\n",
       "\\end{tabular}\n"
      ],
      "text/markdown": [
       "\n",
       "A tibble: 2 × 4\n",
       "\n",
       "| gender &lt;chr&gt; | num_only_drinking &lt;int&gt; | num_only_smoking &lt;int&gt; | prop_only_smoking &lt;dbl&gt; |\n",
       "|---|---|---|---|\n",
       "| F | 27 | 50 | 0.6493506 |\n",
       "| M | 48 | 15 | 0.2380952 |\n",
       "\n"
      ],
      "text/plain": [
       "  gender num_only_drinking num_only_smoking prop_only_smoking\n",
       "1 F      27                50               0.6493506        \n",
       "2 M      48                15               0.2380952        "
      ]
     },
     "metadata": {},
     "output_type": "display_data"
    }
   ],
   "source": [
    "# Separate the genders; the processes for the female data will be displayed above the processes for the male data\n",
    "survey_summary <- survey_clean_wrangled %>%\n",
    "    group_by(gender) %>%\n",
    "    summarize(num_only_drinking = sum(only_smoke_only_drink == \"only drink\"),\n",
    "              num_only_smoking = sum(only_smoke_only_drink == \"only smoke\"),\n",
    "              prop_only_smoking = mean(only_smoke_only_drink == \"only smoke\"))\n",
    "\n",
    "survey_summary"
   ]
  },
  {
   "cell_type": "markdown",
   "id": "6400005f-e787-45f5-add3-f6847d7a2d23",
   "metadata": {},
   "source": [
    "As you can see here, `survey_clean_wrangled` passes the tests to use the central limit theorem (CLT). The first condition is that the samples are drawn in an independent fashion. It is safe to assume that the samples that were selected were not dependent on previous selections. The second condition is that the sample is no larger than 10% of the population; this is obviously not possible. The final condition is that the sample is not too small. There are at least 10 observations in only smoking and at least 10 observations in only drinking, and the sample size is above 30."
   ]
  },
  {
   "cell_type": "markdown",
   "id": "a7a16c96-aa5e-4b6c-9711-970478f8ce1c",
   "metadata": {},
   "source": [
    "This is a one-sample z-test. To test $H_{0}$, we use the following equations:\n",
    "\n",
    "\\begin{align*}\n",
    "    \\mu &= \\hat{p} - p_0 \\\\\n",
    "    \\sigma^{2} &= \\sqrt{\\frac{p_{0}(1 - p_{0})}{n}} \\\\\n",
    "    Z &= \\frac{\\mu}{\\sigma^{2}} = \\frac{\\hat{p} - p_0}{\\sqrt{\\frac{p_{0}(1 - p_{0})}{n}}}\n",
    "\\end{align*}"
   ]
  },
  {
   "cell_type": "code",
   "execution_count": 6,
   "id": "d748d6a9-1526-4925-b073-1dbf1a842ee3",
   "metadata": {},
   "outputs": [],
   "source": [
    "# Set type I error to 5%, can be changed\n",
    "alpha = 0.05"
   ]
  },
  {
   "cell_type": "code",
   "execution_count": 7,
   "id": "8510f34c-3dcf-440d-846c-52e08bfc2d15",
   "metadata": {},
   "outputs": [
    {
     "data": {
      "text/html": [
       "<table class=\"dataframe\">\n",
       "<caption>A tibble: 2 × 10</caption>\n",
       "<thead>\n",
       "\t<tr><th scope=col>gender</th><th scope=col>num_only_drinking</th><th scope=col>num_only_smoking</th><th scope=col>prop_only_smoking</th><th scope=col>standard_error</th><th scope=col>lower_ci</th><th scope=col>upper_ci</th><th scope=col>z_score</th><th scope=col>p_value</th><th scope=col>reject_null</th></tr>\n",
       "\t<tr><th scope=col>&lt;chr&gt;</th><th scope=col>&lt;int&gt;</th><th scope=col>&lt;int&gt;</th><th scope=col>&lt;dbl&gt;</th><th scope=col>&lt;dbl&gt;</th><th scope=col>&lt;dbl&gt;</th><th scope=col>&lt;dbl&gt;</th><th scope=col>&lt;dbl&gt;</th><th scope=col>&lt;dbl&gt;</th><th scope=col>&lt;lgl&gt;</th></tr>\n",
       "</thead>\n",
       "<tbody>\n",
       "\t<tr><td>F</td><td>27</td><td>50</td><td>0.6493506</td><td>0.07071068</td><td> 0.51076027</td><td>0.7879410</td><td> 2.112137</td><td>0.01733734</td><td> TRUE</td></tr>\n",
       "\t<tr><td>M</td><td>48</td><td>15</td><td>0.2380952</td><td>0.12909944</td><td>-0.01493502</td><td>0.4911255</td><td>-2.028706</td><td>0.97875586</td><td>FALSE</td></tr>\n",
       "</tbody>\n",
       "</table>\n"
      ],
      "text/latex": [
       "A tibble: 2 × 10\n",
       "\\begin{tabular}{llllllllll}\n",
       " gender & num\\_only\\_drinking & num\\_only\\_smoking & prop\\_only\\_smoking & standard\\_error & lower\\_ci & upper\\_ci & z\\_score & p\\_value & reject\\_null\\\\\n",
       " <chr> & <int> & <int> & <dbl> & <dbl> & <dbl> & <dbl> & <dbl> & <dbl> & <lgl>\\\\\n",
       "\\hline\n",
       "\t F & 27 & 50 & 0.6493506 & 0.07071068 &  0.51076027 & 0.7879410 &  2.112137 & 0.01733734 &  TRUE\\\\\n",
       "\t M & 48 & 15 & 0.2380952 & 0.12909944 & -0.01493502 & 0.4911255 & -2.028706 & 0.97875586 & FALSE\\\\\n",
       "\\end{tabular}\n"
      ],
      "text/markdown": [
       "\n",
       "A tibble: 2 × 10\n",
       "\n",
       "| gender &lt;chr&gt; | num_only_drinking &lt;int&gt; | num_only_smoking &lt;int&gt; | prop_only_smoking &lt;dbl&gt; | standard_error &lt;dbl&gt; | lower_ci &lt;dbl&gt; | upper_ci &lt;dbl&gt; | z_score &lt;dbl&gt; | p_value &lt;dbl&gt; | reject_null &lt;lgl&gt; |\n",
       "|---|---|---|---|---|---|---|---|---|---|\n",
       "| F | 27 | 50 | 0.6493506 | 0.07071068 |  0.51076027 | 0.7879410 |  2.112137 | 0.01733734 |  TRUE |\n",
       "| M | 48 | 15 | 0.2380952 | 0.12909944 | -0.01493502 | 0.4911255 | -2.028706 | 0.97875586 | FALSE |\n",
       "\n"
      ],
      "text/plain": [
       "  gender num_only_drinking num_only_smoking prop_only_smoking standard_error\n",
       "1 F      27                50               0.6493506         0.07071068    \n",
       "2 M      48                15               0.2380952         0.12909944    \n",
       "  lower_ci    upper_ci  z_score   p_value    reject_null\n",
       "1  0.51076027 0.7879410  2.112137 0.01733734  TRUE      \n",
       "2 -0.01493502 0.4911255 -2.028706 0.97875586 FALSE      "
      ]
     },
     "metadata": {},
     "output_type": "display_data"
    }
   ],
   "source": [
    "# Calculate confidence interval of the proportion of lung cancer patients who only smoke\n",
    "# Calculate the z-score using worksheet 8 section 3.2, then calculate the p-value and check if p-value < alpha\n",
    "survey_calcs <- survey_summary %>%\n",
    "    mutate(standard_error = sqrt(0.5 * (1 - 0.5) / num_only_smoking),\n",
    "           lower_ci = prop_only_smoking - qnorm(alpha / 2, lower.tail = FALSE) * standard_error,\n",
    "           upper_ci = prop_only_smoking + qnorm(alpha / 2, lower.tail = FALSE) * standard_error,\n",
    "           z_score = (prop_only_smoking - 0.5) / standard_error,\n",
    "           p_value = pnorm(z_score, lower.tail = FALSE),\n",
    "           reject_null = p_value < alpha)\n",
    "\n",
    "survey_calcs"
   ]
  }
 ],
 "metadata": {
  "kernelspec": {
   "display_name": "R",
   "language": "R",
   "name": "ir"
  },
  "language_info": {
   "codemirror_mode": "r",
   "file_extension": ".r",
   "mimetype": "text/x-r-source",
   "name": "R",
   "pygments_lexer": "r",
   "version": "4.1.3"
  }
 },
 "nbformat": 4,
 "nbformat_minor": 5
}
