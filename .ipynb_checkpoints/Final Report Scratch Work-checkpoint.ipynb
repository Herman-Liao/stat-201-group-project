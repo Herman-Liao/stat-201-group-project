{
 "cells": [
  {
   "cell_type": "markdown",
   "id": "4badc768-f1fb-4d90-92fe-e9b9d0899f71",
   "metadata": {
    "tags": []
   },
   "source": [
    "### Proposal Work"
   ]
  },
  {
   "cell_type": "code",
   "execution_count": 1,
   "id": "911069b0-2b68-4b73-a63b-7918b51f44d9",
   "metadata": {},
   "outputs": [
    {
     "name": "stderr",
     "output_type": "stream",
     "text": [
      "── \u001b[1mAttaching packages\u001b[22m ─────────────────────────────────────── tidyverse 1.3.2 ──\n",
      "\u001b[32m✔\u001b[39m \u001b[34mggplot2\u001b[39m 3.3.6      \u001b[32m✔\u001b[39m \u001b[34mpurrr  \u001b[39m 0.3.4 \n",
      "\u001b[32m✔\u001b[39m \u001b[34mtibble \u001b[39m 3.1.8      \u001b[32m✔\u001b[39m \u001b[34mdplyr  \u001b[39m 1.0.10\n",
      "\u001b[32m✔\u001b[39m \u001b[34mtidyr  \u001b[39m 1.2.1      \u001b[32m✔\u001b[39m \u001b[34mstringr\u001b[39m 1.4.1 \n",
      "\u001b[32m✔\u001b[39m \u001b[34mreadr  \u001b[39m 2.1.2      \u001b[32m✔\u001b[39m \u001b[34mforcats\u001b[39m 0.5.2 \n",
      "── \u001b[1mConflicts\u001b[22m ────────────────────────────────────────── tidyverse_conflicts() ──\n",
      "\u001b[31m✖\u001b[39m \u001b[34mdplyr\u001b[39m::\u001b[32mfilter()\u001b[39m masks \u001b[34mstats\u001b[39m::filter()\n",
      "\u001b[31m✖\u001b[39m \u001b[34mdplyr\u001b[39m::\u001b[32mlag()\u001b[39m    masks \u001b[34mstats\u001b[39m::lag()\n",
      "\n",
      "Attaching package: ‘gridExtra’\n",
      "\n",
      "\n",
      "The following object is masked from ‘package:dplyr’:\n",
      "\n",
      "    combine\n",
      "\n",
      "\n"
     ]
    }
   ],
   "source": [
    "# Add libraries\n",
    "library(tidyverse)\n",
    "library(repr)\n",
    "library(datateachr)\n",
    "library(digest)\n",
    "library(infer)\n",
    "library(gridExtra)\n",
    "library(cowplot)\n",
    "library(dplyr)\n",
    "library(broom)"
   ]
  },
  {
   "cell_type": "code",
   "execution_count": 2,
   "id": "b7974d13-20c9-475c-9dd8-7d5cfe72d154",
   "metadata": {},
   "outputs": [
    {
     "data": {
      "text/html": [
       "<table class=\"dataframe\">\n",
       "<caption>A data.frame: 6 × 16</caption>\n",
       "<thead>\n",
       "\t<tr><th></th><th scope=col>GENDER</th><th scope=col>AGE</th><th scope=col>SMOKING</th><th scope=col>YELLOW_FINGERS</th><th scope=col>ANXIETY</th><th scope=col>PEER_PRESSURE</th><th scope=col>CHRONIC.DISEASE</th><th scope=col>FATIGUE</th><th scope=col>ALLERGY</th><th scope=col>WHEEZING</th><th scope=col>ALCOHOL.CONSUMING</th><th scope=col>COUGHING</th><th scope=col>SHORTNESS.OF.BREATH</th><th scope=col>SWALLOWING.DIFFICULTY</th><th scope=col>CHEST.PAIN</th><th scope=col>LUNG_CANCER</th></tr>\n",
       "\t<tr><th></th><th scope=col>&lt;chr&gt;</th><th scope=col>&lt;int&gt;</th><th scope=col>&lt;int&gt;</th><th scope=col>&lt;int&gt;</th><th scope=col>&lt;int&gt;</th><th scope=col>&lt;int&gt;</th><th scope=col>&lt;int&gt;</th><th scope=col>&lt;int&gt;</th><th scope=col>&lt;int&gt;</th><th scope=col>&lt;int&gt;</th><th scope=col>&lt;int&gt;</th><th scope=col>&lt;int&gt;</th><th scope=col>&lt;int&gt;</th><th scope=col>&lt;int&gt;</th><th scope=col>&lt;int&gt;</th><th scope=col>&lt;chr&gt;</th></tr>\n",
       "</thead>\n",
       "<tbody>\n",
       "\t<tr><th scope=row>1</th><td>M</td><td>69</td><td>1</td><td>2</td><td>2</td><td>1</td><td>1</td><td>2</td><td>1</td><td>2</td><td>2</td><td>2</td><td>2</td><td>2</td><td>2</td><td>YES</td></tr>\n",
       "\t<tr><th scope=row>2</th><td>M</td><td>74</td><td>2</td><td>1</td><td>1</td><td>1</td><td>2</td><td>2</td><td>2</td><td>1</td><td>1</td><td>1</td><td>2</td><td>2</td><td>2</td><td>YES</td></tr>\n",
       "\t<tr><th scope=row>3</th><td>F</td><td>59</td><td>1</td><td>1</td><td>1</td><td>2</td><td>1</td><td>2</td><td>1</td><td>2</td><td>1</td><td>2</td><td>2</td><td>1</td><td>2</td><td>NO </td></tr>\n",
       "\t<tr><th scope=row>4</th><td>M</td><td>63</td><td>2</td><td>2</td><td>2</td><td>1</td><td>1</td><td>1</td><td>1</td><td>1</td><td>2</td><td>1</td><td>1</td><td>2</td><td>2</td><td>NO </td></tr>\n",
       "\t<tr><th scope=row>5</th><td>F</td><td>63</td><td>1</td><td>2</td><td>1</td><td>1</td><td>1</td><td>1</td><td>1</td><td>2</td><td>1</td><td>2</td><td>2</td><td>1</td><td>1</td><td>NO </td></tr>\n",
       "\t<tr><th scope=row>6</th><td>F</td><td>75</td><td>1</td><td>2</td><td>1</td><td>1</td><td>2</td><td>2</td><td>2</td><td>2</td><td>1</td><td>2</td><td>2</td><td>1</td><td>1</td><td>YES</td></tr>\n",
       "</tbody>\n",
       "</table>\n"
      ],
      "text/latex": [
       "A data.frame: 6 × 16\n",
       "\\begin{tabular}{r|llllllllllllllll}\n",
       "  & GENDER & AGE & SMOKING & YELLOW\\_FINGERS & ANXIETY & PEER\\_PRESSURE & CHRONIC.DISEASE & FATIGUE & ALLERGY & WHEEZING & ALCOHOL.CONSUMING & COUGHING & SHORTNESS.OF.BREATH & SWALLOWING.DIFFICULTY & CHEST.PAIN & LUNG\\_CANCER\\\\\n",
       "  & <chr> & <int> & <int> & <int> & <int> & <int> & <int> & <int> & <int> & <int> & <int> & <int> & <int> & <int> & <int> & <chr>\\\\\n",
       "\\hline\n",
       "\t1 & M & 69 & 1 & 2 & 2 & 1 & 1 & 2 & 1 & 2 & 2 & 2 & 2 & 2 & 2 & YES\\\\\n",
       "\t2 & M & 74 & 2 & 1 & 1 & 1 & 2 & 2 & 2 & 1 & 1 & 1 & 2 & 2 & 2 & YES\\\\\n",
       "\t3 & F & 59 & 1 & 1 & 1 & 2 & 1 & 2 & 1 & 2 & 1 & 2 & 2 & 1 & 2 & NO \\\\\n",
       "\t4 & M & 63 & 2 & 2 & 2 & 1 & 1 & 1 & 1 & 1 & 2 & 1 & 1 & 2 & 2 & NO \\\\\n",
       "\t5 & F & 63 & 1 & 2 & 1 & 1 & 1 & 1 & 1 & 2 & 1 & 2 & 2 & 1 & 1 & NO \\\\\n",
       "\t6 & F & 75 & 1 & 2 & 1 & 1 & 2 & 2 & 2 & 2 & 1 & 2 & 2 & 1 & 1 & YES\\\\\n",
       "\\end{tabular}\n"
      ],
      "text/markdown": [
       "\n",
       "A data.frame: 6 × 16\n",
       "\n",
       "| <!--/--> | GENDER &lt;chr&gt; | AGE &lt;int&gt; | SMOKING &lt;int&gt; | YELLOW_FINGERS &lt;int&gt; | ANXIETY &lt;int&gt; | PEER_PRESSURE &lt;int&gt; | CHRONIC.DISEASE &lt;int&gt; | FATIGUE &lt;int&gt; | ALLERGY &lt;int&gt; | WHEEZING &lt;int&gt; | ALCOHOL.CONSUMING &lt;int&gt; | COUGHING &lt;int&gt; | SHORTNESS.OF.BREATH &lt;int&gt; | SWALLOWING.DIFFICULTY &lt;int&gt; | CHEST.PAIN &lt;int&gt; | LUNG_CANCER &lt;chr&gt; |\n",
       "|---|---|---|---|---|---|---|---|---|---|---|---|---|---|---|---|---|\n",
       "| 1 | M | 69 | 1 | 2 | 2 | 1 | 1 | 2 | 1 | 2 | 2 | 2 | 2 | 2 | 2 | YES |\n",
       "| 2 | M | 74 | 2 | 1 | 1 | 1 | 2 | 2 | 2 | 1 | 1 | 1 | 2 | 2 | 2 | YES |\n",
       "| 3 | F | 59 | 1 | 1 | 1 | 2 | 1 | 2 | 1 | 2 | 1 | 2 | 2 | 1 | 2 | NO  |\n",
       "| 4 | M | 63 | 2 | 2 | 2 | 1 | 1 | 1 | 1 | 1 | 2 | 1 | 1 | 2 | 2 | NO  |\n",
       "| 5 | F | 63 | 1 | 2 | 1 | 1 | 1 | 1 | 1 | 2 | 1 | 2 | 2 | 1 | 1 | NO  |\n",
       "| 6 | F | 75 | 1 | 2 | 1 | 1 | 2 | 2 | 2 | 2 | 1 | 2 | 2 | 1 | 1 | YES |\n",
       "\n"
      ],
      "text/plain": [
       "  GENDER AGE SMOKING YELLOW_FINGERS ANXIETY PEER_PRESSURE CHRONIC.DISEASE\n",
       "1 M      69  1       2              2       1             1              \n",
       "2 M      74  2       1              1       1             2              \n",
       "3 F      59  1       1              1       2             1              \n",
       "4 M      63  2       2              2       1             1              \n",
       "5 F      63  1       2              1       1             1              \n",
       "6 F      75  1       2              1       1             2              \n",
       "  FATIGUE ALLERGY WHEEZING ALCOHOL.CONSUMING COUGHING SHORTNESS.OF.BREATH\n",
       "1 2       1       2        2                 2        2                  \n",
       "2 2       2       1        1                 1        2                  \n",
       "3 2       1       2        1                 2        2                  \n",
       "4 1       1       1        2                 1        1                  \n",
       "5 1       1       2        1                 2        2                  \n",
       "6 2       2       2        1                 2        2                  \n",
       "  SWALLOWING.DIFFICULTY CHEST.PAIN LUNG_CANCER\n",
       "1 2                     2          YES        \n",
       "2 2                     2          YES        \n",
       "3 1                     2          NO         \n",
       "4 2                     2          NO         \n",
       "5 1                     1          NO         \n",
       "6 1                     1          YES        "
      ]
     },
     "metadata": {},
     "output_type": "display_data"
    }
   ],
   "source": [
    "# Read data from .csv file\n",
    "survey <- read.csv('survey lung cancer.csv')\n",
    "head(survey)"
   ]
  },
  {
   "cell_type": "code",
   "execution_count": 3,
   "id": "d23b643b-20c6-4e4c-92a8-00445d33aa4a",
   "metadata": {},
   "outputs": [
    {
     "data": {
      "text/html": [
       "<table class=\"dataframe\">\n",
       "<caption>A data.frame: 6 × 15</caption>\n",
       "<thead>\n",
       "\t<tr><th></th><th scope=col>gender</th><th scope=col>age</th><th scope=col>smoking</th><th scope=col>yellow_fingers</th><th scope=col>anxiety</th><th scope=col>chronic_disease</th><th scope=col>fatigue</th><th scope=col>allergy</th><th scope=col>wheezing</th><th scope=col>alcohol_consuming</th><th scope=col>coughing</th><th scope=col>shortness_of_breath</th><th scope=col>swallowing_difficulty</th><th scope=col>chest_pain</th><th scope=col>lung_cancer</th></tr>\n",
       "\t<tr><th></th><th scope=col>&lt;chr&gt;</th><th scope=col>&lt;int&gt;</th><th scope=col>&lt;lgl&gt;</th><th scope=col>&lt;lgl&gt;</th><th scope=col>&lt;lgl&gt;</th><th scope=col>&lt;lgl&gt;</th><th scope=col>&lt;lgl&gt;</th><th scope=col>&lt;lgl&gt;</th><th scope=col>&lt;lgl&gt;</th><th scope=col>&lt;lgl&gt;</th><th scope=col>&lt;lgl&gt;</th><th scope=col>&lt;lgl&gt;</th><th scope=col>&lt;lgl&gt;</th><th scope=col>&lt;lgl&gt;</th><th scope=col>&lt;lgl&gt;</th></tr>\n",
       "</thead>\n",
       "<tbody>\n",
       "\t<tr><th scope=row>1</th><td>M</td><td>69</td><td>FALSE</td><td> TRUE</td><td> TRUE</td><td>FALSE</td><td> TRUE</td><td>FALSE</td><td> TRUE</td><td> TRUE</td><td> TRUE</td><td> TRUE</td><td> TRUE</td><td> TRUE</td><td> TRUE</td></tr>\n",
       "\t<tr><th scope=row>2</th><td>M</td><td>74</td><td> TRUE</td><td>FALSE</td><td>FALSE</td><td> TRUE</td><td> TRUE</td><td> TRUE</td><td>FALSE</td><td>FALSE</td><td>FALSE</td><td> TRUE</td><td> TRUE</td><td> TRUE</td><td> TRUE</td></tr>\n",
       "\t<tr><th scope=row>3</th><td>F</td><td>59</td><td>FALSE</td><td>FALSE</td><td>FALSE</td><td>FALSE</td><td> TRUE</td><td>FALSE</td><td> TRUE</td><td>FALSE</td><td> TRUE</td><td> TRUE</td><td>FALSE</td><td> TRUE</td><td>FALSE</td></tr>\n",
       "\t<tr><th scope=row>4</th><td>M</td><td>63</td><td> TRUE</td><td> TRUE</td><td> TRUE</td><td>FALSE</td><td>FALSE</td><td>FALSE</td><td>FALSE</td><td> TRUE</td><td>FALSE</td><td>FALSE</td><td> TRUE</td><td> TRUE</td><td>FALSE</td></tr>\n",
       "\t<tr><th scope=row>5</th><td>F</td><td>63</td><td>FALSE</td><td> TRUE</td><td>FALSE</td><td>FALSE</td><td>FALSE</td><td>FALSE</td><td> TRUE</td><td>FALSE</td><td> TRUE</td><td> TRUE</td><td>FALSE</td><td>FALSE</td><td>FALSE</td></tr>\n",
       "\t<tr><th scope=row>6</th><td>F</td><td>75</td><td>FALSE</td><td> TRUE</td><td>FALSE</td><td> TRUE</td><td> TRUE</td><td> TRUE</td><td> TRUE</td><td>FALSE</td><td> TRUE</td><td> TRUE</td><td>FALSE</td><td>FALSE</td><td> TRUE</td></tr>\n",
       "</tbody>\n",
       "</table>\n"
      ],
      "text/latex": [
       "A data.frame: 6 × 15\n",
       "\\begin{tabular}{r|lllllllllllllll}\n",
       "  & gender & age & smoking & yellow\\_fingers & anxiety & chronic\\_disease & fatigue & allergy & wheezing & alcohol\\_consuming & coughing & shortness\\_of\\_breath & swallowing\\_difficulty & chest\\_pain & lung\\_cancer\\\\\n",
       "  & <chr> & <int> & <lgl> & <lgl> & <lgl> & <lgl> & <lgl> & <lgl> & <lgl> & <lgl> & <lgl> & <lgl> & <lgl> & <lgl> & <lgl>\\\\\n",
       "\\hline\n",
       "\t1 & M & 69 & FALSE &  TRUE &  TRUE & FALSE &  TRUE & FALSE &  TRUE &  TRUE &  TRUE &  TRUE &  TRUE &  TRUE &  TRUE\\\\\n",
       "\t2 & M & 74 &  TRUE & FALSE & FALSE &  TRUE &  TRUE &  TRUE & FALSE & FALSE & FALSE &  TRUE &  TRUE &  TRUE &  TRUE\\\\\n",
       "\t3 & F & 59 & FALSE & FALSE & FALSE & FALSE &  TRUE & FALSE &  TRUE & FALSE &  TRUE &  TRUE & FALSE &  TRUE & FALSE\\\\\n",
       "\t4 & M & 63 &  TRUE &  TRUE &  TRUE & FALSE & FALSE & FALSE & FALSE &  TRUE & FALSE & FALSE &  TRUE &  TRUE & FALSE\\\\\n",
       "\t5 & F & 63 & FALSE &  TRUE & FALSE & FALSE & FALSE & FALSE &  TRUE & FALSE &  TRUE &  TRUE & FALSE & FALSE & FALSE\\\\\n",
       "\t6 & F & 75 & FALSE &  TRUE & FALSE &  TRUE &  TRUE &  TRUE &  TRUE & FALSE &  TRUE &  TRUE & FALSE & FALSE &  TRUE\\\\\n",
       "\\end{tabular}\n"
      ],
      "text/markdown": [
       "\n",
       "A data.frame: 6 × 15\n",
       "\n",
       "| <!--/--> | gender &lt;chr&gt; | age &lt;int&gt; | smoking &lt;lgl&gt; | yellow_fingers &lt;lgl&gt; | anxiety &lt;lgl&gt; | chronic_disease &lt;lgl&gt; | fatigue &lt;lgl&gt; | allergy &lt;lgl&gt; | wheezing &lt;lgl&gt; | alcohol_consuming &lt;lgl&gt; | coughing &lt;lgl&gt; | shortness_of_breath &lt;lgl&gt; | swallowing_difficulty &lt;lgl&gt; | chest_pain &lt;lgl&gt; | lung_cancer &lt;lgl&gt; |\n",
       "|---|---|---|---|---|---|---|---|---|---|---|---|---|---|---|---|\n",
       "| 1 | M | 69 | FALSE |  TRUE |  TRUE | FALSE |  TRUE | FALSE |  TRUE |  TRUE |  TRUE |  TRUE |  TRUE |  TRUE |  TRUE |\n",
       "| 2 | M | 74 |  TRUE | FALSE | FALSE |  TRUE |  TRUE |  TRUE | FALSE | FALSE | FALSE |  TRUE |  TRUE |  TRUE |  TRUE |\n",
       "| 3 | F | 59 | FALSE | FALSE | FALSE | FALSE |  TRUE | FALSE |  TRUE | FALSE |  TRUE |  TRUE | FALSE |  TRUE | FALSE |\n",
       "| 4 | M | 63 |  TRUE |  TRUE |  TRUE | FALSE | FALSE | FALSE | FALSE |  TRUE | FALSE | FALSE |  TRUE |  TRUE | FALSE |\n",
       "| 5 | F | 63 | FALSE |  TRUE | FALSE | FALSE | FALSE | FALSE |  TRUE | FALSE |  TRUE |  TRUE | FALSE | FALSE | FALSE |\n",
       "| 6 | F | 75 | FALSE |  TRUE | FALSE |  TRUE |  TRUE |  TRUE |  TRUE | FALSE |  TRUE |  TRUE | FALSE | FALSE |  TRUE |\n",
       "\n"
      ],
      "text/plain": [
       "  gender age smoking yellow_fingers anxiety chronic_disease fatigue allergy\n",
       "1 M      69  FALSE    TRUE           TRUE   FALSE            TRUE   FALSE  \n",
       "2 M      74   TRUE   FALSE          FALSE    TRUE            TRUE    TRUE  \n",
       "3 F      59  FALSE   FALSE          FALSE   FALSE            TRUE   FALSE  \n",
       "4 M      63   TRUE    TRUE           TRUE   FALSE           FALSE   FALSE  \n",
       "5 F      63  FALSE    TRUE          FALSE   FALSE           FALSE   FALSE  \n",
       "6 F      75  FALSE    TRUE          FALSE    TRUE            TRUE    TRUE  \n",
       "  wheezing alcohol_consuming coughing shortness_of_breath swallowing_difficulty\n",
       "1  TRUE     TRUE              TRUE     TRUE                TRUE                \n",
       "2 FALSE    FALSE             FALSE     TRUE                TRUE                \n",
       "3  TRUE    FALSE              TRUE     TRUE               FALSE                \n",
       "4 FALSE     TRUE             FALSE    FALSE                TRUE                \n",
       "5  TRUE    FALSE              TRUE     TRUE               FALSE                \n",
       "6  TRUE    FALSE              TRUE     TRUE               FALSE                \n",
       "  chest_pain lung_cancer\n",
       "1  TRUE       TRUE      \n",
       "2  TRUE       TRUE      \n",
       "3  TRUE      FALSE      \n",
       "4  TRUE      FALSE      \n",
       "5 FALSE      FALSE      \n",
       "6 FALSE       TRUE      "
      ]
     },
     "metadata": {},
     "output_type": "display_data"
    }
   ],
   "source": [
    "# Change most of the variables to boolean variables instead of integer or string variables\n",
    "survey_2 <- survey %>%\n",
    "    summarize(gender = GENDER,\n",
    "              age = AGE,\n",
    "              smoking = SMOKING - 1 == 1,\n",
    "              yellow_fingers = YELLOW_FINGERS - 1 == 1,\n",
    "              anxiety = ANXIETY - 1 == 1,\n",
    "              chronic_disease = CHRONIC.DISEASE - 1 == 1,\n",
    "              fatigue = FATIGUE - 1 == 1,\n",
    "              allergy = ALLERGY - 1 == 1,\n",
    "              wheezing = WHEEZING - 1 == 1,\n",
    "              alcohol_consuming = ALCOHOL.CONSUMING - 1 == 1,\n",
    "              coughing = COUGHING - 1 == 1,\n",
    "              shortness_of_breath = SHORTNESS.OF.BREATH - 1 == 1,\n",
    "              swallowing_difficulty = SWALLOWING.DIFFICULTY - 1 == 1,\n",
    "              chest_pain = CHEST.PAIN - 1 == 1,\n",
    "              lung_cancer = LUNG_CANCER == \"YES\"\n",
    "             )\n",
    "head(survey_2)"
   ]
  },
  {
   "cell_type": "code",
   "execution_count": 4,
   "id": "0fe3addc-6fb6-4066-98ff-f84e0c9d6187",
   "metadata": {},
   "outputs": [
    {
     "data": {
      "text/html": [
       "<table class=\"dataframe\">\n",
       "<caption>A data.frame: 6 × 5</caption>\n",
       "<thead>\n",
       "\t<tr><th></th><th scope=col>gender</th><th scope=col>smoking</th><th scope=col>alcohol_consuming</th><th scope=col>none</th><th scope=col>both</th></tr>\n",
       "\t<tr><th></th><th scope=col>&lt;chr&gt;</th><th scope=col>&lt;lgl&gt;</th><th scope=col>&lt;lgl&gt;</th><th scope=col>&lt;lgl&gt;</th><th scope=col>&lt;lgl&gt;</th></tr>\n",
       "</thead>\n",
       "<tbody>\n",
       "\t<tr><th scope=row>1</th><td>M</td><td>FALSE</td><td> TRUE</td><td>FALSE</td><td>FALSE</td></tr>\n",
       "\t<tr><th scope=row>2</th><td>M</td><td> TRUE</td><td>FALSE</td><td>FALSE</td><td>FALSE</td></tr>\n",
       "\t<tr><th scope=row>3</th><td>F</td><td>FALSE</td><td>FALSE</td><td> TRUE</td><td>FALSE</td></tr>\n",
       "\t<tr><th scope=row>4</th><td>M</td><td> TRUE</td><td> TRUE</td><td>FALSE</td><td> TRUE</td></tr>\n",
       "\t<tr><th scope=row>5</th><td>F</td><td> TRUE</td><td>FALSE</td><td>FALSE</td><td>FALSE</td></tr>\n",
       "\t<tr><th scope=row>6</th><td>M</td><td> TRUE</td><td> TRUE</td><td>FALSE</td><td> TRUE</td></tr>\n",
       "</tbody>\n",
       "</table>\n"
      ],
      "text/latex": [
       "A data.frame: 6 × 5\n",
       "\\begin{tabular}{r|lllll}\n",
       "  & gender & smoking & alcohol\\_consuming & none & both\\\\\n",
       "  & <chr> & <lgl> & <lgl> & <lgl> & <lgl>\\\\\n",
       "\\hline\n",
       "\t1 & M & FALSE &  TRUE & FALSE & FALSE\\\\\n",
       "\t2 & M &  TRUE & FALSE & FALSE & FALSE\\\\\n",
       "\t3 & F & FALSE & FALSE &  TRUE & FALSE\\\\\n",
       "\t4 & M &  TRUE &  TRUE & FALSE &  TRUE\\\\\n",
       "\t5 & F &  TRUE & FALSE & FALSE & FALSE\\\\\n",
       "\t6 & M &  TRUE &  TRUE & FALSE &  TRUE\\\\\n",
       "\\end{tabular}\n"
      ],
      "text/markdown": [
       "\n",
       "A data.frame: 6 × 5\n",
       "\n",
       "| <!--/--> | gender &lt;chr&gt; | smoking &lt;lgl&gt; | alcohol_consuming &lt;lgl&gt; | none &lt;lgl&gt; | both &lt;lgl&gt; |\n",
       "|---|---|---|---|---|---|\n",
       "| 1 | M | FALSE |  TRUE | FALSE | FALSE |\n",
       "| 2 | M |  TRUE | FALSE | FALSE | FALSE |\n",
       "| 3 | F | FALSE | FALSE |  TRUE | FALSE |\n",
       "| 4 | M |  TRUE |  TRUE | FALSE |  TRUE |\n",
       "| 5 | F |  TRUE | FALSE | FALSE | FALSE |\n",
       "| 6 | M |  TRUE |  TRUE | FALSE |  TRUE |\n",
       "\n"
      ],
      "text/plain": [
       "  gender smoking alcohol_consuming none  both \n",
       "1 M      FALSE    TRUE             FALSE FALSE\n",
       "2 M       TRUE   FALSE             FALSE FALSE\n",
       "3 F      FALSE   FALSE              TRUE FALSE\n",
       "4 M       TRUE    TRUE             FALSE  TRUE\n",
       "5 F       TRUE   FALSE             FALSE FALSE\n",
       "6 M       TRUE    TRUE             FALSE  TRUE"
      ]
     },
     "metadata": {},
     "output_type": "display_data"
    }
   ],
   "source": [
    "# Clean and wrangle data; we are only interested in people who have lung cancer and whether or not they smoked and/or consumed alcohol\n",
    "survey_clean_wrangled <- survey_2 %>%\n",
    "    filter(lung_cancer == TRUE) %>%\n",
    "    select(gender, smoking, alcohol_consuming) %>%\n",
    "    mutate(none = !smoking & !alcohol_consuming, both = smoking & alcohol_consuming)\n",
    "\n",
    "head(survey_clean_wrangled)"
   ]
  },
  {
   "cell_type": "code",
   "execution_count": 5,
   "id": "c12e7516-3fac-4ab9-92e7-cce4b0d7c812",
   "metadata": {},
   "outputs": [
    {
     "data": {
      "text/html": [
       "<table class=\"dataframe\">\n",
       "<caption>A tibble: 2 × 5</caption>\n",
       "<thead>\n",
       "\t<tr><th scope=col>gender</th><th scope=col>none_prop</th><th scope=col>smoking_prop</th><th scope=col>alcohol_consuming_prop</th><th scope=col>both_prop</th></tr>\n",
       "\t<tr><th scope=col>&lt;chr&gt;</th><th scope=col>&lt;dbl&gt;</th><th scope=col>&lt;dbl&gt;</th><th scope=col>&lt;dbl&gt;</th><th scope=col>&lt;dbl&gt;</th></tr>\n",
       "</thead>\n",
       "<tbody>\n",
       "\t<tr><td>F</td><td>0.22400000</td><td>0.4000000</td><td>0.2160000</td><td>0.1600000</td></tr>\n",
       "\t<tr><td>M</td><td>0.08275862</td><td>0.1034483</td><td>0.3310345</td><td>0.4827586</td></tr>\n",
       "</tbody>\n",
       "</table>\n"
      ],
      "text/latex": [
       "A tibble: 2 × 5\n",
       "\\begin{tabular}{lllll}\n",
       " gender & none\\_prop & smoking\\_prop & alcohol\\_consuming\\_prop & both\\_prop\\\\\n",
       " <chr> & <dbl> & <dbl> & <dbl> & <dbl>\\\\\n",
       "\\hline\n",
       "\t F & 0.22400000 & 0.4000000 & 0.2160000 & 0.1600000\\\\\n",
       "\t M & 0.08275862 & 0.1034483 & 0.3310345 & 0.4827586\\\\\n",
       "\\end{tabular}\n"
      ],
      "text/markdown": [
       "\n",
       "A tibble: 2 × 5\n",
       "\n",
       "| gender &lt;chr&gt; | none_prop &lt;dbl&gt; | smoking_prop &lt;dbl&gt; | alcohol_consuming_prop &lt;dbl&gt; | both_prop &lt;dbl&gt; |\n",
       "|---|---|---|---|---|\n",
       "| F | 0.22400000 | 0.4000000 | 0.2160000 | 0.1600000 |\n",
       "| M | 0.08275862 | 0.1034483 | 0.3310345 | 0.4827586 |\n",
       "\n"
      ],
      "text/plain": [
       "  gender none_prop  smoking_prop alcohol_consuming_prop both_prop\n",
       "1 F      0.22400000 0.4000000    0.2160000              0.1600000\n",
       "2 M      0.08275862 0.1034483    0.3310345              0.4827586"
      ]
     },
     "metadata": {},
     "output_type": "display_data"
    }
   ],
   "source": [
    "# Summarize proportions of smokers, drinkers, people who did both, and people who did neither\n",
    "survey_summary_clean_wrangled <- survey_clean_wrangled %>%\n",
    "    group_by(gender) %>%\n",
    "    summarize(none_prop = mean(smoking != TRUE & alcohol_consuming != TRUE),\n",
    "              smoking_prop = mean(smoking == TRUE & alcohol_consuming != TRUE),\n",
    "              alcohol_consuming_prop = mean(alcohol_consuming == TRUE & smoking != TRUE),\n",
    "              both_prop = mean(smoking == TRUE & alcohol_consuming == TRUE))\n",
    "\n",
    "survey_summary_clean_wrangled"
   ]
  },
  {
   "cell_type": "code",
   "execution_count": 6,
   "id": "56621470-e189-4f86-bd83-2ecb0625eadd",
   "metadata": {},
   "outputs": [
    {
     "data": {
      "text/html": [
       "<table class=\"dataframe\">\n",
       "<caption>A tibble: 2 × 5</caption>\n",
       "<thead>\n",
       "\t<tr><th scope=col>gender</th><th scope=col>smoking_prop</th><th scope=col>se</th><th scope=col>lower_ci</th><th scope=col>upper_ci</th></tr>\n",
       "\t<tr><th scope=col>&lt;chr&gt;</th><th scope=col>&lt;dbl&gt;</th><th scope=col>&lt;dbl&gt;</th><th scope=col>&lt;dbl&gt;</th><th scope=col>&lt;dbl&gt;</th></tr>\n",
       "</thead>\n",
       "<tbody>\n",
       "\t<tr><td>F</td><td>0.4000000</td><td>0.04381780</td><td>0.31411868</td><td>0.4858813</td></tr>\n",
       "\t<tr><td>M</td><td>0.1034483</td><td>0.02529096</td><td>0.05387891</td><td>0.1530176</td></tr>\n",
       "</tbody>\n",
       "</table>\n"
      ],
      "text/latex": [
       "A tibble: 2 × 5\n",
       "\\begin{tabular}{lllll}\n",
       " gender & smoking\\_prop & se & lower\\_ci & upper\\_ci\\\\\n",
       " <chr> & <dbl> & <dbl> & <dbl> & <dbl>\\\\\n",
       "\\hline\n",
       "\t F & 0.4000000 & 0.04381780 & 0.31411868 & 0.4858813\\\\\n",
       "\t M & 0.1034483 & 0.02529096 & 0.05387891 & 0.1530176\\\\\n",
       "\\end{tabular}\n"
      ],
      "text/markdown": [
       "\n",
       "A tibble: 2 × 5\n",
       "\n",
       "| gender &lt;chr&gt; | smoking_prop &lt;dbl&gt; | se &lt;dbl&gt; | lower_ci &lt;dbl&gt; | upper_ci &lt;dbl&gt; |\n",
       "|---|---|---|---|---|\n",
       "| F | 0.4000000 | 0.04381780 | 0.31411868 | 0.4858813 |\n",
       "| M | 0.1034483 | 0.02529096 | 0.05387891 | 0.1530176 |\n",
       "\n"
      ],
      "text/plain": [
       "  gender smoking_prop se         lower_ci   upper_ci \n",
       "1 F      0.4000000    0.04381780 0.31411868 0.4858813\n",
       "2 M      0.1034483    0.02529096 0.05387891 0.1530176"
      ]
     },
     "metadata": {},
     "output_type": "display_data"
    },
    {
     "data": {
      "text/html": [
       "<table class=\"dataframe\">\n",
       "<caption>A tibble: 2 × 5</caption>\n",
       "<thead>\n",
       "\t<tr><th scope=col>gender</th><th scope=col>alcohol_consuming_prop</th><th scope=col>se</th><th scope=col>lower_ci</th><th scope=col>upper_ci</th></tr>\n",
       "\t<tr><th scope=col>&lt;chr&gt;</th><th scope=col>&lt;dbl&gt;</th><th scope=col>&lt;dbl&gt;</th><th scope=col>&lt;dbl&gt;</th><th scope=col>&lt;dbl&gt;</th></tr>\n",
       "</thead>\n",
       "<tbody>\n",
       "\t<tr><td>F</td><td>0.2160000</td><td>0.03680696</td><td>0.1438597</td><td>0.2881403</td></tr>\n",
       "\t<tr><td>M</td><td>0.3310345</td><td>0.03907999</td><td>0.2544391</td><td>0.4076299</td></tr>\n",
       "</tbody>\n",
       "</table>\n"
      ],
      "text/latex": [
       "A tibble: 2 × 5\n",
       "\\begin{tabular}{lllll}\n",
       " gender & alcohol\\_consuming\\_prop & se & lower\\_ci & upper\\_ci\\\\\n",
       " <chr> & <dbl> & <dbl> & <dbl> & <dbl>\\\\\n",
       "\\hline\n",
       "\t F & 0.2160000 & 0.03680696 & 0.1438597 & 0.2881403\\\\\n",
       "\t M & 0.3310345 & 0.03907999 & 0.2544391 & 0.4076299\\\\\n",
       "\\end{tabular}\n"
      ],
      "text/markdown": [
       "\n",
       "A tibble: 2 × 5\n",
       "\n",
       "| gender &lt;chr&gt; | alcohol_consuming_prop &lt;dbl&gt; | se &lt;dbl&gt; | lower_ci &lt;dbl&gt; | upper_ci &lt;dbl&gt; |\n",
       "|---|---|---|---|---|\n",
       "| F | 0.2160000 | 0.03680696 | 0.1438597 | 0.2881403 |\n",
       "| M | 0.3310345 | 0.03907999 | 0.2544391 | 0.4076299 |\n",
       "\n"
      ],
      "text/plain": [
       "  gender alcohol_consuming_prop se         lower_ci  upper_ci \n",
       "1 F      0.2160000              0.03680696 0.1438597 0.2881403\n",
       "2 M      0.3310345              0.03907999 0.2544391 0.4076299"
      ]
     },
     "metadata": {},
     "output_type": "display_data"
    }
   ],
   "source": [
    "# Determine proportion, standard error, and confidence intervals\n",
    "none_prop_CI <- survey_clean_wrangled %>%\n",
    "    group_by(gender) %>%\n",
    "    summarize(none_prop = mean(smoking != TRUE & alcohol_consuming != TRUE),\n",
    "              se = sqrt(none_prop * (1 - none_prop) / n()),\n",
    "              lower_ci = none_prop - (qnorm(0.975) * se),\n",
    "              upper_ci = none_prop + (qnorm(0.975) * se))\n",
    "\n",
    "smoking_prop_CI <- survey_clean_wrangled %>%\n",
    "    group_by(gender) %>%\n",
    "    summarize(smoking_prop = mean(smoking == TRUE & alcohol_consuming != TRUE),\n",
    "              se = sqrt(smoking_prop * (1 - smoking_prop) / n()),\n",
    "              lower_ci = smoking_prop - (qnorm(0.975) * se),\n",
    "              upper_ci = smoking_prop + (qnorm(0.975) * se))\n",
    "\n",
    "alcohol_consuming_prop_CI <- survey_clean_wrangled %>%\n",
    "    group_by(gender) %>%\n",
    "    summarize(alcohol_consuming_prop = mean(smoking != TRUE & alcohol_consuming == TRUE),\n",
    "              se = sqrt(alcohol_consuming_prop* (1 - alcohol_consuming_prop) / n()),\n",
    "              lower_ci = alcohol_consuming_prop - (qnorm(0.975) * se),\n",
    "              upper_ci = alcohol_consuming_prop + (qnorm(0.975) * se))\n",
    "\n",
    "both_prop_CI <- survey_clean_wrangled %>%\n",
    "    group_by(gender) %>%\n",
    "    summarize(both_prop = mean(smoking == TRUE & alcohol_consuming == TRUE),\n",
    "              se = sqrt(both_prop * (1 - both_prop) / n()),\n",
    "              lower_ci = both_prop - (qnorm(0.975) * se),\n",
    "              upper_ci = both_prop + (qnorm(0.975) * se))\n",
    "\n",
    "smoking_prop_CI\n",
    "alcohol_consuming_prop_CI"
   ]
  },
  {
   "cell_type": "code",
   "execution_count": null,
   "id": "f9979ad8-b6b6-4ea9-8027-4f827d53abe7",
   "metadata": {},
   "outputs": [],
   "source": [
    "# Create bootstrap distributions using the clean and wrangled data, then calculate the proportion differences between genders\n",
    "set.seed(1)\n",
    "bootstrap_survey_smoking <- survey_clean_wrangled %>%\n",
    "    mutate(only_smoking = !alcohol_consuming & smoking) %>%\n",
    "    specify(formula = only_smoking ~ gender, success = \"TRUE\") %>%\n",
    "    hypothesize(null = \"independence\") %>%\n",
    "    generate(type = \"bootstrap\", reps = 1000) %>%\n",
    "    calculate(stat = \"diff in props\", order = c(\"F\", \"M\"))\n",
    "\n",
    "set.seed(1)\n",
    "bootstrap_survey_alcohol_consuming <- survey_clean_wrangled %>%\n",
    "    mutate(only_alcohol_consuming = alcohol_consuming & !smoking) %>%\n",
    "    specify(formula = only_alcohol_consuming ~ gender, success = \"TRUE\") %>%\n",
    "    hypothesize(null = \"independence\") %>%\n",
    "    generate(type = \"bootstrap\", reps = 1000) %>%\n",
    "    calculate(stat = \"diff in props\", order = c(\"F\", \"M\"))\n",
    "\n",
    "set.seed(1)\n",
    "bootstrap_survey_both <- survey_clean_wrangled %>%\n",
    "    specify(formula = both ~ gender, success = \"TRUE\") %>%\n",
    "    hypothesize(null = \"independence\") %>%\n",
    "    generate(type = \"bootstrap\", reps = 1000) %>%\n",
    "    calculate(stat = \"diff in props\", order = c(\"F\", \"M\"))\n",
    "\n",
    "set.seed(1)\n",
    "bootstrap_survey_none <- survey_clean_wrangled %>%\n",
    "    specify(formula = none ~ gender, success = \"TRUE\") %>%\n",
    "    hypothesize(null = \"independence\") %>%\n",
    "    generate(type = \"bootstrap\", reps = 1000) %>%\n",
    "    calculate(stat = \"diff in props\", order = c(\"F\", \"M\"))"
   ]
  },
  {
   "cell_type": "markdown",
   "id": "69ba3aaa-11d6-457a-ba56-4900a18c7ec6",
   "metadata": {},
   "source": [
    "**Smoking Only Differences in Proportions**"
   ]
  },
  {
   "cell_type": "code",
   "execution_count": null,
   "id": "e2d12d52-22d9-4079-9ead-b070ac1d07c8",
   "metadata": {},
   "outputs": [],
   "source": [
    "head(bootstrap_survey_smoking)"
   ]
  },
  {
   "cell_type": "markdown",
   "id": "bfe6a7b8-85fa-4f7f-8093-04e2e0bec793",
   "metadata": {},
   "source": [
    "**Drinking Only Differences in Proportions**"
   ]
  },
  {
   "cell_type": "code",
   "execution_count": null,
   "id": "dd57cde8-c5a8-416d-b4a5-4a12ef89f39c",
   "metadata": {},
   "outputs": [],
   "source": [
    "head(bootstrap_survey_alcohol_consuming)"
   ]
  },
  {
   "cell_type": "markdown",
   "id": "afb8d77d-baf8-49fa-b017-7aadc0b4dc2d",
   "metadata": {},
   "source": [
    "**Smoking and Drinking Differences in Proportions**"
   ]
  },
  {
   "cell_type": "code",
   "execution_count": null,
   "id": "9f41b7d5-be17-4baa-a7f8-9d9696dc1f61",
   "metadata": {},
   "outputs": [],
   "source": [
    "#head(bootstrap_survey_both)"
   ]
  },
  {
   "cell_type": "markdown",
   "id": "cb1d36fc-300d-4c5b-8c07-b6f4de5c935a",
   "metadata": {},
   "source": [
    "**Non-Smoking and Non-Drinking Differences in Proportions**"
   ]
  },
  {
   "cell_type": "code",
   "execution_count": null,
   "id": "f5f3da1b-3d88-4aba-a9ab-cf05e94065b8",
   "metadata": {},
   "outputs": [],
   "source": [
    "#head(bootstrap_survey_none)"
   ]
  },
  {
   "cell_type": "code",
   "execution_count": null,
   "id": "b7a165c6-50d5-4527-bb6c-c3a094d26bc5",
   "metadata": {},
   "outputs": [],
   "source": [
    "# Increase size of plots\n",
    "options(repr.plot.width = 13, repr.plot.height = 7.5)\n",
    "\n",
    "# Plot the bootstrap distribution of the smokers only group\n",
    "bootstrap_survey_smoking_plot <- bootstrap_survey_smoking %>%\n",
    "    ggplot(aes(x = stat)) +\n",
    "        geom_histogram(bins = 20) +\n",
    "        labs(x = \"Difference in Proportion of Smokers\") +\n",
    "        ggtitle(\"Bootstrap Distribution of Diff. in Props. of Smokers with Lung Cancer (F - M)\") +\n",
    "        theme(text = element_text(size = 10))\n",
    "\n",
    "# Plot the bootstrap distribution of the drinkers only group\n",
    "bootstrap_survey_alcohol_consuming_plot <- bootstrap_survey_alcohol_consuming %>%\n",
    "    ggplot(aes(x = stat)) +\n",
    "        geom_histogram(bins = 20) +\n",
    "        labs(x = \"Difference in Proportion of Drinkers\") +\n",
    "        ggtitle(\"Bootstrap Distribution of Diff. in Props. of Drinkers with Lung Cancer (F - M)\") +\n",
    "        theme(text = element_text(size = 10))\n",
    "\n",
    "# Plot the bootstrap distribution of the smokers and drinkers group\n",
    "bootstrap_survey_both_plot <- bootstrap_survey_both %>%\n",
    "    ggplot(aes(x = stat)) +\n",
    "        geom_histogram(bins = 20) +\n",
    "        labs(x = \"Difference in Proportion of Smokers and Drinkers\") +\n",
    "        ggtitle(\"Bootstrap Distribution of Diff. in Props. of Smokers and Drinkers with Lung Cancer (F - M)\") +\n",
    "        theme(text = element_text(size = 10))\n",
    "\n",
    "# Plot the bootstrap distribution of the non-smokers and non-drinkers group\n",
    "bootstrap_survey_none_plot <- bootstrap_survey_none %>%\n",
    "    ggplot(aes(x = stat)) +\n",
    "        geom_histogram(bins = 20) +\n",
    "        labs(x = \"Difference in Proportion of Non-Smokers and Non-Drinkers\") +\n",
    "        ggtitle(\"Bootstrap Distribution of Diff. in Props. of Non-Smokers and Non-Drinkers with Lung Cancer (F - M)\") +\n",
    "        theme(text = element_text(size = 10))\n",
    "\n",
    "grid.arrange(bootstrap_survey_smoking_plot,\n",
    "             bootstrap_survey_alcohol_consuming_plot,\n",
    "             ncol = 1)"
   ]
  },
  {
   "cell_type": "markdown",
   "id": "316ff6d7-a3b8-474f-9ea9-4c28502cb5d4",
   "metadata": {},
   "source": [
    "### New Work"
   ]
  },
  {
   "cell_type": "code",
   "execution_count": null,
   "id": "7ff5e6f5-0dba-43c8-a6aa-f120f95c3fa0",
   "metadata": {},
   "outputs": [],
   "source": [
    "# Set type I error to 5%, can be changed\n",
    "alpha = 0.05"
   ]
  },
  {
   "cell_type": "markdown",
   "id": "2f22ca7e-732f-439f-877e-722fd2f731e5",
   "metadata": {},
   "source": [
    "Can the Central Limit Theorem be applied?"
   ]
  },
  {
   "cell_type": "markdown",
   "id": "33f682ac-b642-44f2-b24e-d86dbcb3eddf",
   "metadata": {},
   "source": [
    "The sample observations do not depend on each other, so they were drawn in an independent fashion."
   ]
  },
  {
   "cell_type": "code",
   "execution_count": null,
   "id": "f892cae3-f16e-4aef-9ef1-d0ded7fa6102",
   "metadata": {},
   "outputs": [],
   "source": [
    "nrow(survey_clean_wrangled)"
   ]
  },
  {
   "cell_type": "markdown",
   "id": "eea7f1c7-6f02-40f5-8b51-8df53b020720",
   "metadata": {},
   "source": [
    "This sample size is nowhere near 10% of the total number of lung cancer patients in the world."
   ]
  },
  {
   "cell_type": "code",
   "execution_count": null,
   "id": "4a7811e1-9547-4e09-993e-413ff1107944",
   "metadata": {},
   "outputs": [],
   "source": [
    "# Summarize number of smokers, drinkers, people who did both, and people who did neither\n",
    "survey_num_observations_clean_wrangled <- survey_clean_wrangled %>%\n",
    "    group_by(gender) %>%\n",
    "    summarize(none_num = sum(smoking != TRUE & alcohol_consuming != TRUE),\n",
    "              smoking_num = sum(smoking == TRUE & alcohol_consuming != TRUE),\n",
    "              alcohol_consuming_num = sum(alcohol_consuming == TRUE & smoking != TRUE),\n",
    "              both_num = sum(smoking == TRUE & alcohol_consuming == TRUE))\n",
    "\n",
    "survey_num_observations_clean_wrangled"
   ]
  },
  {
   "cell_type": "code",
   "execution_count": null,
   "id": "647fd340-9a7d-45df-bcf8-fc17d5e22f6b",
   "metadata": {},
   "outputs": [],
   "source": [
    "survey_summary_clean_wrangled"
   ]
  },
  {
   "cell_type": "code",
   "execution_count": null,
   "id": "4a414633-ace1-428f-83cc-ef9f132f62fb",
   "metadata": {},
   "outputs": [],
   "source": [
    "survey_num_observations_clean_wrangled %>%\n",
    "    mutate(none_n_p = none_num * survey_summary_clean_wrangled$none_prop,\n",
    "           smoking_n_p = smoking_num * survey_summary_clean_wrangled$smoking_prop,\n",
    "           alcohol_consuming_n_p = alcohol_consuming_num * survey_summary_clean_wrangled$alcohol_consuming_prop,\n",
    "           both_n_p = both_num * survey_summary_clean_wrangled$both_prop,\n",
    "           none_n_1_minus_p = none_num * (1 - survey_summary_clean_wrangled$none_prop),\n",
    "           smoking_n_1_minus_p = smoking_num * (1 - survey_summary_clean_wrangled$smoking_prop),\n",
    "           alcohol_consuming_n_1_minus_p = alcohol_consuming_num * (1 - survey_summary_clean_wrangled$alcohol_consuming_prop),\n",
    "           both_n_1_minus_p = both_num * (1 - survey_summary_clean_wrangled$both_prop)) %>%\n",
    "    select(-none_num, -smoking_num, -alcohol_consuming_num, -both_num)"
   ]
  },
  {
   "cell_type": "markdown",
   "id": "063d04dc-382f-41fa-bed6-e8134d3072ae",
   "metadata": {},
   "source": [
    "Some of the numbers in the table above are less than 10. For those sections, the CLT will not be applicable to either the male or female block. Because of this, there is no guarantee that the differences in proportions between the blocks in the bootstrap distributions would follow a normal distribution."
   ]
  },
  {
   "cell_type": "markdown",
   "id": "0c0393f6-8446-4f12-9ca2-923de19ede4a",
   "metadata": {},
   "source": [
    "Try adding normal or t-distributions onto the bootstrap distributions anyways."
   ]
  },
  {
   "cell_type": "code",
   "execution_count": null,
   "id": "da50971b-705f-4681-87e5-2675fe996d26",
   "metadata": {},
   "outputs": [],
   "source": [
    "bootstrap_survey_smoking_plot_norm <- bootstrap_survey_smoking_plot +\n",
    "    geom_vline(xintercept = mean(bootstrap_survey_smoking$stat), color = \"red\")\n",
    "bootstrap_survey_alcohol_consuming_plot_norm <- bootstrap_survey_alcohol_consuming_plot +\n",
    "    geom_vline(xintercept = mean(bootstrap_survey_alcohol_consuming$stat), color = \"red\")\n",
    "bootstrap_survey_both_plot_norm <- bootstrap_survey_both_plot +\n",
    "    geom_vline(xintercept = mean(bootstrap_survey_both$stat), color = \"red\")\n",
    "bootstrap_survey_none_plot_norm <- bootstrap_survey_none_plot +\n",
    "    geom_vline(xintercept = mean(bootstrap_survey_none$stat), color = \"red\")\n",
    "\n",
    "grid.arrange(bootstrap_survey_smoking_plot_norm,\n",
    "             bootstrap_survey_alcohol_consuming_plot_norm,\n",
    "             bootstrap_survey_both_plot_norm,\n",
    "             bootstrap_survey_none_plot_norm,\n",
    "             ncol = 2)"
   ]
  },
  {
   "cell_type": "markdown",
   "id": "079c9ce8-2215-438a-89d9-41876951f8df",
   "metadata": {},
   "source": [
    "2 sample z-test to test if smoke and alcohol affect lung cancer\n",
    "- $H_0: p_1 - p_2 = 0$ vs $H_1: p_1 - p_2 \\neq 0$\n",
    "\n",
    "To test $H_0$, we use the following test statistic:\n",
    "\n",
    "$$\n",
    "Z = \\frac{\\hat{p}_1 - \\hat{p}_2}{\\sqrt{\\hat{p}(1-\\hat{p})\\left(\\frac{1}{n_1} + \\frac{1}{n_2}\\right)}}\n",
    "$$\n",
    "where $\\hat{p}_1$ and $\\hat{p}_2$ are the sample proportions in samples 1 and 2, respectively; $n$ is the sample size; and $\\hat{p}$ is the pooled proportion, given by: \n",
    "\n",
    "$$\\hat{p} = \\frac{n_1\\hat{p}_1+n_2\\hat{p}_2}{n_1+n_2}$$ from(worksheet 8)\n"
   ]
  },
  {
   "cell_type": "code",
   "execution_count": null,
   "id": "bd83e0dd-2d23-4475-9ef2-65f8b8a46f1c",
   "metadata": {},
   "outputs": [],
   "source": [
    "#p1 = smoker with lung cancer, p2 = drinker with lung cancer\n",
    "survey_summary_clean_wrangled\n",
    "survey_num_observations_clean_wrangled"
   ]
  },
  {
   "cell_type": "code",
   "execution_count": null,
   "id": "0a262cb2-2d48-46fb-a859-969706475d1e",
   "metadata": {},
   "outputs": [],
   "source": [
    "#calculate test statistic (female)\n",
    "p1_female <- survey_summary_clean_wrangled$smoking_prop[1]\n",
    "p2_female <- survey_summary_clean_wrangled$alcohol_consuming_prop[1]\n",
    "n1_female <- survey_num_observations_clean_wrangled$smoking_num[1]\n",
    "n2_female <- survey_num_observations_clean_wrangled$alcohol_consuming_num[1]\n",
    "\n",
    "p_hat_female <- (n1_female * p1_female + n2_female * p2_female) / (n1_female + n2_female)\n",
    "z_score_female <- (p1_female - p2_female) / sqrt(p_hat_female * (1 - p_hat_female) * (1 / n1_female + 1 / n2_female))\n",
    "p_hat_female\n",
    "z_score_female"
   ]
  },
  {
   "cell_type": "code",
   "execution_count": null,
   "id": "e2b20a34-67f6-44e7-9807-1bd103e33680",
   "metadata": {},
   "outputs": [],
   "source": [
    "p_value_female <- pnorm(z_score_female, lower.tail = FALSE)\n",
    "p_value_female\n",
    "reject_null = p_value_female < alpha\n",
    "reject_null"
   ]
  },
  {
   "cell_type": "code",
   "execution_count": null,
   "id": "f439e302-79d7-44aa-93d2-3f4248bbc0f3",
   "metadata": {},
   "outputs": [],
   "source": [
    "#calculate test statistic (male)\n",
    "p1_male <- survey_summary_clean_wrangled$smoking_prop[2]\n",
    "p2_male <- survey_summary_clean_wrangled$alcohol_consuming_prop[2]\n",
    "n1_male <- survey_num_observations_clean_wrangled$smoking_num[2]\n",
    "n2_male <- survey_num_observations_clean_wrangled$alcohol_consuming_num[2]\n",
    "\n",
    "p_hat_male <- (n1_male * p1_male + n2_male * p2_male) / (n1_male + n2_male)\n",
    "z_score_male <- (p1_male - p2_male) / sqrt(p_hat_male * (1 - p_hat_male) * (1 / n1_male + 1 / n2_male))\n",
    "p_hat_male\n",
    "z_score_male"
   ]
  },
  {
   "cell_type": "code",
   "execution_count": null,
   "id": "1c28c463-fc62-42a8-9242-9f4f42a82e1b",
   "metadata": {},
   "outputs": [],
   "source": [
    "p_value_male <- pnorm(z_score_male, lower.tail = FALSE)\n",
    "p_value_male\n",
    "reject_null = p_value_male < alpha\n",
    "reject_null"
   ]
  },
  {
   "cell_type": "markdown",
   "id": "68a4cc2e-26d0-46fb-af8c-ecb2e06ba388",
   "metadata": {},
   "source": [
    "### STUFF FROM FINAL REPORT"
   ]
  },
  {
   "cell_type": "code",
   "execution_count": null,
   "id": "8832965c-e3a4-454a-ba31-32663562c2a2",
   "metadata": {},
   "outputs": [],
   "source": [
    "# Clean and wrangle data; we are only interested in people who have lung cancer and whether or not they smoked and/or consumed alcohol\n",
    "# We mutate the data this way to properly separate all combinations of smoking and drinking\n",
    "# We want the difference in proportions for only smoking minus only drinking\n",
    "survey_clean_wrangled <- survey_2 %>%\n",
    "    filter(lung_cancer == TRUE) %>%\n",
    "    select(gender, smoking, alcohol_consuming) %>%\n",
    "    mutate(none = !smoking & !alcohol_consuming,\n",
    "           only_smoking = smoking & !alcohol_consuming,\n",
    "           only_drinking = !smoking & alcohol_consuming,\n",
    "           both = smoking & alcohol_consuming) %>%\n",
    "    select(-alcohol_consuming, -smoking)\n",
    "\n",
    "head(survey_clean_wrangled)"
   ]
  },
  {
   "cell_type": "code",
   "execution_count": null,
   "id": "104a0dc4-434f-4fc6-b19c-f854563db2ea",
   "metadata": {},
   "outputs": [],
   "source": [
    "# Calculate p-hat and z-score using worksheet 8 section 3.4, then calculate p-value and check if p-value < alpha\n",
    "# Is captured supposed to be if 0 is included or if sample_diff_in_props_female and sample_diff_in_props_male is included?\n",
    "bootstrap_survey_female_calcs <- bootstrap_survey_female_summary %>%\n",
    "    mutate(standard_error = sqrt(prop_only_smoking * (1 - prop_only_smoking) / num_only_smoking + prop_only_drinking * (1 - prop_only_drinking) / num_only_drinking),\n",
    "           lower_ci = diff_in_props - qnorm(alpha / 2, lower.tail = FALSE) * standard_error,\n",
    "           upper_ci = diff_in_props + qnorm(alpha / 2, lower.tail = FALSE) * standard_error,\n",
    "           captured = lower_ci <= 0 & 0 <= upper_ci,\n",
    "           p_hat = (num_only_smoking * prop_only_smoking + num_only_drinking * prop_only_drinking) / (num_only_smoking + num_only_drinking),\n",
    "           z_score = diff_in_props / sqrt(p_hat * (1 - p_hat) * (1 / num_only_smoking + 1 / num_only_drinking)),\n",
    "           p_value = pnorm(z_score, lower.tail = FALSE),\n",
    "           reject_null = p_value < alpha)\n",
    "\n",
    "bootstrap_survey_male_calcs <- bootstrap_survey_male_summary %>%\n",
    "    mutate(standard_error = sqrt(prop_only_smoking * (1 - prop_only_smoking) / num_only_smoking + prop_only_drinking * (1 - prop_only_drinking) / num_only_drinking),\n",
    "           lower_ci = diff_in_props - qnorm(alpha / 2, lower.tail = FALSE) * standard_error,\n",
    "           upper_ci = diff_in_props + qnorm(alpha / 2, lower.tail = FALSE) * standard_error,\n",
    "           captured = lower_ci <= 0 & 0 <= upper_ci,\n",
    "           p_hat = (num_only_smoking * prop_only_smoking + num_only_drinking * prop_only_drinking) / (num_only_smoking + num_only_drinking),\n",
    "           z_score = diff_in_props / sqrt(p_hat * (1 - p_hat) * (1 / num_only_smoking + 1 / num_only_drinking)),\n",
    "           p_value = pnorm(z_score, lower.tail = FALSE),\n",
    "           reject_null = p_value < alpha)\n",
    "\n",
    "head(bootstrap_survey_female_calcs)\n",
    "head(bootstrap_survey_male_calcs)"
   ]
  },
  {
   "cell_type": "code",
   "execution_count": null,
   "id": "40f14902-54eb-4201-9e02-54547eb7f45f",
   "metadata": {},
   "outputs": [],
   "source": [
    "options(repr.plot.width = 13, repr.plot.height = 5)\n",
    "\n",
    "many_ci_plot_female <- bootstrap_survey_female_calcs %>%\n",
    "    ggplot() +\n",
    "    scale_colour_manual(breaks = c(\"TRUE\", \"FALSE\"), # Change colour scale for better visibility.\n",
    "                        values = c(\"grey\", \"black\")) +\n",
    "    geom_segment(aes(x = lower_ci,\n",
    "                     xend = upper_ci,\n",
    "                     y = replicate,\n",
    "                     yend = replicate,\n",
    "                     colour = \"blue\")) +\n",
    "    geom_vline(xintercept = 0, colour = \"red\", size = 1) +\n",
    "    labs(title = \"1000 95% Confidence Intervals\",\n",
    "         y = \"Sample ID\",\n",
    "         x = \"Diameter (cm)\",\n",
    "         colour = \"Captured?\") +\n",
    "    theme_bw() # Sets a theme for better visibility.\n",
    "\n",
    "many_ci_plot_male <- bootstrap_survey_male_calcs %>%\n",
    "    ggplot() +\n",
    "    scale_colour_manual(breaks = c(\"TRUE\", \"FALSE\"), # Change colour scale for better visibility.\n",
    "                        values = c(\"grey\", \"black\")) +\n",
    "    geom_segment(aes(x = lower_ci,\n",
    "                     xend = upper_ci,\n",
    "                     y = replicate,\n",
    "                     yend = replicate,\n",
    "                     colour = \"blue\")) +\n",
    "    geom_vline(xintercept = 0, colour = \"red\", size = 1) +\n",
    "    labs(title = \"1000 95% Confidence Intervals\",\n",
    "         y = \"Sample ID\",\n",
    "         x = \"Diameter (cm)\",\n",
    "         colour = \"Captured?\") +\n",
    "    theme_bw() # Sets a theme for better visibility.\n",
    "\n",
    "# Display plots above\n",
    "grid.arrange(many_ci_plot_female,\n",
    "             many_ci_plot_male,\n",
    "             ncol = 2)"
   ]
  },
  {
   "cell_type": "code",
   "execution_count": null,
   "id": "dcc5023b-c985-4de7-891a-b59e1be8cb90",
   "metadata": {},
   "outputs": [],
   "source": [
    "prorportion_captured_female <- mean(bootstrap_survey_female_calcs$captured)\n",
    "prorportion_captured_male <- mean(bootstrap_survey_male_calcs$captured)\n",
    "\n",
    "prorportion_captured_female\n",
    "prorportion_captured_male"
   ]
  }
 ],
 "metadata": {
  "kernelspec": {
   "display_name": "R",
   "language": "R",
   "name": "ir"
  },
  "language_info": {
   "codemirror_mode": "r",
   "file_extension": ".r",
   "mimetype": "text/x-r-source",
   "name": "R",
   "pygments_lexer": "r",
   "version": "4.1.3"
  }
 },
 "nbformat": 4,
 "nbformat_minor": 5
}
