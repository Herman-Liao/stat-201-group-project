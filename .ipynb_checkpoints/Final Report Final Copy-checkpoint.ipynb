{
 "cells": [
  {
   "cell_type": "code",
   "execution_count": 1,
   "id": "4325dbf4-a448-4694-922c-109fe62be616",
   "metadata": {},
   "outputs": [
    {
     "name": "stderr",
     "output_type": "stream",
     "text": [
      "── \u001b[1mAttaching packages\u001b[22m ─────────────────────────────────────── tidyverse 1.3.2 ──\n",
      "\u001b[32m✔\u001b[39m \u001b[34mggplot2\u001b[39m 3.3.6      \u001b[32m✔\u001b[39m \u001b[34mpurrr  \u001b[39m 0.3.4 \n",
      "\u001b[32m✔\u001b[39m \u001b[34mtibble \u001b[39m 3.1.8      \u001b[32m✔\u001b[39m \u001b[34mdplyr  \u001b[39m 1.0.10\n",
      "\u001b[32m✔\u001b[39m \u001b[34mtidyr  \u001b[39m 1.2.1      \u001b[32m✔\u001b[39m \u001b[34mstringr\u001b[39m 1.4.1 \n",
      "\u001b[32m✔\u001b[39m \u001b[34mreadr  \u001b[39m 2.1.2      \u001b[32m✔\u001b[39m \u001b[34mforcats\u001b[39m 0.5.2 \n",
      "── \u001b[1mConflicts\u001b[22m ────────────────────────────────────────── tidyverse_conflicts() ──\n",
      "\u001b[31m✖\u001b[39m \u001b[34mdplyr\u001b[39m::\u001b[32mfilter()\u001b[39m masks \u001b[34mstats\u001b[39m::filter()\n",
      "\u001b[31m✖\u001b[39m \u001b[34mdplyr\u001b[39m::\u001b[32mlag()\u001b[39m    masks \u001b[34mstats\u001b[39m::lag()\n",
      "\n",
      "Attaching package: ‘gridExtra’\n",
      "\n",
      "\n",
      "The following object is masked from ‘package:dplyr’:\n",
      "\n",
      "    combine\n",
      "\n",
      "\n"
     ]
    }
   ],
   "source": [
    "# Add libraries\n",
    "library(tidyverse)\n",
    "library(repr)\n",
    "library(digest)\n",
    "library(infer)\n",
    "library(gridExtra)\n",
    "library(cowplot)\n",
    "library(dplyr)\n",
    "library(broom)"
   ]
  },
  {
   "cell_type": "code",
   "execution_count": 2,
   "id": "0672b8ac-664f-450f-beb3-636ab5937a63",
   "metadata": {},
   "outputs": [
    {
     "data": {
      "text/html": [
       "<table class=\"dataframe\">\n",
       "<caption>A data.frame: 6 × 16</caption>\n",
       "<thead>\n",
       "\t<tr><th></th><th scope=col>GENDER</th><th scope=col>AGE</th><th scope=col>SMOKING</th><th scope=col>YELLOW_FINGERS</th><th scope=col>ANXIETY</th><th scope=col>PEER_PRESSURE</th><th scope=col>CHRONIC.DISEASE</th><th scope=col>FATIGUE</th><th scope=col>ALLERGY</th><th scope=col>WHEEZING</th><th scope=col>ALCOHOL.CONSUMING</th><th scope=col>COUGHING</th><th scope=col>SHORTNESS.OF.BREATH</th><th scope=col>SWALLOWING.DIFFICULTY</th><th scope=col>CHEST.PAIN</th><th scope=col>LUNG_CANCER</th></tr>\n",
       "\t<tr><th></th><th scope=col>&lt;chr&gt;</th><th scope=col>&lt;int&gt;</th><th scope=col>&lt;int&gt;</th><th scope=col>&lt;int&gt;</th><th scope=col>&lt;int&gt;</th><th scope=col>&lt;int&gt;</th><th scope=col>&lt;int&gt;</th><th scope=col>&lt;int&gt;</th><th scope=col>&lt;int&gt;</th><th scope=col>&lt;int&gt;</th><th scope=col>&lt;int&gt;</th><th scope=col>&lt;int&gt;</th><th scope=col>&lt;int&gt;</th><th scope=col>&lt;int&gt;</th><th scope=col>&lt;int&gt;</th><th scope=col>&lt;chr&gt;</th></tr>\n",
       "</thead>\n",
       "<tbody>\n",
       "\t<tr><th scope=row>1</th><td>M</td><td>69</td><td>1</td><td>2</td><td>2</td><td>1</td><td>1</td><td>2</td><td>1</td><td>2</td><td>2</td><td>2</td><td>2</td><td>2</td><td>2</td><td>YES</td></tr>\n",
       "\t<tr><th scope=row>2</th><td>M</td><td>74</td><td>2</td><td>1</td><td>1</td><td>1</td><td>2</td><td>2</td><td>2</td><td>1</td><td>1</td><td>1</td><td>2</td><td>2</td><td>2</td><td>YES</td></tr>\n",
       "\t<tr><th scope=row>3</th><td>F</td><td>59</td><td>1</td><td>1</td><td>1</td><td>2</td><td>1</td><td>2</td><td>1</td><td>2</td><td>1</td><td>2</td><td>2</td><td>1</td><td>2</td><td>NO </td></tr>\n",
       "\t<tr><th scope=row>4</th><td>M</td><td>63</td><td>2</td><td>2</td><td>2</td><td>1</td><td>1</td><td>1</td><td>1</td><td>1</td><td>2</td><td>1</td><td>1</td><td>2</td><td>2</td><td>NO </td></tr>\n",
       "\t<tr><th scope=row>5</th><td>F</td><td>63</td><td>1</td><td>2</td><td>1</td><td>1</td><td>1</td><td>1</td><td>1</td><td>2</td><td>1</td><td>2</td><td>2</td><td>1</td><td>1</td><td>NO </td></tr>\n",
       "\t<tr><th scope=row>6</th><td>F</td><td>75</td><td>1</td><td>2</td><td>1</td><td>1</td><td>2</td><td>2</td><td>2</td><td>2</td><td>1</td><td>2</td><td>2</td><td>1</td><td>1</td><td>YES</td></tr>\n",
       "</tbody>\n",
       "</table>\n"
      ],
      "text/latex": [
       "A data.frame: 6 × 16\n",
       "\\begin{tabular}{r|llllllllllllllll}\n",
       "  & GENDER & AGE & SMOKING & YELLOW\\_FINGERS & ANXIETY & PEER\\_PRESSURE & CHRONIC.DISEASE & FATIGUE & ALLERGY & WHEEZING & ALCOHOL.CONSUMING & COUGHING & SHORTNESS.OF.BREATH & SWALLOWING.DIFFICULTY & CHEST.PAIN & LUNG\\_CANCER\\\\\n",
       "  & <chr> & <int> & <int> & <int> & <int> & <int> & <int> & <int> & <int> & <int> & <int> & <int> & <int> & <int> & <int> & <chr>\\\\\n",
       "\\hline\n",
       "\t1 & M & 69 & 1 & 2 & 2 & 1 & 1 & 2 & 1 & 2 & 2 & 2 & 2 & 2 & 2 & YES\\\\\n",
       "\t2 & M & 74 & 2 & 1 & 1 & 1 & 2 & 2 & 2 & 1 & 1 & 1 & 2 & 2 & 2 & YES\\\\\n",
       "\t3 & F & 59 & 1 & 1 & 1 & 2 & 1 & 2 & 1 & 2 & 1 & 2 & 2 & 1 & 2 & NO \\\\\n",
       "\t4 & M & 63 & 2 & 2 & 2 & 1 & 1 & 1 & 1 & 1 & 2 & 1 & 1 & 2 & 2 & NO \\\\\n",
       "\t5 & F & 63 & 1 & 2 & 1 & 1 & 1 & 1 & 1 & 2 & 1 & 2 & 2 & 1 & 1 & NO \\\\\n",
       "\t6 & F & 75 & 1 & 2 & 1 & 1 & 2 & 2 & 2 & 2 & 1 & 2 & 2 & 1 & 1 & YES\\\\\n",
       "\\end{tabular}\n"
      ],
      "text/markdown": [
       "\n",
       "A data.frame: 6 × 16\n",
       "\n",
       "| <!--/--> | GENDER &lt;chr&gt; | AGE &lt;int&gt; | SMOKING &lt;int&gt; | YELLOW_FINGERS &lt;int&gt; | ANXIETY &lt;int&gt; | PEER_PRESSURE &lt;int&gt; | CHRONIC.DISEASE &lt;int&gt; | FATIGUE &lt;int&gt; | ALLERGY &lt;int&gt; | WHEEZING &lt;int&gt; | ALCOHOL.CONSUMING &lt;int&gt; | COUGHING &lt;int&gt; | SHORTNESS.OF.BREATH &lt;int&gt; | SWALLOWING.DIFFICULTY &lt;int&gt; | CHEST.PAIN &lt;int&gt; | LUNG_CANCER &lt;chr&gt; |\n",
       "|---|---|---|---|---|---|---|---|---|---|---|---|---|---|---|---|---|\n",
       "| 1 | M | 69 | 1 | 2 | 2 | 1 | 1 | 2 | 1 | 2 | 2 | 2 | 2 | 2 | 2 | YES |\n",
       "| 2 | M | 74 | 2 | 1 | 1 | 1 | 2 | 2 | 2 | 1 | 1 | 1 | 2 | 2 | 2 | YES |\n",
       "| 3 | F | 59 | 1 | 1 | 1 | 2 | 1 | 2 | 1 | 2 | 1 | 2 | 2 | 1 | 2 | NO  |\n",
       "| 4 | M | 63 | 2 | 2 | 2 | 1 | 1 | 1 | 1 | 1 | 2 | 1 | 1 | 2 | 2 | NO  |\n",
       "| 5 | F | 63 | 1 | 2 | 1 | 1 | 1 | 1 | 1 | 2 | 1 | 2 | 2 | 1 | 1 | NO  |\n",
       "| 6 | F | 75 | 1 | 2 | 1 | 1 | 2 | 2 | 2 | 2 | 1 | 2 | 2 | 1 | 1 | YES |\n",
       "\n"
      ],
      "text/plain": [
       "  GENDER AGE SMOKING YELLOW_FINGERS ANXIETY PEER_PRESSURE CHRONIC.DISEASE\n",
       "1 M      69  1       2              2       1             1              \n",
       "2 M      74  2       1              1       1             2              \n",
       "3 F      59  1       1              1       2             1              \n",
       "4 M      63  2       2              2       1             1              \n",
       "5 F      63  1       2              1       1             1              \n",
       "6 F      75  1       2              1       1             2              \n",
       "  FATIGUE ALLERGY WHEEZING ALCOHOL.CONSUMING COUGHING SHORTNESS.OF.BREATH\n",
       "1 2       1       2        2                 2        2                  \n",
       "2 2       2       1        1                 1        2                  \n",
       "3 2       1       2        1                 2        2                  \n",
       "4 1       1       1        2                 1        1                  \n",
       "5 1       1       2        1                 2        2                  \n",
       "6 2       2       2        1                 2        2                  \n",
       "  SWALLOWING.DIFFICULTY CHEST.PAIN LUNG_CANCER\n",
       "1 2                     2          YES        \n",
       "2 2                     2          YES        \n",
       "3 1                     2          NO         \n",
       "4 2                     2          NO         \n",
       "5 1                     1          NO         \n",
       "6 1                     1          YES        "
      ]
     },
     "metadata": {},
     "output_type": "display_data"
    }
   ],
   "source": [
    "# Read data from .csv file\n",
    "survey <- read.csv(\"https://raw.githubusercontent.com/Herman-Liao/stat-201-group-project/main/survey%20lung%20cancer.csv\")\n",
    "head(survey)"
   ]
  },
  {
   "cell_type": "code",
   "execution_count": 3,
   "id": "6a5fc4ba-e738-410c-9634-ab4ee94dabb5",
   "metadata": {},
   "outputs": [
    {
     "data": {
      "text/html": [
       "<table class=\"dataframe\">\n",
       "<caption>A data.frame: 6 × 15</caption>\n",
       "<thead>\n",
       "\t<tr><th></th><th scope=col>gender</th><th scope=col>age</th><th scope=col>smoking</th><th scope=col>yellow_fingers</th><th scope=col>anxiety</th><th scope=col>chronic_disease</th><th scope=col>fatigue</th><th scope=col>allergy</th><th scope=col>wheezing</th><th scope=col>alcohol_consuming</th><th scope=col>coughing</th><th scope=col>shortness_of_breath</th><th scope=col>swallowing_difficulty</th><th scope=col>chest_pain</th><th scope=col>lung_cancer</th></tr>\n",
       "\t<tr><th></th><th scope=col>&lt;chr&gt;</th><th scope=col>&lt;int&gt;</th><th scope=col>&lt;lgl&gt;</th><th scope=col>&lt;lgl&gt;</th><th scope=col>&lt;lgl&gt;</th><th scope=col>&lt;lgl&gt;</th><th scope=col>&lt;lgl&gt;</th><th scope=col>&lt;lgl&gt;</th><th scope=col>&lt;lgl&gt;</th><th scope=col>&lt;lgl&gt;</th><th scope=col>&lt;lgl&gt;</th><th scope=col>&lt;lgl&gt;</th><th scope=col>&lt;lgl&gt;</th><th scope=col>&lt;lgl&gt;</th><th scope=col>&lt;lgl&gt;</th></tr>\n",
       "</thead>\n",
       "<tbody>\n",
       "\t<tr><th scope=row>1</th><td>M</td><td>69</td><td>FALSE</td><td> TRUE</td><td> TRUE</td><td>FALSE</td><td> TRUE</td><td>FALSE</td><td> TRUE</td><td> TRUE</td><td> TRUE</td><td> TRUE</td><td> TRUE</td><td> TRUE</td><td> TRUE</td></tr>\n",
       "\t<tr><th scope=row>2</th><td>M</td><td>74</td><td> TRUE</td><td>FALSE</td><td>FALSE</td><td> TRUE</td><td> TRUE</td><td> TRUE</td><td>FALSE</td><td>FALSE</td><td>FALSE</td><td> TRUE</td><td> TRUE</td><td> TRUE</td><td> TRUE</td></tr>\n",
       "\t<tr><th scope=row>3</th><td>F</td><td>59</td><td>FALSE</td><td>FALSE</td><td>FALSE</td><td>FALSE</td><td> TRUE</td><td>FALSE</td><td> TRUE</td><td>FALSE</td><td> TRUE</td><td> TRUE</td><td>FALSE</td><td> TRUE</td><td>FALSE</td></tr>\n",
       "\t<tr><th scope=row>4</th><td>M</td><td>63</td><td> TRUE</td><td> TRUE</td><td> TRUE</td><td>FALSE</td><td>FALSE</td><td>FALSE</td><td>FALSE</td><td> TRUE</td><td>FALSE</td><td>FALSE</td><td> TRUE</td><td> TRUE</td><td>FALSE</td></tr>\n",
       "\t<tr><th scope=row>5</th><td>F</td><td>63</td><td>FALSE</td><td> TRUE</td><td>FALSE</td><td>FALSE</td><td>FALSE</td><td>FALSE</td><td> TRUE</td><td>FALSE</td><td> TRUE</td><td> TRUE</td><td>FALSE</td><td>FALSE</td><td>FALSE</td></tr>\n",
       "\t<tr><th scope=row>6</th><td>F</td><td>75</td><td>FALSE</td><td> TRUE</td><td>FALSE</td><td> TRUE</td><td> TRUE</td><td> TRUE</td><td> TRUE</td><td>FALSE</td><td> TRUE</td><td> TRUE</td><td>FALSE</td><td>FALSE</td><td> TRUE</td></tr>\n",
       "</tbody>\n",
       "</table>\n"
      ],
      "text/latex": [
       "A data.frame: 6 × 15\n",
       "\\begin{tabular}{r|lllllllllllllll}\n",
       "  & gender & age & smoking & yellow\\_fingers & anxiety & chronic\\_disease & fatigue & allergy & wheezing & alcohol\\_consuming & coughing & shortness\\_of\\_breath & swallowing\\_difficulty & chest\\_pain & lung\\_cancer\\\\\n",
       "  & <chr> & <int> & <lgl> & <lgl> & <lgl> & <lgl> & <lgl> & <lgl> & <lgl> & <lgl> & <lgl> & <lgl> & <lgl> & <lgl> & <lgl>\\\\\n",
       "\\hline\n",
       "\t1 & M & 69 & FALSE &  TRUE &  TRUE & FALSE &  TRUE & FALSE &  TRUE &  TRUE &  TRUE &  TRUE &  TRUE &  TRUE &  TRUE\\\\\n",
       "\t2 & M & 74 &  TRUE & FALSE & FALSE &  TRUE &  TRUE &  TRUE & FALSE & FALSE & FALSE &  TRUE &  TRUE &  TRUE &  TRUE\\\\\n",
       "\t3 & F & 59 & FALSE & FALSE & FALSE & FALSE &  TRUE & FALSE &  TRUE & FALSE &  TRUE &  TRUE & FALSE &  TRUE & FALSE\\\\\n",
       "\t4 & M & 63 &  TRUE &  TRUE &  TRUE & FALSE & FALSE & FALSE & FALSE &  TRUE & FALSE & FALSE &  TRUE &  TRUE & FALSE\\\\\n",
       "\t5 & F & 63 & FALSE &  TRUE & FALSE & FALSE & FALSE & FALSE &  TRUE & FALSE &  TRUE &  TRUE & FALSE & FALSE & FALSE\\\\\n",
       "\t6 & F & 75 & FALSE &  TRUE & FALSE &  TRUE &  TRUE &  TRUE &  TRUE & FALSE &  TRUE &  TRUE & FALSE & FALSE &  TRUE\\\\\n",
       "\\end{tabular}\n"
      ],
      "text/markdown": [
       "\n",
       "A data.frame: 6 × 15\n",
       "\n",
       "| <!--/--> | gender &lt;chr&gt; | age &lt;int&gt; | smoking &lt;lgl&gt; | yellow_fingers &lt;lgl&gt; | anxiety &lt;lgl&gt; | chronic_disease &lt;lgl&gt; | fatigue &lt;lgl&gt; | allergy &lt;lgl&gt; | wheezing &lt;lgl&gt; | alcohol_consuming &lt;lgl&gt; | coughing &lt;lgl&gt; | shortness_of_breath &lt;lgl&gt; | swallowing_difficulty &lt;lgl&gt; | chest_pain &lt;lgl&gt; | lung_cancer &lt;lgl&gt; |\n",
       "|---|---|---|---|---|---|---|---|---|---|---|---|---|---|---|---|\n",
       "| 1 | M | 69 | FALSE |  TRUE |  TRUE | FALSE |  TRUE | FALSE |  TRUE |  TRUE |  TRUE |  TRUE |  TRUE |  TRUE |  TRUE |\n",
       "| 2 | M | 74 |  TRUE | FALSE | FALSE |  TRUE |  TRUE |  TRUE | FALSE | FALSE | FALSE |  TRUE |  TRUE |  TRUE |  TRUE |\n",
       "| 3 | F | 59 | FALSE | FALSE | FALSE | FALSE |  TRUE | FALSE |  TRUE | FALSE |  TRUE |  TRUE | FALSE |  TRUE | FALSE |\n",
       "| 4 | M | 63 |  TRUE |  TRUE |  TRUE | FALSE | FALSE | FALSE | FALSE |  TRUE | FALSE | FALSE |  TRUE |  TRUE | FALSE |\n",
       "| 5 | F | 63 | FALSE |  TRUE | FALSE | FALSE | FALSE | FALSE |  TRUE | FALSE |  TRUE |  TRUE | FALSE | FALSE | FALSE |\n",
       "| 6 | F | 75 | FALSE |  TRUE | FALSE |  TRUE |  TRUE |  TRUE |  TRUE | FALSE |  TRUE |  TRUE | FALSE | FALSE |  TRUE |\n",
       "\n"
      ],
      "text/plain": [
       "  gender age smoking yellow_fingers anxiety chronic_disease fatigue allergy\n",
       "1 M      69  FALSE    TRUE           TRUE   FALSE            TRUE   FALSE  \n",
       "2 M      74   TRUE   FALSE          FALSE    TRUE            TRUE    TRUE  \n",
       "3 F      59  FALSE   FALSE          FALSE   FALSE            TRUE   FALSE  \n",
       "4 M      63   TRUE    TRUE           TRUE   FALSE           FALSE   FALSE  \n",
       "5 F      63  FALSE    TRUE          FALSE   FALSE           FALSE   FALSE  \n",
       "6 F      75  FALSE    TRUE          FALSE    TRUE            TRUE    TRUE  \n",
       "  wheezing alcohol_consuming coughing shortness_of_breath swallowing_difficulty\n",
       "1  TRUE     TRUE              TRUE     TRUE                TRUE                \n",
       "2 FALSE    FALSE             FALSE     TRUE                TRUE                \n",
       "3  TRUE    FALSE              TRUE     TRUE               FALSE                \n",
       "4 FALSE     TRUE             FALSE    FALSE                TRUE                \n",
       "5  TRUE    FALSE              TRUE     TRUE               FALSE                \n",
       "6  TRUE    FALSE              TRUE     TRUE               FALSE                \n",
       "  chest_pain lung_cancer\n",
       "1  TRUE       TRUE      \n",
       "2  TRUE       TRUE      \n",
       "3  TRUE      FALSE      \n",
       "4  TRUE      FALSE      \n",
       "5 FALSE      FALSE      \n",
       "6 FALSE       TRUE      "
      ]
     },
     "metadata": {},
     "output_type": "display_data"
    }
   ],
   "source": [
    "# Change most of the variables to boolean variables instead of integer or string variables\n",
    "survey_2 <- survey %>%\n",
    "    summarize(gender = GENDER,\n",
    "              age = AGE,\n",
    "              smoking = SMOKING - 1 == 1,\n",
    "              yellow_fingers = YELLOW_FINGERS - 1 == 1,\n",
    "              anxiety = ANXIETY - 1 == 1,\n",
    "              chronic_disease = CHRONIC.DISEASE - 1 == 1,\n",
    "              fatigue = FATIGUE - 1 == 1,\n",
    "              allergy = ALLERGY - 1 == 1,\n",
    "              wheezing = WHEEZING - 1 == 1,\n",
    "              alcohol_consuming = ALCOHOL.CONSUMING - 1 == 1,\n",
    "              coughing = COUGHING - 1 == 1,\n",
    "              shortness_of_breath = SHORTNESS.OF.BREATH - 1 == 1,\n",
    "              swallowing_difficulty = SWALLOWING.DIFFICULTY - 1 == 1,\n",
    "              chest_pain = CHEST.PAIN - 1 == 1,\n",
    "              lung_cancer = LUNG_CANCER == \"YES\")\n",
    "\n",
    "head(survey_2)"
   ]
  },
  {
   "cell_type": "code",
   "execution_count": 5,
   "id": "8c0e1455-7c68-44ae-b9a9-539c726591f2",
   "metadata": {},
   "outputs": [
    {
     "data": {
      "text/html": [
       "<table class=\"dataframe\">\n",
       "<caption>A data.frame: 6 × 2</caption>\n",
       "<thead>\n",
       "\t<tr><th></th><th scope=col>gender</th><th scope=col>only_smoke_only_drink</th></tr>\n",
       "\t<tr><th></th><th scope=col>&lt;chr&gt;</th><th scope=col>&lt;chr&gt;</th></tr>\n",
       "</thead>\n",
       "<tbody>\n",
       "\t<tr><th scope=row>1</th><td>M</td><td>only drinking</td></tr>\n",
       "\t<tr><th scope=row>2</th><td>M</td><td>only smoking </td></tr>\n",
       "\t<tr><th scope=row>3</th><td>F</td><td>only smoking </td></tr>\n",
       "\t<tr><th scope=row>4</th><td>F</td><td>only smoking </td></tr>\n",
       "\t<tr><th scope=row>5</th><td>M</td><td>only drinking</td></tr>\n",
       "\t<tr><th scope=row>6</th><td>F</td><td>only smoking </td></tr>\n",
       "</tbody>\n",
       "</table>\n"
      ],
      "text/latex": [
       "A data.frame: 6 × 2\n",
       "\\begin{tabular}{r|ll}\n",
       "  & gender & only\\_smoke\\_only\\_drink\\\\\n",
       "  & <chr> & <chr>\\\\\n",
       "\\hline\n",
       "\t1 & M & only drinking\\\\\n",
       "\t2 & M & only smoking \\\\\n",
       "\t3 & F & only smoking \\\\\n",
       "\t4 & F & only smoking \\\\\n",
       "\t5 & M & only drinking\\\\\n",
       "\t6 & F & only smoking \\\\\n",
       "\\end{tabular}\n"
      ],
      "text/markdown": [
       "\n",
       "A data.frame: 6 × 2\n",
       "\n",
       "| <!--/--> | gender &lt;chr&gt; | only_smoke_only_drink &lt;chr&gt; |\n",
       "|---|---|---|\n",
       "| 1 | M | only drinking |\n",
       "| 2 | M | only smoking  |\n",
       "| 3 | F | only smoking  |\n",
       "| 4 | F | only smoking  |\n",
       "| 5 | M | only drinking |\n",
       "| 6 | F | only smoking  |\n",
       "\n"
      ],
      "text/plain": [
       "  gender only_smoke_only_drink\n",
       "1 M      only drinking        \n",
       "2 M      only smoking         \n",
       "3 F      only smoking         \n",
       "4 F      only smoking         \n",
       "5 M      only drinking        \n",
       "6 F      only smoking         "
      ]
     },
     "metadata": {},
     "output_type": "display_data"
    }
   ],
   "source": [
    "# Clean and wrangle data; we are only interested in people who have lung cancer and whether or not they smoked and/or consumed alcohol\n",
    "# We mutate the data this way to properly separate all combinations of smoking and drinking\n",
    "# We want the difference in proportions for only smoking minus only drinking\n",
    "survey_clean_wrangled <- survey_2 %>%\n",
    "    filter(lung_cancer == TRUE) %>%\n",
    "    select(gender, smoking, alcohol_consuming) %>%\n",
    "    mutate(only_smoking = smoking & !alcohol_consuming,\n",
    "           only_drinking = !smoking & alcohol_consuming) %>%\n",
    "    select(-alcohol_consuming, -smoking) %>%\n",
    "    filter(!(only_smoking == FALSE & only_drinking == FALSE))\n",
    "\n",
    "# To convert only_smoking and only_drinking to one variable, make one character variable that says \"only smoking\" when only_smoking is true, and \"only drinking\" otherwise\n",
    "# This works because we only use observations where each patient either only drinks or only smokes, and not neither nor both\n",
    "survey_clean_wrangled <- survey_clean_wrangled %>%\n",
    "    mutate(only_smoke_only_drink = ifelse(only_smoking, \"only smoking\", \"only drinking\")) %>%\n",
    "    select(gender, only_smoke_only_drink)\n",
    "\n",
    "head(survey_clean_wrangled)"
   ]
  },
  {
   "cell_type": "code",
   "execution_count": null,
   "id": "9cd0cf5a-d985-43e8-b9b9-147a604671b0",
   "metadata": {},
   "outputs": [],
   "source": [
    "# Separate the genders for blocking\n",
    "survey_clean_wrangled <- survey_clean_wrangled %>%\n",
    "    group_by(gender)\n",
    "\n",
    "\n",
    "head(survey_clean_wrangled)"
   ]
  },
  {
   "cell_type": "code",
   "execution_count": null,
   "id": "d748d6a9-1526-4925-b073-1dbf1a842ee3",
   "metadata": {},
   "outputs": [],
   "source": [
    "# Calculate the number of and proportion of only smokers and only drinkers for each replicate\n",
    "# After calculating the proportions, calculate the difference in proportions\n",
    "bootstrap_survey_female_summary <- bootstrap_survey_female %>%\n",
    "    group_by(replicate) %>%\n",
    "    summarize(num_only_smoking = sum(only_smoking),\n",
    "              num_only_drinking = sum(only_drinking),\n",
    "              prop_only_smoking = mean(only_smoking),\n",
    "              prop_only_drinking = mean(only_drinking),\n",
    "              diff_in_props = prop_only_smoking - prop_only_drinking)\n",
    "\n",
    "bootstrap_survey_male_summary <- bootstrap_survey_male %>%\n",
    "    group_by(replicate) %>%\n",
    "    summarize(num_only_smoking = sum(only_smoking),\n",
    "              num_only_drinking = sum(only_drinking),\n",
    "              prop_only_smoking = mean(only_smoking),\n",
    "              prop_only_drinking = mean(only_drinking),\n",
    "              diff_in_props = prop_only_smoking - prop_only_drinking)\n",
    "\n",
    "head(bootstrap_survey_female_summary)\n",
    "head(bootstrap_survey_male_summary)"
   ]
  },
  {
   "cell_type": "code",
   "execution_count": null,
   "id": "8510f34c-3dcf-440d-846c-52e08bfc2d15",
   "metadata": {},
   "outputs": [],
   "source": [
    "# Increase the size of future plots\n",
    "options(repr.plot.width = 13, repr.plot.height = 5)\n",
    "\n",
    "# Find the sample prop. of smoking only - the prop. of drinking only for female lung cancer patients\n",
    "sample_diff_in_props_female <- survey_clean_wrangled %>%\n",
    "    filter(gender == \"F\") %>%\n",
    "    select(-gender) %>%\n",
    "    summarize(prop_only_smoking = mean(only_smoking),\n",
    "              prop_only_drinking = mean(only_drinking),\n",
    "              diff_in_props = prop_only_smoking - prop_only_drinking) %>%\n",
    "    select(diff_in_props) %>%\n",
    "    pull()\n",
    "\n",
    "# Plot the bootstrap distribution of smoking only - drinking only for female lung cancer patients;\n",
    "# the red line shows the sample prop. of smoking only - the prop. of drinking only\n",
    "bootstrap_distribution_female <- bootstrap_survey_female_summary %>%\n",
    "    ggplot(aes(x = diff_in_props)) +\n",
    "        geom_histogram(binwidth = 0.02) +\n",
    "        geom_vline(xintercept = sample_diff_in_props_female, color = \"red\") +\n",
    "        labs(x = \"Difference in Proportions (smoking - drinking)\") +\n",
    "        ggtitle(\"Bootstrap Distribution of Diff. in Props of Female Lung Cancer Patients\")\n",
    "\n",
    "# Find the sample prop. of smoking only - the prop. of drinking only for male lung cancer patients\n",
    "sample_diff_in_props_male <- survey_clean_wrangled %>%\n",
    "    filter(gender == \"M\") %>%\n",
    "    select(-gender) %>%\n",
    "    summarize(prop_only_smoking = mean(only_smoking),\n",
    "              prop_only_drinking = mean(only_drinking),\n",
    "              diff_in_props = prop_only_smoking - prop_only_drinking) %>%\n",
    "    select(diff_in_props) %>%\n",
    "    pull()\n",
    "\n",
    "# Plot the bootstrap distribution of the prop. of smoking only - the prop. of drinking only for male lung cancer patients;\n",
    "# the red line shows the sample prop. of smoking only - the prop. of drinking only\n",
    "bootstrap_distribution_male <- bootstrap_survey_male_summary %>%\n",
    "    ggplot(aes(x = diff_in_props)) +\n",
    "        geom_histogram(binwidth = 0.02) +\n",
    "        geom_vline(xintercept = sample_diff_in_props_male, color = \"red\") +\n",
    "        labs(x = \"Difference in Proportions (smoking - drinking)\") +\n",
    "        ggtitle(\"Bootstrap Distribution of Diff. in Props of Male Lung Cancer Patients\")\n",
    "\n",
    "# Display plots above\n",
    "grid.arrange(bootstrap_distribution_female,\n",
    "             bootstrap_distribution_male,\n",
    "             ncol = 2)"
   ]
  },
  {
   "cell_type": "code",
   "execution_count": null,
   "id": "cbe89300-0314-4c39-a822-8e761197393d",
   "metadata": {},
   "outputs": [],
   "source": [
    "# Set type I error to 5%, can be changed\n",
    "alpha = 0.05"
   ]
  },
  {
   "cell_type": "code",
   "execution_count": null,
   "id": "f23decb2-75a5-4e03-8412-f45c66e17bb2",
   "metadata": {},
   "outputs": [],
   "source": [
    "# Calculate p-hat and z-score using worksheet 8 section 3.4, then calculate p-value and check if p-value < alpha\n",
    "# Is captured supposed to be if 0 is included or if sample_diff_in_props_female and sample_diff_in_props_male is included?\n",
    "bootstrap_survey_female_calcs <- bootstrap_survey_female_summary %>%\n",
    "    mutate(standard_error = sqrt(prop_only_smoking * (1 - prop_only_smoking) / num_only_smoking + prop_only_drinking * (1 - prop_only_drinking) / num_only_drinking),\n",
    "           lower_ci = diff_in_props - qnorm(alpha / 2, lower.tail = FALSE) * standard_error,\n",
    "           upper_ci = diff_in_props + qnorm(alpha / 2, lower.tail = FALSE) * standard_error,\n",
    "           captured = lower_ci <= 0 & 0 <= upper_ci,\n",
    "           p_hat = (num_only_smoking * prop_only_smoking + num_only_drinking * prop_only_drinking) / (num_only_smoking + num_only_drinking),\n",
    "           z_score = diff_in_props / sqrt(p_hat * (1 - p_hat) * (1 / num_only_smoking + 1 / num_only_drinking)),\n",
    "           p_value = 2 * pnorm(z_score, lower.tail = FALSE),\n",
    "           reject_null = p_value < alpha)\n",
    "\n",
    "bootstrap_survey_male_calcs <- bootstrap_survey_male_summary %>%\n",
    "    mutate(standard_error = sqrt(prop_only_smoking * (1 - prop_only_smoking) / num_only_smoking + prop_only_drinking * (1 - prop_only_drinking) / num_only_drinking),\n",
    "           lower_ci = diff_in_props - qnorm(alpha / 2, lower.tail = FALSE) * standard_error,\n",
    "           upper_ci = diff_in_props + qnorm(alpha / 2, lower.tail = FALSE) * standard_error,\n",
    "           captured = lower_ci <= 0 & 0 <= upper_ci,\n",
    "           p_hat = (num_only_smoking * prop_only_smoking + num_only_drinking * prop_only_drinking) / (num_only_smoking + num_only_drinking),\n",
    "           z_score = diff_in_props / sqrt(p_hat * (1 - p_hat) * (1 / num_only_smoking + 1 / num_only_drinking)),\n",
    "           p_value = 2 * pnorm(z_score, lower.tail = FALSE),\n",
    "           reject_null = p_value < alpha)\n",
    "\n",
    "head(bootstrap_survey_female_calcs)\n",
    "head(bootstrap_survey_male_calcs)"
   ]
  },
  {
   "cell_type": "code",
   "execution_count": null,
   "id": "b7436a76-3b10-44bc-89a6-2116dec23405",
   "metadata": {},
   "outputs": [],
   "source": [
    "# Display proportion of times the null hypothesis was rejected\n",
    "proportion_reject_null_female <- mean(bootstrap_survey_female_calcs$reject_null)\n",
    "proportion_reject_null_male <- mean(bootstrap_survey_male_calcs$reject_null)\n",
    "\n",
    "proportion_reject_null_female\n",
    "proportion_reject_null_male"
   ]
  },
  {
   "cell_type": "code",
   "execution_count": null,
   "id": "5fbfe833-bee0-4517-96b0-7eae7f772c91",
   "metadata": {},
   "outputs": [],
   "source": [
    "options(repr.plot.width = 13, repr.plot.height = 7.5)\n",
    "\n",
    "# Visualize all of the 95% confidence intervals for the female bootstrapping distributions\n",
    "many_ci_plot_female <- bootstrap_survey_female_calcs %>%\n",
    "    ggplot() +\n",
    "    scale_colour_manual(breaks = c(\"TRUE\", \"FALSE\"), # Change colour scale for better visibility.\n",
    "                        values = c(\"light grey\", \"black\")) +\n",
    "    geom_segment(aes(x = lower_ci,\n",
    "                     xend = upper_ci,\n",
    "                     y = replicate,\n",
    "                     yend = replicate,\n",
    "                     colour = \"blue\")) +\n",
    "    geom_vline(xintercept = 0, colour = \"red\", size = 1) +\n",
    "    labs(title = \"1000 95% Confidence Intervals, Female\",\n",
    "         y = \"Replicate\",\n",
    "         x = \"Difference in Proportions\",\n",
    "         colour = \"Captured?\") +\n",
    "    theme_bw() # Sets a theme for better visibility.\n",
    "\n",
    "# Visualize all of the 95% confidence intervals for the male bootstrapping distributions\n",
    "many_ci_plot_male <- bootstrap_survey_male_calcs %>%\n",
    "    ggplot() +\n",
    "    scale_colour_manual(breaks = c(\"TRUE\", \"FALSE\"), # Change colour scale for better visibility.\n",
    "                        values = c(\"light grey\", \"black\")) +\n",
    "    geom_segment(aes(x = lower_ci,\n",
    "                     xend = upper_ci,\n",
    "                     y = replicate,\n",
    "                     yend = replicate,\n",
    "                     colour = \"blue\")) +\n",
    "    geom_vline(xintercept = 0, colour = \"red\", size = 1) +\n",
    "    labs(title = \"1000 95% Confidence Intervals, Male\",\n",
    "         y = \"Replicate\",\n",
    "         x = \"Difference in Proportions\",\n",
    "         colour = \"Captured?\") +\n",
    "    theme_bw() # Sets a theme for better visibility.\n",
    "\n",
    "# Display plots above\n",
    "grid.arrange(many_ci_plot_female,\n",
    "             many_ci_plot_male,\n",
    "             ncol = 2)"
   ]
  },
  {
   "cell_type": "code",
   "execution_count": null,
   "id": "64ca2c35-d412-468d-aa43-8e033ebf83b9",
   "metadata": {},
   "outputs": [],
   "source": [
    "# Display proportion of times 0 is in the confidence interval\n",
    "prorportion_captured_female <- mean(bootstrap_survey_female_calcs$captured)\n",
    "prorportion_captured_male <- mean(bootstrap_survey_male_calcs$captured)\n",
    "\n",
    "prorportion_captured_female\n",
    "prorportion_captured_male"
   ]
  },
  {
   "cell_type": "markdown",
   "id": "16d2ab5a-7ca5-49d5-8523-0556b9f33f30",
   "metadata": {},
   "source": [
    "2 sample z-test\n",
    "- $ p_1 $= proportion of only smoker\n",
    "- $ p_2 $= proportion of only alcohol consumer\n",
    "- $H_0: p_1 - p_2 = 0$ vs $H_1: p_1 - p_2 \\neq 0$\n",
    "\n",
    "To test $H_0$, we use the following test statistic:\n",
    "\n",
    "$$\n",
    "Z = \\frac{\\hat{p}_1 - \\hat{p}_2}{\\sqrt{\\hat{p}(1-\\hat{p})\\left(\\frac{1}{n_1} + \\frac{1}{n_2}\\right)}}\n",
    "$$\n",
    "where $\\hat{p}_1$ and $\\hat{p}_2$ are the sample proportions in samples 1 and 2, respectively; $n$ is the sample size; and $\\hat{p}$ is the pooled proportion, given by: \n",
    "\n",
    "$$\\hat{p} = \\frac{n_1\\hat{p}_1+n_2\\hat{p}_2}{n_1+n_2}$$ from(worksheet 8)"
   ]
  },
  {
   "cell_type": "code",
   "execution_count": null,
   "id": "3c789260-15e9-482f-8551-e698978963c8",
   "metadata": {},
   "outputs": [],
   "source": [
    "# calculate p1 and p2 (female)\n",
    "survey_summary_clean_wrangled <- survey_clean_wrangled %>%\n",
    "    group_by(gender) %>%\n",
    "    summarize(prop_smoking = mean(only_smoking == TRUE),\n",
    "              prop_alcohol = mean(only_drinking == TRUE))\n",
    "\n",
    "# Summarize number of smokers, drinkers, people who did both, and people who did neither\n",
    "survey_num_observations_clean_wrangled <- survey_clean_wrangled %>%\n",
    "    group_by(gender) %>%\n",
    "    summarize(only_smoking_num = sum(only_smoking == TRUE),\n",
    "              only_alcohol_consuming_num = sum(only_drinking== TRUE))\n",
    "\n",
    "survey_summary_clean_wrangled \n",
    "survey_num_observations_clean_wrangled"
   ]
  },
  {
   "cell_type": "code",
   "execution_count": null,
   "id": "098a67b8-fef4-4dc2-8452-1355791537e0",
   "metadata": {},
   "outputs": [],
   "source": [
    "#calculate test statistic for female\n",
    "p1_female <- survey_summary_clean_wrangled$prop_smoking[1]\n",
    "p2_female <- survey_summary_clean_wrangled$prop_alcohol[1]\n",
    "n1_female <- survey_num_observations_clean_wrangled$only_smoking_num[1]\n",
    "n2_female <- survey_num_observations_clean_wrangled$only_alcohol_consuming_num[1]\n",
    "\n",
    "p_hat_female <-  (n1_female * p1_female + n2_female * p2_female) / (n1_female + n2_female) # calculate pooled proportion\n",
    "t.s_female <- z_score_male <- (p1_female - p2_female) / sqrt(p_hat_female * (1 - p_hat_female) * (1 / n1_female + 1 / n2_female))#calculate the test statistic\n",
    "\n",
    "p_hat_female\n",
    "t.s_female"
   ]
  },
  {
   "cell_type": "code",
   "execution_count": null,
   "id": "15f4e2ac-3b9e-44b0-9e1e-f7dac08bc338",
   "metadata": {},
   "outputs": [],
   "source": [
    "#calculate the probabilty when significance level is 0.5\n",
    "p_value_female <- pnorm(t.s_female, lower.tail = FALSE)\n",
    "p_value_female"
   ]
  },
  {
   "cell_type": "markdown",
   "id": "cd53cc5c-6482-44cb-a8fe-bf3ca9751b15",
   "metadata": {},
   "source": [
    "since 0.0513 > 0.05, we fail to reject the null hypothesis, so drinking alcohol and smoking have the samp"
   ]
  },
  {
   "cell_type": "code",
   "execution_count": null,
   "id": "905c28da-1fb7-4a60-b179-e313af9b2498",
   "metadata": {},
   "outputs": [],
   "source": [
    "#calculate test statistic for male\n",
    "p1_male <- survey_summary_clean_wrangled$prop_smoking[2]\n",
    "p2_male <- survey_summary_clean_wrangled$prop_alcohol[2]\n",
    "n1_male <- survey_num_observations_clean_wrangled$only_smoking_num[2]\n",
    "n2_male <- survey_num_observations_clean_wrangled$only_alcohol_consuming_num[2]\n",
    "\n",
    "p_hat_male <-  (n1_male * p1_male + n2_male * p2_male) / (n1_male + n2_male) # calculate pooled proportion\n",
    "t.s_male <- z_score_male <- (p1_male - p2_male) / sqrt(p_hat_male * (1 - p_hat_male) * (1 / n1_male + 1 / n2_male))#calculate the test statistic\n",
    "\n",
    "p_hat_male\n",
    "t.s_male"
   ]
  },
  {
   "cell_type": "code",
   "execution_count": null,
   "id": "b7aca8e7-e3d7-45e4-a5ef-5283d4fa38e3",
   "metadata": {},
   "outputs": [],
   "source": [
    "#calculate the probabilty when significance level is 0.5\n",
    "p_value_male <- pnorm(t.s_male, lower.tail = FALSE)\n",
    "p_value_male"
   ]
  },
  {
   "cell_type": "markdown",
   "id": "de4e7041-f19a-4539-aa60-60740bc3ffae",
   "metadata": {},
   "source": [
    "since 0.96 > 0.05, we fail to reject the null hypothesis, there is no difference in proportion between"
   ]
  }
 ],
 "metadata": {
  "kernelspec": {
   "display_name": "R",
   "language": "R",
   "name": "ir"
  },
  "language_info": {
   "codemirror_mode": "r",
   "file_extension": ".r",
   "mimetype": "text/x-r-source",
   "name": "R",
   "pygments_lexer": "r",
   "version": "4.1.3"
  }
 },
 "nbformat": 4,
 "nbformat_minor": 5
}
