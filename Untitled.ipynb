{
 "cells": [
  {
   "cell_type": "code",
   "execution_count": 7,
   "id": "e0c29e6c-c43e-4340-aa16-dcd7fb41251b",
   "metadata": {},
   "outputs": [],
   "source": [
    "library(tidyverse)\n",
    "library(repr)\n",
    "library(datateachr)\n",
    "library(digest)\n",
    "library(infer)\n",
    "library(gridExtra)\n",
    "library(cowplot)"
   ]
  },
  {
   "cell_type": "code",
   "execution_count": 2,
   "id": "a463cf44-8158-4446-9c04-d40bd5ba7a61",
   "metadata": {},
   "outputs": [
    {
     "data": {
      "text/html": [
       "<table class=\"dataframe\">\n",
       "<caption>A data.frame: 6 × 16</caption>\n",
       "<thead>\n",
       "\t<tr><th></th><th scope=col>GENDER</th><th scope=col>AGE</th><th scope=col>SMOKING</th><th scope=col>YELLOW_FINGERS</th><th scope=col>ANXIETY</th><th scope=col>PEER_PRESSURE</th><th scope=col>CHRONIC.DISEASE</th><th scope=col>FATIGUE</th><th scope=col>ALLERGY</th><th scope=col>WHEEZING</th><th scope=col>ALCOHOL.CONSUMING</th><th scope=col>COUGHING</th><th scope=col>SHORTNESS.OF.BREATH</th><th scope=col>SWALLOWING.DIFFICULTY</th><th scope=col>CHEST.PAIN</th><th scope=col>LUNG_CANCER</th></tr>\n",
       "\t<tr><th></th><th scope=col>&lt;chr&gt;</th><th scope=col>&lt;int&gt;</th><th scope=col>&lt;int&gt;</th><th scope=col>&lt;int&gt;</th><th scope=col>&lt;int&gt;</th><th scope=col>&lt;int&gt;</th><th scope=col>&lt;int&gt;</th><th scope=col>&lt;int&gt;</th><th scope=col>&lt;int&gt;</th><th scope=col>&lt;int&gt;</th><th scope=col>&lt;int&gt;</th><th scope=col>&lt;int&gt;</th><th scope=col>&lt;int&gt;</th><th scope=col>&lt;int&gt;</th><th scope=col>&lt;int&gt;</th><th scope=col>&lt;chr&gt;</th></tr>\n",
       "</thead>\n",
       "<tbody>\n",
       "\t<tr><th scope=row>1</th><td>M</td><td>69</td><td>1</td><td>2</td><td>2</td><td>1</td><td>1</td><td>2</td><td>1</td><td>2</td><td>2</td><td>2</td><td>2</td><td>2</td><td>2</td><td>YES</td></tr>\n",
       "\t<tr><th scope=row>2</th><td>M</td><td>74</td><td>2</td><td>1</td><td>1</td><td>1</td><td>2</td><td>2</td><td>2</td><td>1</td><td>1</td><td>1</td><td>2</td><td>2</td><td>2</td><td>YES</td></tr>\n",
       "\t<tr><th scope=row>3</th><td>F</td><td>59</td><td>1</td><td>1</td><td>1</td><td>2</td><td>1</td><td>2</td><td>1</td><td>2</td><td>1</td><td>2</td><td>2</td><td>1</td><td>2</td><td>NO </td></tr>\n",
       "\t<tr><th scope=row>4</th><td>M</td><td>63</td><td>2</td><td>2</td><td>2</td><td>1</td><td>1</td><td>1</td><td>1</td><td>1</td><td>2</td><td>1</td><td>1</td><td>2</td><td>2</td><td>NO </td></tr>\n",
       "\t<tr><th scope=row>5</th><td>F</td><td>63</td><td>1</td><td>2</td><td>1</td><td>1</td><td>1</td><td>1</td><td>1</td><td>2</td><td>1</td><td>2</td><td>2</td><td>1</td><td>1</td><td>NO </td></tr>\n",
       "\t<tr><th scope=row>6</th><td>F</td><td>75</td><td>1</td><td>2</td><td>1</td><td>1</td><td>2</td><td>2</td><td>2</td><td>2</td><td>1</td><td>2</td><td>2</td><td>1</td><td>1</td><td>YES</td></tr>\n",
       "</tbody>\n",
       "</table>\n"
      ],
      "text/latex": [
       "A data.frame: 6 × 16\n",
       "\\begin{tabular}{r|llllllllllllllll}\n",
       "  & GENDER & AGE & SMOKING & YELLOW\\_FINGERS & ANXIETY & PEER\\_PRESSURE & CHRONIC.DISEASE & FATIGUE & ALLERGY & WHEEZING & ALCOHOL.CONSUMING & COUGHING & SHORTNESS.OF.BREATH & SWALLOWING.DIFFICULTY & CHEST.PAIN & LUNG\\_CANCER\\\\\n",
       "  & <chr> & <int> & <int> & <int> & <int> & <int> & <int> & <int> & <int> & <int> & <int> & <int> & <int> & <int> & <int> & <chr>\\\\\n",
       "\\hline\n",
       "\t1 & M & 69 & 1 & 2 & 2 & 1 & 1 & 2 & 1 & 2 & 2 & 2 & 2 & 2 & 2 & YES\\\\\n",
       "\t2 & M & 74 & 2 & 1 & 1 & 1 & 2 & 2 & 2 & 1 & 1 & 1 & 2 & 2 & 2 & YES\\\\\n",
       "\t3 & F & 59 & 1 & 1 & 1 & 2 & 1 & 2 & 1 & 2 & 1 & 2 & 2 & 1 & 2 & NO \\\\\n",
       "\t4 & M & 63 & 2 & 2 & 2 & 1 & 1 & 1 & 1 & 1 & 2 & 1 & 1 & 2 & 2 & NO \\\\\n",
       "\t5 & F & 63 & 1 & 2 & 1 & 1 & 1 & 1 & 1 & 2 & 1 & 2 & 2 & 1 & 1 & NO \\\\\n",
       "\t6 & F & 75 & 1 & 2 & 1 & 1 & 2 & 2 & 2 & 2 & 1 & 2 & 2 & 1 & 1 & YES\\\\\n",
       "\\end{tabular}\n"
      ],
      "text/markdown": [
       "\n",
       "A data.frame: 6 × 16\n",
       "\n",
       "| <!--/--> | GENDER &lt;chr&gt; | AGE &lt;int&gt; | SMOKING &lt;int&gt; | YELLOW_FINGERS &lt;int&gt; | ANXIETY &lt;int&gt; | PEER_PRESSURE &lt;int&gt; | CHRONIC.DISEASE &lt;int&gt; | FATIGUE &lt;int&gt; | ALLERGY &lt;int&gt; | WHEEZING &lt;int&gt; | ALCOHOL.CONSUMING &lt;int&gt; | COUGHING &lt;int&gt; | SHORTNESS.OF.BREATH &lt;int&gt; | SWALLOWING.DIFFICULTY &lt;int&gt; | CHEST.PAIN &lt;int&gt; | LUNG_CANCER &lt;chr&gt; |\n",
       "|---|---|---|---|---|---|---|---|---|---|---|---|---|---|---|---|---|\n",
       "| 1 | M | 69 | 1 | 2 | 2 | 1 | 1 | 2 | 1 | 2 | 2 | 2 | 2 | 2 | 2 | YES |\n",
       "| 2 | M | 74 | 2 | 1 | 1 | 1 | 2 | 2 | 2 | 1 | 1 | 1 | 2 | 2 | 2 | YES |\n",
       "| 3 | F | 59 | 1 | 1 | 1 | 2 | 1 | 2 | 1 | 2 | 1 | 2 | 2 | 1 | 2 | NO  |\n",
       "| 4 | M | 63 | 2 | 2 | 2 | 1 | 1 | 1 | 1 | 1 | 2 | 1 | 1 | 2 | 2 | NO  |\n",
       "| 5 | F | 63 | 1 | 2 | 1 | 1 | 1 | 1 | 1 | 2 | 1 | 2 | 2 | 1 | 1 | NO  |\n",
       "| 6 | F | 75 | 1 | 2 | 1 | 1 | 2 | 2 | 2 | 2 | 1 | 2 | 2 | 1 | 1 | YES |\n",
       "\n"
      ],
      "text/plain": [
       "  GENDER AGE SMOKING YELLOW_FINGERS ANXIETY PEER_PRESSURE CHRONIC.DISEASE\n",
       "1 M      69  1       2              2       1             1              \n",
       "2 M      74  2       1              1       1             2              \n",
       "3 F      59  1       1              1       2             1              \n",
       "4 M      63  2       2              2       1             1              \n",
       "5 F      63  1       2              1       1             1              \n",
       "6 F      75  1       2              1       1             2              \n",
       "  FATIGUE ALLERGY WHEEZING ALCOHOL.CONSUMING COUGHING SHORTNESS.OF.BREATH\n",
       "1 2       1       2        2                 2        2                  \n",
       "2 2       2       1        1                 1        2                  \n",
       "3 2       1       2        1                 2        2                  \n",
       "4 1       1       1        2                 1        1                  \n",
       "5 1       1       2        1                 2        2                  \n",
       "6 2       2       2        1                 2        2                  \n",
       "  SWALLOWING.DIFFICULTY CHEST.PAIN LUNG_CANCER\n",
       "1 2                     2          YES        \n",
       "2 2                     2          YES        \n",
       "3 1                     2          NO         \n",
       "4 2                     2          NO         \n",
       "5 1                     1          NO         \n",
       "6 1                     1          YES        "
      ]
     },
     "metadata": {},
     "output_type": "display_data"
    }
   ],
   "source": [
    "survey <- read.csv('survey lung cancer.csv')\n",
    "head(survey)"
   ]
  },
  {
   "cell_type": "markdown",
   "id": "a6dc1472-b027-4b8c-96be-e11327ccd091",
   "metadata": {},
   "source": [
    "Descriptions of each row and their data type"
   ]
  },
  {
   "cell_type": "code",
   "execution_count": 6,
   "id": "00cdb1b6-2be5-4c1f-a2a4-8569c6b2276c",
   "metadata": {},
   "outputs": [
    {
     "ename": "ERROR",
     "evalue": "Error in GENDER(chr): could not find function \"GENDER\"\n",
     "output_type": "error",
     "traceback": [
      "Error in GENDER(chr): could not find function \"GENDER\"\nTraceback:\n"
     ]
    }
   ],
   "source": []
  },
  {
   "cell_type": "markdown",
   "id": "b0b918ff-0dd6-4da2-8140-ec1d1646710b",
   "metadata": {},
   "source": [
    "Clean and Wrangle data"
   ]
  },
  {
   "cell_type": "code",
   "execution_count": 14,
   "id": "db955c62-fbe5-45e0-ab7b-283f1c9b5149",
   "metadata": {},
   "outputs": [
    {
     "data": {
      "text/html": [
       "<table class=\"dataframe\">\n",
       "<caption>A data.frame: 6 × 15</caption>\n",
       "<thead>\n",
       "\t<tr><th></th><th scope=col>gender</th><th scope=col>age</th><th scope=col>smoking</th><th scope=col>yellow_fingers</th><th scope=col>anxiety</th><th scope=col>chronic_disease</th><th scope=col>fatigue</th><th scope=col>allergy</th><th scope=col>wheezing</th><th scope=col>alcohol_consuming</th><th scope=col>coughing</th><th scope=col>shortness_of_breath</th><th scope=col>swallowing_difficulty</th><th scope=col>chest_pain</th><th scope=col>lung_cancer</th></tr>\n",
       "\t<tr><th></th><th scope=col>&lt;chr&gt;</th><th scope=col>&lt;int&gt;</th><th scope=col>&lt;lgl&gt;</th><th scope=col>&lt;lgl&gt;</th><th scope=col>&lt;lgl&gt;</th><th scope=col>&lt;lgl&gt;</th><th scope=col>&lt;lgl&gt;</th><th scope=col>&lt;lgl&gt;</th><th scope=col>&lt;lgl&gt;</th><th scope=col>&lt;lgl&gt;</th><th scope=col>&lt;lgl&gt;</th><th scope=col>&lt;lgl&gt;</th><th scope=col>&lt;lgl&gt;</th><th scope=col>&lt;lgl&gt;</th><th scope=col>&lt;lgl&gt;</th></tr>\n",
       "</thead>\n",
       "<tbody>\n",
       "\t<tr><th scope=row>1</th><td>M</td><td>69</td><td>FALSE</td><td> TRUE</td><td> TRUE</td><td>FALSE</td><td> TRUE</td><td>FALSE</td><td> TRUE</td><td> TRUE</td><td> TRUE</td><td> TRUE</td><td> TRUE</td><td> TRUE</td><td> TRUE</td></tr>\n",
       "\t<tr><th scope=row>2</th><td>M</td><td>74</td><td> TRUE</td><td>FALSE</td><td>FALSE</td><td> TRUE</td><td> TRUE</td><td> TRUE</td><td>FALSE</td><td>FALSE</td><td>FALSE</td><td> TRUE</td><td> TRUE</td><td> TRUE</td><td> TRUE</td></tr>\n",
       "\t<tr><th scope=row>3</th><td>F</td><td>59</td><td>FALSE</td><td>FALSE</td><td>FALSE</td><td>FALSE</td><td> TRUE</td><td>FALSE</td><td> TRUE</td><td>FALSE</td><td> TRUE</td><td> TRUE</td><td>FALSE</td><td> TRUE</td><td>FALSE</td></tr>\n",
       "\t<tr><th scope=row>4</th><td>M</td><td>63</td><td> TRUE</td><td> TRUE</td><td> TRUE</td><td>FALSE</td><td>FALSE</td><td>FALSE</td><td>FALSE</td><td> TRUE</td><td>FALSE</td><td>FALSE</td><td> TRUE</td><td> TRUE</td><td>FALSE</td></tr>\n",
       "\t<tr><th scope=row>5</th><td>F</td><td>63</td><td>FALSE</td><td> TRUE</td><td>FALSE</td><td>FALSE</td><td>FALSE</td><td>FALSE</td><td> TRUE</td><td>FALSE</td><td> TRUE</td><td> TRUE</td><td>FALSE</td><td>FALSE</td><td>FALSE</td></tr>\n",
       "\t<tr><th scope=row>6</th><td>F</td><td>75</td><td>FALSE</td><td> TRUE</td><td>FALSE</td><td> TRUE</td><td> TRUE</td><td> TRUE</td><td> TRUE</td><td>FALSE</td><td> TRUE</td><td> TRUE</td><td>FALSE</td><td>FALSE</td><td> TRUE</td></tr>\n",
       "</tbody>\n",
       "</table>\n"
      ],
      "text/latex": [
       "A data.frame: 6 × 15\n",
       "\\begin{tabular}{r|lllllllllllllll}\n",
       "  & gender & age & smoking & yellow\\_fingers & anxiety & chronic\\_disease & fatigue & allergy & wheezing & alcohol\\_consuming & coughing & shortness\\_of\\_breath & swallowing\\_difficulty & chest\\_pain & lung\\_cancer\\\\\n",
       "  & <chr> & <int> & <lgl> & <lgl> & <lgl> & <lgl> & <lgl> & <lgl> & <lgl> & <lgl> & <lgl> & <lgl> & <lgl> & <lgl> & <lgl>\\\\\n",
       "\\hline\n",
       "\t1 & M & 69 & FALSE &  TRUE &  TRUE & FALSE &  TRUE & FALSE &  TRUE &  TRUE &  TRUE &  TRUE &  TRUE &  TRUE &  TRUE\\\\\n",
       "\t2 & M & 74 &  TRUE & FALSE & FALSE &  TRUE &  TRUE &  TRUE & FALSE & FALSE & FALSE &  TRUE &  TRUE &  TRUE &  TRUE\\\\\n",
       "\t3 & F & 59 & FALSE & FALSE & FALSE & FALSE &  TRUE & FALSE &  TRUE & FALSE &  TRUE &  TRUE & FALSE &  TRUE & FALSE\\\\\n",
       "\t4 & M & 63 &  TRUE &  TRUE &  TRUE & FALSE & FALSE & FALSE & FALSE &  TRUE & FALSE & FALSE &  TRUE &  TRUE & FALSE\\\\\n",
       "\t5 & F & 63 & FALSE &  TRUE & FALSE & FALSE & FALSE & FALSE &  TRUE & FALSE &  TRUE &  TRUE & FALSE & FALSE & FALSE\\\\\n",
       "\t6 & F & 75 & FALSE &  TRUE & FALSE &  TRUE &  TRUE &  TRUE &  TRUE & FALSE &  TRUE &  TRUE & FALSE & FALSE &  TRUE\\\\\n",
       "\\end{tabular}\n"
      ],
      "text/markdown": [
       "\n",
       "A data.frame: 6 × 15\n",
       "\n",
       "| <!--/--> | gender &lt;chr&gt; | age &lt;int&gt; | smoking &lt;lgl&gt; | yellow_fingers &lt;lgl&gt; | anxiety &lt;lgl&gt; | chronic_disease &lt;lgl&gt; | fatigue &lt;lgl&gt; | allergy &lt;lgl&gt; | wheezing &lt;lgl&gt; | alcohol_consuming &lt;lgl&gt; | coughing &lt;lgl&gt; | shortness_of_breath &lt;lgl&gt; | swallowing_difficulty &lt;lgl&gt; | chest_pain &lt;lgl&gt; | lung_cancer &lt;lgl&gt; |\n",
       "|---|---|---|---|---|---|---|---|---|---|---|---|---|---|---|---|\n",
       "| 1 | M | 69 | FALSE |  TRUE |  TRUE | FALSE |  TRUE | FALSE |  TRUE |  TRUE |  TRUE |  TRUE |  TRUE |  TRUE |  TRUE |\n",
       "| 2 | M | 74 |  TRUE | FALSE | FALSE |  TRUE |  TRUE |  TRUE | FALSE | FALSE | FALSE |  TRUE |  TRUE |  TRUE |  TRUE |\n",
       "| 3 | F | 59 | FALSE | FALSE | FALSE | FALSE |  TRUE | FALSE |  TRUE | FALSE |  TRUE |  TRUE | FALSE |  TRUE | FALSE |\n",
       "| 4 | M | 63 |  TRUE |  TRUE |  TRUE | FALSE | FALSE | FALSE | FALSE |  TRUE | FALSE | FALSE |  TRUE |  TRUE | FALSE |\n",
       "| 5 | F | 63 | FALSE |  TRUE | FALSE | FALSE | FALSE | FALSE |  TRUE | FALSE |  TRUE |  TRUE | FALSE | FALSE | FALSE |\n",
       "| 6 | F | 75 | FALSE |  TRUE | FALSE |  TRUE |  TRUE |  TRUE |  TRUE | FALSE |  TRUE |  TRUE | FALSE | FALSE |  TRUE |\n",
       "\n"
      ],
      "text/plain": [
       "  gender age smoking yellow_fingers anxiety chronic_disease fatigue allergy\n",
       "1 M      69  FALSE    TRUE           TRUE   FALSE            TRUE   FALSE  \n",
       "2 M      74   TRUE   FALSE          FALSE    TRUE            TRUE    TRUE  \n",
       "3 F      59  FALSE   FALSE          FALSE   FALSE            TRUE   FALSE  \n",
       "4 M      63   TRUE    TRUE           TRUE   FALSE           FALSE   FALSE  \n",
       "5 F      63  FALSE    TRUE          FALSE   FALSE           FALSE   FALSE  \n",
       "6 F      75  FALSE    TRUE          FALSE    TRUE            TRUE    TRUE  \n",
       "  wheezing alcohol_consuming coughing shortness_of_breath swallowing_difficulty\n",
       "1  TRUE     TRUE              TRUE     TRUE                TRUE                \n",
       "2 FALSE    FALSE             FALSE     TRUE                TRUE                \n",
       "3  TRUE    FALSE              TRUE     TRUE               FALSE                \n",
       "4 FALSE     TRUE             FALSE    FALSE                TRUE                \n",
       "5  TRUE    FALSE              TRUE     TRUE               FALSE                \n",
       "6  TRUE    FALSE              TRUE     TRUE               FALSE                \n",
       "  chest_pain lung_cancer\n",
       "1  TRUE       TRUE      \n",
       "2  TRUE       TRUE      \n",
       "3  TRUE      FALSE      \n",
       "4  TRUE      FALSE      \n",
       "5 FALSE      FALSE      \n",
       "6 FALSE       TRUE      "
      ]
     },
     "metadata": {},
     "output_type": "display_data"
    }
   ],
   "source": [
    "#Probably should change survey_2 to something else\n",
    "survey_2 <- survey %>%\n",
    "    summarize(gender = GENDER,\n",
    "              age = AGE,\n",
    "              smoking = SMOKING - 1 == 1,\n",
    "              yellow_fingers = YELLOW_FINGERS - 1 == 1,\n",
    "              anxiety = ANXIETY - 1 == 1,\n",
    "              chronic_disease = CHRONIC.DISEASE - 1 == 1,\n",
    "              fatigue = FATIGUE - 1 == 1,\n",
    "              allergy = ALLERGY - 1 == 1,\n",
    "              wheezing = WHEEZING - 1 == 1,\n",
    "              alcohol_consuming = ALCOHOL.CONSUMING - 1 == 1,\n",
    "              coughing = COUGHING - 1 == 1,\n",
    "              shortness_of_breath = SHORTNESS.OF.BREATH - 1 == 1,\n",
    "              swallowing_difficulty = SWALLOWING.DIFFICULTY - 1 == 1,\n",
    "              chest_pain = CHEST.PAIN - 1 == 1,\n",
    "              lung_cancer = LUNG_CANCER == \"YES\"\n",
    "             )\n",
    "head(survey_2)"
   ]
  },
  {
   "cell_type": "code",
   "execution_count": null,
   "id": "2758d5df-d381-4d21-9c6c-54f9ef0ff51a",
   "metadata": {},
   "outputs": [],
   "source": []
  }
 ],
 "metadata": {
  "kernelspec": {
   "display_name": "R",
   "language": "R",
   "name": "ir"
  },
  "language_info": {
   "codemirror_mode": "r",
   "file_extension": ".r",
   "mimetype": "text/x-r-source",
   "name": "R",
   "pygments_lexer": "r",
   "version": "4.1.3"
  }
 },
 "nbformat": 4,
 "nbformat_minor": 5
}
