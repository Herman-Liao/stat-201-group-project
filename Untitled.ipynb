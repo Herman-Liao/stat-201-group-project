{
 "cells": [
  {
   "cell_type": "code",
   "execution_count": 1,
   "id": "e0c29e6c-c43e-4340-aa16-dcd7fb41251b",
   "metadata": {},
   "outputs": [
    {
     "name": "stderr",
     "output_type": "stream",
     "text": [
      "── \u001b[1mAttaching packages\u001b[22m ─────────────────────────────────────── tidyverse 1.3.2 ──\n",
      "\u001b[32m✔\u001b[39m \u001b[34mggplot2\u001b[39m 3.3.6      \u001b[32m✔\u001b[39m \u001b[34mpurrr  \u001b[39m 0.3.4 \n",
      "\u001b[32m✔\u001b[39m \u001b[34mtibble \u001b[39m 3.1.8      \u001b[32m✔\u001b[39m \u001b[34mdplyr  \u001b[39m 1.0.10\n",
      "\u001b[32m✔\u001b[39m \u001b[34mtidyr  \u001b[39m 1.2.1      \u001b[32m✔\u001b[39m \u001b[34mstringr\u001b[39m 1.4.1 \n",
      "\u001b[32m✔\u001b[39m \u001b[34mreadr  \u001b[39m 2.1.2      \u001b[32m✔\u001b[39m \u001b[34mforcats\u001b[39m 0.5.2 \n",
      "── \u001b[1mConflicts\u001b[22m ────────────────────────────────────────── tidyverse_conflicts() ──\n",
      "\u001b[31m✖\u001b[39m \u001b[34mdplyr\u001b[39m::\u001b[32mfilter()\u001b[39m masks \u001b[34mstats\u001b[39m::filter()\n",
      "\u001b[31m✖\u001b[39m \u001b[34mdplyr\u001b[39m::\u001b[32mlag()\u001b[39m    masks \u001b[34mstats\u001b[39m::lag()\n",
      "\n",
      "Attaching package: ‘gridExtra’\n",
      "\n",
      "\n",
      "The following object is masked from ‘package:dplyr’:\n",
      "\n",
      "    combine\n",
      "\n",
      "\n"
     ]
    }
   ],
   "source": [
    "library(tidyverse)\n",
    "library(repr)\n",
    "library(datateachr)\n",
    "library(digest)\n",
    "library(infer)\n",
    "library(gridExtra)\n",
    "library(cowplot)"
   ]
  },
  {
   "cell_type": "code",
   "execution_count": 2,
   "id": "a463cf44-8158-4446-9c04-d40bd5ba7a61",
   "metadata": {},
   "outputs": [
    {
     "data": {
      "text/html": [
       "<table class=\"dataframe\">\n",
       "<caption>A data.frame: 6 × 16</caption>\n",
       "<thead>\n",
       "\t<tr><th></th><th scope=col>GENDER</th><th scope=col>AGE</th><th scope=col>SMOKING</th><th scope=col>YELLOW_FINGERS</th><th scope=col>ANXIETY</th><th scope=col>PEER_PRESSURE</th><th scope=col>CHRONIC.DISEASE</th><th scope=col>FATIGUE</th><th scope=col>ALLERGY</th><th scope=col>WHEEZING</th><th scope=col>ALCOHOL.CONSUMING</th><th scope=col>COUGHING</th><th scope=col>SHORTNESS.OF.BREATH</th><th scope=col>SWALLOWING.DIFFICULTY</th><th scope=col>CHEST.PAIN</th><th scope=col>LUNG_CANCER</th></tr>\n",
       "\t<tr><th></th><th scope=col>&lt;chr&gt;</th><th scope=col>&lt;int&gt;</th><th scope=col>&lt;int&gt;</th><th scope=col>&lt;int&gt;</th><th scope=col>&lt;int&gt;</th><th scope=col>&lt;int&gt;</th><th scope=col>&lt;int&gt;</th><th scope=col>&lt;int&gt;</th><th scope=col>&lt;int&gt;</th><th scope=col>&lt;int&gt;</th><th scope=col>&lt;int&gt;</th><th scope=col>&lt;int&gt;</th><th scope=col>&lt;int&gt;</th><th scope=col>&lt;int&gt;</th><th scope=col>&lt;int&gt;</th><th scope=col>&lt;chr&gt;</th></tr>\n",
       "</thead>\n",
       "<tbody>\n",
       "\t<tr><th scope=row>1</th><td>M</td><td>69</td><td>1</td><td>2</td><td>2</td><td>1</td><td>1</td><td>2</td><td>1</td><td>2</td><td>2</td><td>2</td><td>2</td><td>2</td><td>2</td><td>YES</td></tr>\n",
       "\t<tr><th scope=row>2</th><td>M</td><td>74</td><td>2</td><td>1</td><td>1</td><td>1</td><td>2</td><td>2</td><td>2</td><td>1</td><td>1</td><td>1</td><td>2</td><td>2</td><td>2</td><td>YES</td></tr>\n",
       "\t<tr><th scope=row>3</th><td>F</td><td>59</td><td>1</td><td>1</td><td>1</td><td>2</td><td>1</td><td>2</td><td>1</td><td>2</td><td>1</td><td>2</td><td>2</td><td>1</td><td>2</td><td>NO </td></tr>\n",
       "\t<tr><th scope=row>4</th><td>M</td><td>63</td><td>2</td><td>2</td><td>2</td><td>1</td><td>1</td><td>1</td><td>1</td><td>1</td><td>2</td><td>1</td><td>1</td><td>2</td><td>2</td><td>NO </td></tr>\n",
       "\t<tr><th scope=row>5</th><td>F</td><td>63</td><td>1</td><td>2</td><td>1</td><td>1</td><td>1</td><td>1</td><td>1</td><td>2</td><td>1</td><td>2</td><td>2</td><td>1</td><td>1</td><td>NO </td></tr>\n",
       "\t<tr><th scope=row>6</th><td>F</td><td>75</td><td>1</td><td>2</td><td>1</td><td>1</td><td>2</td><td>2</td><td>2</td><td>2</td><td>1</td><td>2</td><td>2</td><td>1</td><td>1</td><td>YES</td></tr>\n",
       "</tbody>\n",
       "</table>\n"
      ],
      "text/latex": [
       "A data.frame: 6 × 16\n",
       "\\begin{tabular}{r|llllllllllllllll}\n",
       "  & GENDER & AGE & SMOKING & YELLOW\\_FINGERS & ANXIETY & PEER\\_PRESSURE & CHRONIC.DISEASE & FATIGUE & ALLERGY & WHEEZING & ALCOHOL.CONSUMING & COUGHING & SHORTNESS.OF.BREATH & SWALLOWING.DIFFICULTY & CHEST.PAIN & LUNG\\_CANCER\\\\\n",
       "  & <chr> & <int> & <int> & <int> & <int> & <int> & <int> & <int> & <int> & <int> & <int> & <int> & <int> & <int> & <int> & <chr>\\\\\n",
       "\\hline\n",
       "\t1 & M & 69 & 1 & 2 & 2 & 1 & 1 & 2 & 1 & 2 & 2 & 2 & 2 & 2 & 2 & YES\\\\\n",
       "\t2 & M & 74 & 2 & 1 & 1 & 1 & 2 & 2 & 2 & 1 & 1 & 1 & 2 & 2 & 2 & YES\\\\\n",
       "\t3 & F & 59 & 1 & 1 & 1 & 2 & 1 & 2 & 1 & 2 & 1 & 2 & 2 & 1 & 2 & NO \\\\\n",
       "\t4 & M & 63 & 2 & 2 & 2 & 1 & 1 & 1 & 1 & 1 & 2 & 1 & 1 & 2 & 2 & NO \\\\\n",
       "\t5 & F & 63 & 1 & 2 & 1 & 1 & 1 & 1 & 1 & 2 & 1 & 2 & 2 & 1 & 1 & NO \\\\\n",
       "\t6 & F & 75 & 1 & 2 & 1 & 1 & 2 & 2 & 2 & 2 & 1 & 2 & 2 & 1 & 1 & YES\\\\\n",
       "\\end{tabular}\n"
      ],
      "text/markdown": [
       "\n",
       "A data.frame: 6 × 16\n",
       "\n",
       "| <!--/--> | GENDER &lt;chr&gt; | AGE &lt;int&gt; | SMOKING &lt;int&gt; | YELLOW_FINGERS &lt;int&gt; | ANXIETY &lt;int&gt; | PEER_PRESSURE &lt;int&gt; | CHRONIC.DISEASE &lt;int&gt; | FATIGUE &lt;int&gt; | ALLERGY &lt;int&gt; | WHEEZING &lt;int&gt; | ALCOHOL.CONSUMING &lt;int&gt; | COUGHING &lt;int&gt; | SHORTNESS.OF.BREATH &lt;int&gt; | SWALLOWING.DIFFICULTY &lt;int&gt; | CHEST.PAIN &lt;int&gt; | LUNG_CANCER &lt;chr&gt; |\n",
       "|---|---|---|---|---|---|---|---|---|---|---|---|---|---|---|---|---|\n",
       "| 1 | M | 69 | 1 | 2 | 2 | 1 | 1 | 2 | 1 | 2 | 2 | 2 | 2 | 2 | 2 | YES |\n",
       "| 2 | M | 74 | 2 | 1 | 1 | 1 | 2 | 2 | 2 | 1 | 1 | 1 | 2 | 2 | 2 | YES |\n",
       "| 3 | F | 59 | 1 | 1 | 1 | 2 | 1 | 2 | 1 | 2 | 1 | 2 | 2 | 1 | 2 | NO  |\n",
       "| 4 | M | 63 | 2 | 2 | 2 | 1 | 1 | 1 | 1 | 1 | 2 | 1 | 1 | 2 | 2 | NO  |\n",
       "| 5 | F | 63 | 1 | 2 | 1 | 1 | 1 | 1 | 1 | 2 | 1 | 2 | 2 | 1 | 1 | NO  |\n",
       "| 6 | F | 75 | 1 | 2 | 1 | 1 | 2 | 2 | 2 | 2 | 1 | 2 | 2 | 1 | 1 | YES |\n",
       "\n"
      ],
      "text/plain": [
       "  GENDER AGE SMOKING YELLOW_FINGERS ANXIETY PEER_PRESSURE CHRONIC.DISEASE\n",
       "1 M      69  1       2              2       1             1              \n",
       "2 M      74  2       1              1       1             2              \n",
       "3 F      59  1       1              1       2             1              \n",
       "4 M      63  2       2              2       1             1              \n",
       "5 F      63  1       2              1       1             1              \n",
       "6 F      75  1       2              1       1             2              \n",
       "  FATIGUE ALLERGY WHEEZING ALCOHOL.CONSUMING COUGHING SHORTNESS.OF.BREATH\n",
       "1 2       1       2        2                 2        2                  \n",
       "2 2       2       1        1                 1        2                  \n",
       "3 2       1       2        1                 2        2                  \n",
       "4 1       1       1        2                 1        1                  \n",
       "5 1       1       2        1                 2        2                  \n",
       "6 2       2       2        1                 2        2                  \n",
       "  SWALLOWING.DIFFICULTY CHEST.PAIN LUNG_CANCER\n",
       "1 2                     2          YES        \n",
       "2 2                     2          YES        \n",
       "3 1                     2          NO         \n",
       "4 2                     2          NO         \n",
       "5 1                     1          NO         \n",
       "6 1                     1          YES        "
      ]
     },
     "metadata": {},
     "output_type": "display_data"
    }
   ],
   "source": [
    "survey <- read.csv('survey lung cancer.csv')\n",
    "head(survey)"
   ]
  },
  {
   "cell_type": "markdown",
   "id": "a6dc1472-b027-4b8c-96be-e11327ccd091",
   "metadata": {},
   "source": [
    "<b>Descriptions of each row and their data type"
   ]
  },
  {
   "cell_type": "markdown",
   "id": "1255a0f4-009a-4b04-ad58-c99c7e651a16",
   "metadata": {},
   "source": [
    "A"
   ]
  },
  {
   "cell_type": "markdown",
   "id": "b0b918ff-0dd6-4da2-8140-ec1d1646710b",
   "metadata": {},
   "source": [
    "<b>Clean and Wrangle data"
   ]
  },
  {
   "cell_type": "code",
   "execution_count": 3,
   "id": "db955c62-fbe5-45e0-ab7b-283f1c9b5149",
   "metadata": {},
   "outputs": [
    {
     "data": {
      "text/html": [
       "<table class=\"dataframe\">\n",
       "<caption>A data.frame: 6 × 15</caption>\n",
       "<thead>\n",
       "\t<tr><th></th><th scope=col>gender</th><th scope=col>age</th><th scope=col>smoking</th><th scope=col>yellow_fingers</th><th scope=col>anxiety</th><th scope=col>chronic_disease</th><th scope=col>fatigue</th><th scope=col>allergy</th><th scope=col>wheezing</th><th scope=col>alcohol_consuming</th><th scope=col>coughing</th><th scope=col>shortness_of_breath</th><th scope=col>swallowing_difficulty</th><th scope=col>chest_pain</th><th scope=col>lung_cancer</th></tr>\n",
       "\t<tr><th></th><th scope=col>&lt;chr&gt;</th><th scope=col>&lt;int&gt;</th><th scope=col>&lt;lgl&gt;</th><th scope=col>&lt;lgl&gt;</th><th scope=col>&lt;lgl&gt;</th><th scope=col>&lt;lgl&gt;</th><th scope=col>&lt;lgl&gt;</th><th scope=col>&lt;lgl&gt;</th><th scope=col>&lt;lgl&gt;</th><th scope=col>&lt;lgl&gt;</th><th scope=col>&lt;lgl&gt;</th><th scope=col>&lt;lgl&gt;</th><th scope=col>&lt;lgl&gt;</th><th scope=col>&lt;lgl&gt;</th><th scope=col>&lt;lgl&gt;</th></tr>\n",
       "</thead>\n",
       "<tbody>\n",
       "\t<tr><th scope=row>1</th><td>M</td><td>69</td><td>FALSE</td><td> TRUE</td><td> TRUE</td><td>FALSE</td><td> TRUE</td><td>FALSE</td><td> TRUE</td><td> TRUE</td><td> TRUE</td><td> TRUE</td><td> TRUE</td><td> TRUE</td><td> TRUE</td></tr>\n",
       "\t<tr><th scope=row>2</th><td>M</td><td>74</td><td> TRUE</td><td>FALSE</td><td>FALSE</td><td> TRUE</td><td> TRUE</td><td> TRUE</td><td>FALSE</td><td>FALSE</td><td>FALSE</td><td> TRUE</td><td> TRUE</td><td> TRUE</td><td> TRUE</td></tr>\n",
       "\t<tr><th scope=row>3</th><td>F</td><td>59</td><td>FALSE</td><td>FALSE</td><td>FALSE</td><td>FALSE</td><td> TRUE</td><td>FALSE</td><td> TRUE</td><td>FALSE</td><td> TRUE</td><td> TRUE</td><td>FALSE</td><td> TRUE</td><td>FALSE</td></tr>\n",
       "\t<tr><th scope=row>4</th><td>M</td><td>63</td><td> TRUE</td><td> TRUE</td><td> TRUE</td><td>FALSE</td><td>FALSE</td><td>FALSE</td><td>FALSE</td><td> TRUE</td><td>FALSE</td><td>FALSE</td><td> TRUE</td><td> TRUE</td><td>FALSE</td></tr>\n",
       "\t<tr><th scope=row>5</th><td>F</td><td>63</td><td>FALSE</td><td> TRUE</td><td>FALSE</td><td>FALSE</td><td>FALSE</td><td>FALSE</td><td> TRUE</td><td>FALSE</td><td> TRUE</td><td> TRUE</td><td>FALSE</td><td>FALSE</td><td>FALSE</td></tr>\n",
       "\t<tr><th scope=row>6</th><td>F</td><td>75</td><td>FALSE</td><td> TRUE</td><td>FALSE</td><td> TRUE</td><td> TRUE</td><td> TRUE</td><td> TRUE</td><td>FALSE</td><td> TRUE</td><td> TRUE</td><td>FALSE</td><td>FALSE</td><td> TRUE</td></tr>\n",
       "</tbody>\n",
       "</table>\n"
      ],
      "text/latex": [
       "A data.frame: 6 × 15\n",
       "\\begin{tabular}{r|lllllllllllllll}\n",
       "  & gender & age & smoking & yellow\\_fingers & anxiety & chronic\\_disease & fatigue & allergy & wheezing & alcohol\\_consuming & coughing & shortness\\_of\\_breath & swallowing\\_difficulty & chest\\_pain & lung\\_cancer\\\\\n",
       "  & <chr> & <int> & <lgl> & <lgl> & <lgl> & <lgl> & <lgl> & <lgl> & <lgl> & <lgl> & <lgl> & <lgl> & <lgl> & <lgl> & <lgl>\\\\\n",
       "\\hline\n",
       "\t1 & M & 69 & FALSE &  TRUE &  TRUE & FALSE &  TRUE & FALSE &  TRUE &  TRUE &  TRUE &  TRUE &  TRUE &  TRUE &  TRUE\\\\\n",
       "\t2 & M & 74 &  TRUE & FALSE & FALSE &  TRUE &  TRUE &  TRUE & FALSE & FALSE & FALSE &  TRUE &  TRUE &  TRUE &  TRUE\\\\\n",
       "\t3 & F & 59 & FALSE & FALSE & FALSE & FALSE &  TRUE & FALSE &  TRUE & FALSE &  TRUE &  TRUE & FALSE &  TRUE & FALSE\\\\\n",
       "\t4 & M & 63 &  TRUE &  TRUE &  TRUE & FALSE & FALSE & FALSE & FALSE &  TRUE & FALSE & FALSE &  TRUE &  TRUE & FALSE\\\\\n",
       "\t5 & F & 63 & FALSE &  TRUE & FALSE & FALSE & FALSE & FALSE &  TRUE & FALSE &  TRUE &  TRUE & FALSE & FALSE & FALSE\\\\\n",
       "\t6 & F & 75 & FALSE &  TRUE & FALSE &  TRUE &  TRUE &  TRUE &  TRUE & FALSE &  TRUE &  TRUE & FALSE & FALSE &  TRUE\\\\\n",
       "\\end{tabular}\n"
      ],
      "text/markdown": [
       "\n",
       "A data.frame: 6 × 15\n",
       "\n",
       "| <!--/--> | gender &lt;chr&gt; | age &lt;int&gt; | smoking &lt;lgl&gt; | yellow_fingers &lt;lgl&gt; | anxiety &lt;lgl&gt; | chronic_disease &lt;lgl&gt; | fatigue &lt;lgl&gt; | allergy &lt;lgl&gt; | wheezing &lt;lgl&gt; | alcohol_consuming &lt;lgl&gt; | coughing &lt;lgl&gt; | shortness_of_breath &lt;lgl&gt; | swallowing_difficulty &lt;lgl&gt; | chest_pain &lt;lgl&gt; | lung_cancer &lt;lgl&gt; |\n",
       "|---|---|---|---|---|---|---|---|---|---|---|---|---|---|---|---|\n",
       "| 1 | M | 69 | FALSE |  TRUE |  TRUE | FALSE |  TRUE | FALSE |  TRUE |  TRUE |  TRUE |  TRUE |  TRUE |  TRUE |  TRUE |\n",
       "| 2 | M | 74 |  TRUE | FALSE | FALSE |  TRUE |  TRUE |  TRUE | FALSE | FALSE | FALSE |  TRUE |  TRUE |  TRUE |  TRUE |\n",
       "| 3 | F | 59 | FALSE | FALSE | FALSE | FALSE |  TRUE | FALSE |  TRUE | FALSE |  TRUE |  TRUE | FALSE |  TRUE | FALSE |\n",
       "| 4 | M | 63 |  TRUE |  TRUE |  TRUE | FALSE | FALSE | FALSE | FALSE |  TRUE | FALSE | FALSE |  TRUE |  TRUE | FALSE |\n",
       "| 5 | F | 63 | FALSE |  TRUE | FALSE | FALSE | FALSE | FALSE |  TRUE | FALSE |  TRUE |  TRUE | FALSE | FALSE | FALSE |\n",
       "| 6 | F | 75 | FALSE |  TRUE | FALSE |  TRUE |  TRUE |  TRUE |  TRUE | FALSE |  TRUE |  TRUE | FALSE | FALSE |  TRUE |\n",
       "\n"
      ],
      "text/plain": [
       "  gender age smoking yellow_fingers anxiety chronic_disease fatigue allergy\n",
       "1 M      69  FALSE    TRUE           TRUE   FALSE            TRUE   FALSE  \n",
       "2 M      74   TRUE   FALSE          FALSE    TRUE            TRUE    TRUE  \n",
       "3 F      59  FALSE   FALSE          FALSE   FALSE            TRUE   FALSE  \n",
       "4 M      63   TRUE    TRUE           TRUE   FALSE           FALSE   FALSE  \n",
       "5 F      63  FALSE    TRUE          FALSE   FALSE           FALSE   FALSE  \n",
       "6 F      75  FALSE    TRUE          FALSE    TRUE            TRUE    TRUE  \n",
       "  wheezing alcohol_consuming coughing shortness_of_breath swallowing_difficulty\n",
       "1  TRUE     TRUE              TRUE     TRUE                TRUE                \n",
       "2 FALSE    FALSE             FALSE     TRUE                TRUE                \n",
       "3  TRUE    FALSE              TRUE     TRUE               FALSE                \n",
       "4 FALSE     TRUE             FALSE    FALSE                TRUE                \n",
       "5  TRUE    FALSE              TRUE     TRUE               FALSE                \n",
       "6  TRUE    FALSE              TRUE     TRUE               FALSE                \n",
       "  chest_pain lung_cancer\n",
       "1  TRUE       TRUE      \n",
       "2  TRUE       TRUE      \n",
       "3  TRUE      FALSE      \n",
       "4  TRUE      FALSE      \n",
       "5 FALSE      FALSE      \n",
       "6 FALSE       TRUE      "
      ]
     },
     "metadata": {},
     "output_type": "display_data"
    }
   ],
   "source": [
    "#Probably should change survey_2 to something else\n",
    "survey_2 <- survey %>%\n",
    "    summarize(gender = GENDER,\n",
    "              age = AGE,\n",
    "              smoking = SMOKING - 1 == 1,\n",
    "              yellow_fingers = YELLOW_FINGERS - 1 == 1,\n",
    "              anxiety = ANXIETY - 1 == 1,\n",
    "              chronic_disease = CHRONIC.DISEASE - 1 == 1,\n",
    "              fatigue = FATIGUE - 1 == 1,\n",
    "              allergy = ALLERGY - 1 == 1,\n",
    "              wheezing = WHEEZING - 1 == 1,\n",
    "              alcohol_consuming = ALCOHOL.CONSUMING - 1 == 1,\n",
    "              coughing = COUGHING - 1 == 1,\n",
    "              shortness_of_breath = SHORTNESS.OF.BREATH - 1 == 1,\n",
    "              swallowing_difficulty = SWALLOWING.DIFFICULTY - 1 == 1,\n",
    "              chest_pain = CHEST.PAIN - 1 == 1,\n",
    "              lung_cancer = LUNG_CANCER == \"YES\"\n",
    "             )\n",
    "head(survey_2)"
   ]
  },
  {
   "cell_type": "code",
   "execution_count": 4,
   "id": "2758d5df-d381-4d21-9c6c-54f9ef0ff51a",
   "metadata": {},
   "outputs": [],
   "source": [
    "# Means of catagorical variables: Each observation is equal to 1 if the result is of interest, and 0 otherwise.\n",
    "# Then, when everything is summed, the sum is the number of observations of interest.\n",
    "# This sum is divided by the number of observations. Sounds like both the proportion and mean, right?\n",
    "survey_summary <- survey_2 %>%\n",
    "    summarize(male_prop = mean(gender == \"M\"),\n",
    "              mean_age = mean(age),\n",
    "              smoking_prop = mean(smoking),\n",
    "              yellow_fingers_prop = mean(yellow_fingers),\n",
    "              anxiety_prop = mean(anxiety),\n",
    "              chronic_disease_prop = mean(chronic_disease),\n",
    "              fatigue_prop = mean(fatigue),\n",
    "              allergy_prop = mean(allergy),\n",
    "              wheezing_prop = mean(wheezing),\n",
    "              alcohol_consuming_prop = mean(alcohol_consuming),\n",
    "              coughing_prop = mean(coughing),\n",
    "              shortness_of_breath_prop = mean(shortness_of_breath),\n",
    "              swallowing_difficulty_prop = mean(swallowing_difficulty),\n",
    "              chest_pain_prop = mean(chest_pain),\n",
    "              lung_cancer_prop = mean(lung_cancer)\n",
    "    )"
   ]
  },
  {
   "cell_type": "code",
   "execution_count": 5,
   "id": "5b676e19-8f77-46f3-858f-0c1712c57282",
   "metadata": {},
   "outputs": [
    {
     "data": {
      "text/html": [
       "<table class=\"dataframe\">\n",
       "<caption>A data.frame: 1 × 15</caption>\n",
       "<thead>\n",
       "\t<tr><th></th><th scope=col>male_prop</th><th scope=col>mean_age</th><th scope=col>smoking_prop</th><th scope=col>yellow_fingers_prop</th><th scope=col>anxiety_prop</th><th scope=col>chronic_disease_prop</th><th scope=col>fatigue_prop</th><th scope=col>allergy_prop</th><th scope=col>wheezing_prop</th><th scope=col>alcohol_consuming_prop</th><th scope=col>coughing_prop</th><th scope=col>shortness_of_breath_prop</th><th scope=col>swallowing_difficulty_prop</th><th scope=col>chest_pain_prop</th><th scope=col>lung_cancer_prop</th></tr>\n",
       "\t<tr><th></th><th scope=col>&lt;dbl&gt;</th><th scope=col>&lt;dbl&gt;</th><th scope=col>&lt;dbl&gt;</th><th scope=col>&lt;dbl&gt;</th><th scope=col>&lt;dbl&gt;</th><th scope=col>&lt;dbl&gt;</th><th scope=col>&lt;dbl&gt;</th><th scope=col>&lt;dbl&gt;</th><th scope=col>&lt;dbl&gt;</th><th scope=col>&lt;dbl&gt;</th><th scope=col>&lt;dbl&gt;</th><th scope=col>&lt;dbl&gt;</th><th scope=col>&lt;dbl&gt;</th><th scope=col>&lt;dbl&gt;</th><th scope=col>&lt;dbl&gt;</th></tr>\n",
       "</thead>\n",
       "<tbody>\n",
       "\t<tr><th scope=row>1</th><td>0.5242718</td><td>62.67314</td><td>0.5631068</td><td>0.5695793</td><td>0.4983819</td><td>0.5048544</td><td>0.6731392</td><td>0.5566343</td><td>0.5566343</td><td>0.5566343</td><td>0.579288</td><td>0.6407767</td><td>0.4692557</td><td>0.5566343</td><td>0.8737864</td></tr>\n",
       "</tbody>\n",
       "</table>\n"
      ],
      "text/latex": [
       "A data.frame: 1 × 15\n",
       "\\begin{tabular}{r|lllllllllllllll}\n",
       "  & male\\_prop & mean\\_age & smoking\\_prop & yellow\\_fingers\\_prop & anxiety\\_prop & chronic\\_disease\\_prop & fatigue\\_prop & allergy\\_prop & wheezing\\_prop & alcohol\\_consuming\\_prop & coughing\\_prop & shortness\\_of\\_breath\\_prop & swallowing\\_difficulty\\_prop & chest\\_pain\\_prop & lung\\_cancer\\_prop\\\\\n",
       "  & <dbl> & <dbl> & <dbl> & <dbl> & <dbl> & <dbl> & <dbl> & <dbl> & <dbl> & <dbl> & <dbl> & <dbl> & <dbl> & <dbl> & <dbl>\\\\\n",
       "\\hline\n",
       "\t1 & 0.5242718 & 62.67314 & 0.5631068 & 0.5695793 & 0.4983819 & 0.5048544 & 0.6731392 & 0.5566343 & 0.5566343 & 0.5566343 & 0.579288 & 0.6407767 & 0.4692557 & 0.5566343 & 0.8737864\\\\\n",
       "\\end{tabular}\n"
      ],
      "text/markdown": [
       "\n",
       "A data.frame: 1 × 15\n",
       "\n",
       "| <!--/--> | male_prop &lt;dbl&gt; | mean_age &lt;dbl&gt; | smoking_prop &lt;dbl&gt; | yellow_fingers_prop &lt;dbl&gt; | anxiety_prop &lt;dbl&gt; | chronic_disease_prop &lt;dbl&gt; | fatigue_prop &lt;dbl&gt; | allergy_prop &lt;dbl&gt; | wheezing_prop &lt;dbl&gt; | alcohol_consuming_prop &lt;dbl&gt; | coughing_prop &lt;dbl&gt; | shortness_of_breath_prop &lt;dbl&gt; | swallowing_difficulty_prop &lt;dbl&gt; | chest_pain_prop &lt;dbl&gt; | lung_cancer_prop &lt;dbl&gt; |\n",
       "|---|---|---|---|---|---|---|---|---|---|---|---|---|---|---|---|\n",
       "| 1 | 0.5242718 | 62.67314 | 0.5631068 | 0.5695793 | 0.4983819 | 0.5048544 | 0.6731392 | 0.5566343 | 0.5566343 | 0.5566343 | 0.579288 | 0.6407767 | 0.4692557 | 0.5566343 | 0.8737864 |\n",
       "\n"
      ],
      "text/plain": [
       "  male_prop mean_age smoking_prop yellow_fingers_prop anxiety_prop\n",
       "1 0.5242718 62.67314 0.5631068    0.5695793           0.4983819   \n",
       "  chronic_disease_prop fatigue_prop allergy_prop wheezing_prop\n",
       "1 0.5048544            0.6731392    0.5566343    0.5566343    \n",
       "  alcohol_consuming_prop coughing_prop shortness_of_breath_prop\n",
       "1 0.5566343              0.579288      0.6407767               \n",
       "  swallowing_difficulty_prop chest_pain_prop lung_cancer_prop\n",
       "1 0.4692557                  0.5566343       0.8737864       "
      ]
     },
     "metadata": {},
     "output_type": "display_data"
    },
    {
     "data": {
      "text/html": [
       "<table class=\"dataframe\">\n",
       "<caption>A data.frame: 1 × 16</caption>\n",
       "<thead>\n",
       "\t<tr><th></th><th scope=col>male_prop</th><th scope=col>female_prop</th><th scope=col>mean_age</th><th scope=col>smoking_prop</th><th scope=col>yellow_fingers_prop</th><th scope=col>anxiety_prop</th><th scope=col>chronic_disease_prop</th><th scope=col>fatigue_prop</th><th scope=col>allergy_prop</th><th scope=col>wheezing_prop</th><th scope=col>alcohol_consuming_prop</th><th scope=col>coughing_prop</th><th scope=col>shortness_of_breath_prop</th><th scope=col>swallowing_difficulty_prop</th><th scope=col>chest_pain_prop</th><th scope=col>lung_cancer_prop</th></tr>\n",
       "\t<tr><th></th><th scope=col>&lt;dbl&gt;</th><th scope=col>&lt;dbl&gt;</th><th scope=col>&lt;dbl&gt;</th><th scope=col>&lt;dbl&gt;</th><th scope=col>&lt;dbl&gt;</th><th scope=col>&lt;dbl&gt;</th><th scope=col>&lt;dbl&gt;</th><th scope=col>&lt;dbl&gt;</th><th scope=col>&lt;dbl&gt;</th><th scope=col>&lt;dbl&gt;</th><th scope=col>&lt;dbl&gt;</th><th scope=col>&lt;dbl&gt;</th><th scope=col>&lt;dbl&gt;</th><th scope=col>&lt;dbl&gt;</th><th scope=col>&lt;dbl&gt;</th><th scope=col>&lt;dbl&gt;</th></tr>\n",
       "</thead>\n",
       "<tbody>\n",
       "\t<tr><th scope=row>1</th><td>0.4692557</td><td>0.4045307</td><td>62.67314</td><td>0.5016181</td><td>0.5275081</td><td>0.4595469</td><td>0.4595469</td><td>0.6116505</td><td>0.5404531</td><td>0.5275081</td><td>0.5339806</td><td>0.5469256</td><td>0.5695793</td><td>0.4530744</td><td>0.5177994</td><td>0.8737864</td></tr>\n",
       "</tbody>\n",
       "</table>\n"
      ],
      "text/latex": [
       "A data.frame: 1 × 16\n",
       "\\begin{tabular}{r|llllllllllllllll}\n",
       "  & male\\_prop & female\\_prop & mean\\_age & smoking\\_prop & yellow\\_fingers\\_prop & anxiety\\_prop & chronic\\_disease\\_prop & fatigue\\_prop & allergy\\_prop & wheezing\\_prop & alcohol\\_consuming\\_prop & coughing\\_prop & shortness\\_of\\_breath\\_prop & swallowing\\_difficulty\\_prop & chest\\_pain\\_prop & lung\\_cancer\\_prop\\\\\n",
       "  & <dbl> & <dbl> & <dbl> & <dbl> & <dbl> & <dbl> & <dbl> & <dbl> & <dbl> & <dbl> & <dbl> & <dbl> & <dbl> & <dbl> & <dbl> & <dbl>\\\\\n",
       "\\hline\n",
       "\t1 & 0.4692557 & 0.4045307 & 62.67314 & 0.5016181 & 0.5275081 & 0.4595469 & 0.4595469 & 0.6116505 & 0.5404531 & 0.5275081 & 0.5339806 & 0.5469256 & 0.5695793 & 0.4530744 & 0.5177994 & 0.8737864\\\\\n",
       "\\end{tabular}\n"
      ],
      "text/markdown": [
       "\n",
       "A data.frame: 1 × 16\n",
       "\n",
       "| <!--/--> | male_prop &lt;dbl&gt; | female_prop &lt;dbl&gt; | mean_age &lt;dbl&gt; | smoking_prop &lt;dbl&gt; | yellow_fingers_prop &lt;dbl&gt; | anxiety_prop &lt;dbl&gt; | chronic_disease_prop &lt;dbl&gt; | fatigue_prop &lt;dbl&gt; | allergy_prop &lt;dbl&gt; | wheezing_prop &lt;dbl&gt; | alcohol_consuming_prop &lt;dbl&gt; | coughing_prop &lt;dbl&gt; | shortness_of_breath_prop &lt;dbl&gt; | swallowing_difficulty_prop &lt;dbl&gt; | chest_pain_prop &lt;dbl&gt; | lung_cancer_prop &lt;dbl&gt; |\n",
       "|---|---|---|---|---|---|---|---|---|---|---|---|---|---|---|---|---|\n",
       "| 1 | 0.4692557 | 0.4045307 | 62.67314 | 0.5016181 | 0.5275081 | 0.4595469 | 0.4595469 | 0.6116505 | 0.5404531 | 0.5275081 | 0.5339806 | 0.5469256 | 0.5695793 | 0.4530744 | 0.5177994 | 0.8737864 |\n",
       "\n"
      ],
      "text/plain": [
       "  male_prop female_prop mean_age smoking_prop yellow_fingers_prop anxiety_prop\n",
       "1 0.4692557 0.4045307   62.67314 0.5016181    0.5275081           0.4595469   \n",
       "  chronic_disease_prop fatigue_prop allergy_prop wheezing_prop\n",
       "1 0.4595469            0.6116505    0.5404531    0.5275081    \n",
       "  alcohol_consuming_prop coughing_prop shortness_of_breath_prop\n",
       "1 0.5339806              0.5469256     0.5695793               \n",
       "  swallowing_difficulty_prop chest_pain_prop lung_cancer_prop\n",
       "1 0.4530744                  0.5177994       0.8737864       "
      ]
     },
     "metadata": {},
     "output_type": "display_data"
    }
   ],
   "source": [
    "# Means of catagorical variables: Each observation is equal to 1 if the result is of interest, and 0 otherwise.\n",
    "# Then, when everything is summed, the sum is the number of observations of interest.\n",
    "# This sum is divided by the number of observations. Sounds like both the proportion and mean, right?\n",
    "survey_summary_with_lung_cancer <- survey_2 %>%\n",
    "    summarize(male_prop = mean(gender == \"M\" & lung_cancer),\n",
    "              female_prop = mean(gender == \"F\" & lung_cancer),\n",
    "              mean_age = mean(age),\n",
    "              smoking_prop = mean(smoking & lung_cancer),\n",
    "              yellow_fingers_prop = mean(yellow_fingers & lung_cancer),\n",
    "              anxiety_prop = mean(anxiety & lung_cancer),\n",
    "              chronic_disease_prop = mean(chronic_disease & lung_cancer),\n",
    "              fatigue_prop = mean(fatigue & lung_cancer),\n",
    "              allergy_prop = mean(allergy & lung_cancer),\n",
    "              wheezing_prop = mean(wheezing & lung_cancer),\n",
    "              alcohol_consuming_prop = mean(alcohol_consuming & lung_cancer),\n",
    "              coughing_prop = mean(coughing & lung_cancer),\n",
    "              shortness_of_breath_prop = mean(shortness_of_breath & lung_cancer),\n",
    "              swallowing_difficulty_prop = mean(swallowing_difficulty & lung_cancer),\n",
    "              chest_pain_prop = mean(chest_pain & lung_cancer),\n",
    "              lung_cancer_prop = mean(lung_cancer & lung_cancer)\n",
    "    )\n",
    "head(survey_summary)\n",
    "head(survey_summary_with_lung_cancer)"
   ]
  },
  {
   "cell_type": "code",
   "execution_count": null,
   "id": "99f4646c-51ac-4032-b5d8-e05b3cec6930",
   "metadata": {},
   "outputs": [],
   "source": []
  }
 ],
 "metadata": {
  "kernelspec": {
   "display_name": "R",
   "language": "R",
   "name": "ir"
  },
  "language_info": {
   "codemirror_mode": "r",
   "file_extension": ".r",
   "mimetype": "text/x-r-source",
   "name": "R",
   "pygments_lexer": "r",
   "version": "4.1.3"
  }
 },
 "nbformat": 4,
 "nbformat_minor": 5
}
